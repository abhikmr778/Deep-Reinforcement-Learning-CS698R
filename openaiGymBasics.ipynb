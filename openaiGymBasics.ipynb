{
 "cells": [
  {
   "cell_type": "code",
   "execution_count": 1,
   "source": [
    "import gym\r\n",
    "import matplotlib.pyplot as plt\r\n"
   ],
   "outputs": [],
   "metadata": {}
  },
  {
   "cell_type": "code",
   "execution_count": 2,
   "source": [
    "env = gym.make('MountainCar-v0')"
   ],
   "outputs": [],
   "metadata": {}
  },
  {
   "cell_type": "code",
   "execution_count": 3,
   "source": [
    "# observation space and action space\r\n",
    "\r\n",
    "obs_space = env.observation_space\r\n",
    "action_space = env.action_space\r\n",
    "print('The observation space: {}'.format(obs_space)) # velocity and position\r\n",
    "# middle point between the two mountains is the origin\r\n",
    "print('The action space: {}'.format(action_space))"
   ],
   "outputs": [
    {
     "output_type": "stream",
     "name": "stdout",
     "text": [
      "The observation space: Box(-1.2000000476837158, 0.6000000238418579, (2,), float32)\n",
      "The action space: Discrete(3)\n"
     ]
    }
   ],
   "metadata": {}
  },
  {
   "cell_type": "code",
   "execution_count": 4,
   "source": [
    "# reset: resets the env to initial state and returns initial obs\r\n",
    "# step: takes action and applies on env, env moves to a new state, returns next state, reward, done, info"
   ],
   "outputs": [],
   "metadata": {}
  },
  {
   "cell_type": "code",
   "execution_count": 5,
   "source": [
    "obs = env.reset()\r\n",
    "print(f'Initial observation: {obs}')\r\n",
    "\r\n",
    "random_action = env.action_space.sample()\r\n",
    "\r\n",
    "new_obs, reward, done, info = env.step(random_action)\r\n",
    "print(f'New observation:{new_obs}')"
   ],
   "outputs": [
    {
     "output_type": "stream",
     "name": "stdout",
     "text": [
      "Initial observation: [-0.4274808  0.       ]\n",
      "New observation:[-0.42919174 -0.00171094]\n"
     ]
    }
   ],
   "metadata": {}
  },
  {
   "cell_type": "code",
   "execution_count": 6,
   "source": [
    "env.render(mode=\"human\")\r\n",
    "env.close()"
   ],
   "outputs": [],
   "metadata": {}
  },
  {
   "cell_type": "code",
   "execution_count": 7,
   "source": [
    "env_screen = env.render(mode='rgb_array')\r\n",
    "env.close()\r\n",
    "plt.imshow(env_screen)"
   ],
   "outputs": [
    {
     "output_type": "execute_result",
     "data": {
      "text/plain": [
       "<matplotlib.image.AxesImage at 0x18abcfa7b50>"
      ]
     },
     "metadata": {},
     "execution_count": 7
    },
    {
     "output_type": "display_data",
     "data": {
      "text/plain": [
       "<Figure size 432x288 with 1 Axes>"
      ],
      "image/svg+xml": "<?xml version=\"1.0\" encoding=\"utf-8\" standalone=\"no\"?>\r\n<!DOCTYPE svg PUBLIC \"-//W3C//DTD SVG 1.1//EN\"\r\n  \"http://www.w3.org/Graphics/SVG/1.1/DTD/svg11.dtd\">\r\n<!-- Created with matplotlib (https://matplotlib.org/) -->\r\n<svg height=\"252.045544pt\" version=\"1.1\" viewBox=\"0 0 366.6475 252.045544\" width=\"366.6475pt\" xmlns=\"http://www.w3.org/2000/svg\" xmlns:xlink=\"http://www.w3.org/1999/xlink\">\r\n <metadata>\r\n  <rdf:RDF xmlns:cc=\"http://creativecommons.org/ns#\" xmlns:dc=\"http://purl.org/dc/elements/1.1/\" xmlns:rdf=\"http://www.w3.org/1999/02/22-rdf-syntax-ns#\">\r\n   <cc:Work>\r\n    <dc:type rdf:resource=\"http://purl.org/dc/dcmitype/StillImage\"/>\r\n    <dc:date>2021-09-02T16:25:32.554465</dc:date>\r\n    <dc:format>image/svg+xml</dc:format>\r\n    <dc:creator>\r\n     <cc:Agent>\r\n      <dc:title>Matplotlib v3.3.2, https://matplotlib.org/</dc:title>\r\n     </cc:Agent>\r\n    </dc:creator>\r\n   </cc:Work>\r\n  </rdf:RDF>\r\n </metadata>\r\n <defs>\r\n  <style type=\"text/css\">*{stroke-linecap:butt;stroke-linejoin:round;}</style>\r\n </defs>\r\n <g id=\"figure_1\">\r\n  <g id=\"patch_1\">\r\n   <path d=\"M 0 252.045544 \r\nL 366.6475 252.045544 \r\nL 366.6475 0 \r\nL 0 0 \r\nz\r\n\" style=\"fill:none;\"/>\r\n  </g>\r\n  <g id=\"axes_1\">\r\n   <g id=\"patch_2\">\r\n    <path d=\"M 33.2875 228.167419 \r\nL 359.4475 228.167419 \r\nL 359.4475 10.727419 \r\nL 33.2875 10.727419 \r\nz\r\n\" style=\"fill:#ffffff;\"/>\r\n   </g>\r\n   <g clip-path=\"url(#pb3dd3d664c)\">\r\n    <image height=\"218\" id=\"image890067b188\" transform=\"scale(1 -1)translate(0 -218)\" width=\"327\" x=\"33.2875\" xlink:href=\"data:image/png;base64,\r\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\" y=\"-10.167419\"/>\r\n   </g>\r\n   <g id=\"matplotlib.axis_1\">\r\n    <g id=\"xtick_1\">\r\n     <g id=\"line2d_1\">\r\n      <defs>\r\n       <path d=\"M 0 0 \r\nL 0 3.5 \r\n\" id=\"mbf15625c7d\" style=\"stroke:#000000;stroke-width:0.8;\"/>\r\n      </defs>\r\n      <g>\r\n       <use style=\"stroke:#000000;stroke-width:0.8;\" x=\"33.5593\" xlink:href=\"#mbf15625c7d\" y=\"228.167419\"/>\r\n      </g>\r\n     </g>\r\n     <g id=\"text_1\">\r\n      <!-- 0 -->\r\n      <g transform=\"translate(30.37805 242.765856)scale(0.1 -0.1)\">\r\n       <defs>\r\n        <path d=\"M 31.78125 66.40625 \r\nQ 24.171875 66.40625 20.328125 58.90625 \r\nQ 16.5 51.421875 16.5 36.375 \r\nQ 16.5 21.390625 20.328125 13.890625 \r\nQ 24.171875 6.390625 31.78125 6.390625 \r\nQ 39.453125 6.390625 43.28125 13.890625 \r\nQ 47.125 21.390625 47.125 36.375 \r\nQ 47.125 51.421875 43.28125 58.90625 \r\nQ 39.453125 66.40625 31.78125 66.40625 \r\nz\r\nM 31.78125 74.21875 \r\nQ 44.046875 74.21875 50.515625 64.515625 \r\nQ 56.984375 54.828125 56.984375 36.375 \r\nQ 56.984375 17.96875 50.515625 8.265625 \r\nQ 44.046875 -1.421875 31.78125 -1.421875 \r\nQ 19.53125 -1.421875 13.0625 8.265625 \r\nQ 6.59375 17.96875 6.59375 36.375 \r\nQ 6.59375 54.828125 13.0625 64.515625 \r\nQ 19.53125 74.21875 31.78125 74.21875 \r\nz\r\n\" id=\"DejaVuSans-48\"/>\r\n       </defs>\r\n       <use xlink:href=\"#DejaVuSans-48\"/>\r\n      </g>\r\n     </g>\r\n    </g>\r\n    <g id=\"xtick_2\">\r\n     <g id=\"line2d_2\">\r\n      <g>\r\n       <use style=\"stroke:#000000;stroke-width:0.8;\" x=\"87.9193\" xlink:href=\"#mbf15625c7d\" y=\"228.167419\"/>\r\n      </g>\r\n     </g>\r\n     <g id=\"text_2\">\r\n      <!-- 100 -->\r\n      <g transform=\"translate(78.37555 242.765856)scale(0.1 -0.1)\">\r\n       <defs>\r\n        <path d=\"M 12.40625 8.296875 \r\nL 28.515625 8.296875 \r\nL 28.515625 63.921875 \r\nL 10.984375 60.40625 \r\nL 10.984375 69.390625 \r\nL 28.421875 72.90625 \r\nL 38.28125 72.90625 \r\nL 38.28125 8.296875 \r\nL 54.390625 8.296875 \r\nL 54.390625 0 \r\nL 12.40625 0 \r\nz\r\n\" id=\"DejaVuSans-49\"/>\r\n       </defs>\r\n       <use xlink:href=\"#DejaVuSans-49\"/>\r\n       <use x=\"63.623047\" xlink:href=\"#DejaVuSans-48\"/>\r\n       <use x=\"127.246094\" xlink:href=\"#DejaVuSans-48\"/>\r\n      </g>\r\n     </g>\r\n    </g>\r\n    <g id=\"xtick_3\">\r\n     <g id=\"line2d_3\">\r\n      <g>\r\n       <use style=\"stroke:#000000;stroke-width:0.8;\" x=\"142.2793\" xlink:href=\"#mbf15625c7d\" y=\"228.167419\"/>\r\n      </g>\r\n     </g>\r\n     <g id=\"text_3\">\r\n      <!-- 200 -->\r\n      <g transform=\"translate(132.73555 242.765856)scale(0.1 -0.1)\">\r\n       <defs>\r\n        <path d=\"M 19.1875 8.296875 \r\nL 53.609375 8.296875 \r\nL 53.609375 0 \r\nL 7.328125 0 \r\nL 7.328125 8.296875 \r\nQ 12.9375 14.109375 22.625 23.890625 \r\nQ 32.328125 33.6875 34.8125 36.53125 \r\nQ 39.546875 41.84375 41.421875 45.53125 \r\nQ 43.3125 49.21875 43.3125 52.78125 \r\nQ 43.3125 58.59375 39.234375 62.25 \r\nQ 35.15625 65.921875 28.609375 65.921875 \r\nQ 23.96875 65.921875 18.8125 64.3125 \r\nQ 13.671875 62.703125 7.8125 59.421875 \r\nL 7.8125 69.390625 \r\nQ 13.765625 71.78125 18.9375 73 \r\nQ 24.125 74.21875 28.421875 74.21875 \r\nQ 39.75 74.21875 46.484375 68.546875 \r\nQ 53.21875 62.890625 53.21875 53.421875 \r\nQ 53.21875 48.921875 51.53125 44.890625 \r\nQ 49.859375 40.875 45.40625 35.40625 \r\nQ 44.1875 33.984375 37.640625 27.21875 \r\nQ 31.109375 20.453125 19.1875 8.296875 \r\nz\r\n\" id=\"DejaVuSans-50\"/>\r\n       </defs>\r\n       <use xlink:href=\"#DejaVuSans-50\"/>\r\n       <use x=\"63.623047\" xlink:href=\"#DejaVuSans-48\"/>\r\n       <use x=\"127.246094\" xlink:href=\"#DejaVuSans-48\"/>\r\n      </g>\r\n     </g>\r\n    </g>\r\n    <g id=\"xtick_4\">\r\n     <g id=\"line2d_4\">\r\n      <g>\r\n       <use style=\"stroke:#000000;stroke-width:0.8;\" x=\"196.6393\" xlink:href=\"#mbf15625c7d\" y=\"228.167419\"/>\r\n      </g>\r\n     </g>\r\n     <g id=\"text_4\">\r\n      <!-- 300 -->\r\n      <g transform=\"translate(187.09555 242.765856)scale(0.1 -0.1)\">\r\n       <defs>\r\n        <path d=\"M 40.578125 39.3125 \r\nQ 47.65625 37.796875 51.625 33 \r\nQ 55.609375 28.21875 55.609375 21.1875 \r\nQ 55.609375 10.40625 48.1875 4.484375 \r\nQ 40.765625 -1.421875 27.09375 -1.421875 \r\nQ 22.515625 -1.421875 17.65625 -0.515625 \r\nQ 12.796875 0.390625 7.625 2.203125 \r\nL 7.625 11.71875 \r\nQ 11.71875 9.328125 16.59375 8.109375 \r\nQ 21.484375 6.890625 26.8125 6.890625 \r\nQ 36.078125 6.890625 40.9375 10.546875 \r\nQ 45.796875 14.203125 45.796875 21.1875 \r\nQ 45.796875 27.640625 41.28125 31.265625 \r\nQ 36.765625 34.90625 28.71875 34.90625 \r\nL 20.21875 34.90625 \r\nL 20.21875 43.015625 \r\nL 29.109375 43.015625 \r\nQ 36.375 43.015625 40.234375 45.921875 \r\nQ 44.09375 48.828125 44.09375 54.296875 \r\nQ 44.09375 59.90625 40.109375 62.90625 \r\nQ 36.140625 65.921875 28.71875 65.921875 \r\nQ 24.65625 65.921875 20.015625 65.03125 \r\nQ 15.375 64.15625 9.8125 62.3125 \r\nL 9.8125 71.09375 \r\nQ 15.4375 72.65625 20.34375 73.4375 \r\nQ 25.25 74.21875 29.59375 74.21875 \r\nQ 40.828125 74.21875 47.359375 69.109375 \r\nQ 53.90625 64.015625 53.90625 55.328125 \r\nQ 53.90625 49.265625 50.4375 45.09375 \r\nQ 46.96875 40.921875 40.578125 39.3125 \r\nz\r\n\" id=\"DejaVuSans-51\"/>\r\n       </defs>\r\n       <use xlink:href=\"#DejaVuSans-51\"/>\r\n       <use x=\"63.623047\" xlink:href=\"#DejaVuSans-48\"/>\r\n       <use x=\"127.246094\" xlink:href=\"#DejaVuSans-48\"/>\r\n      </g>\r\n     </g>\r\n    </g>\r\n    <g id=\"xtick_5\">\r\n     <g id=\"line2d_5\">\r\n      <g>\r\n       <use style=\"stroke:#000000;stroke-width:0.8;\" x=\"250.9993\" xlink:href=\"#mbf15625c7d\" y=\"228.167419\"/>\r\n      </g>\r\n     </g>\r\n     <g id=\"text_5\">\r\n      <!-- 400 -->\r\n      <g transform=\"translate(241.45555 242.765856)scale(0.1 -0.1)\">\r\n       <defs>\r\n        <path d=\"M 37.796875 64.3125 \r\nL 12.890625 25.390625 \r\nL 37.796875 25.390625 \r\nz\r\nM 35.203125 72.90625 \r\nL 47.609375 72.90625 \r\nL 47.609375 25.390625 \r\nL 58.015625 25.390625 \r\nL 58.015625 17.1875 \r\nL 47.609375 17.1875 \r\nL 47.609375 0 \r\nL 37.796875 0 \r\nL 37.796875 17.1875 \r\nL 4.890625 17.1875 \r\nL 4.890625 26.703125 \r\nz\r\n\" id=\"DejaVuSans-52\"/>\r\n       </defs>\r\n       <use xlink:href=\"#DejaVuSans-52\"/>\r\n       <use x=\"63.623047\" xlink:href=\"#DejaVuSans-48\"/>\r\n       <use x=\"127.246094\" xlink:href=\"#DejaVuSans-48\"/>\r\n      </g>\r\n     </g>\r\n    </g>\r\n    <g id=\"xtick_6\">\r\n     <g id=\"line2d_6\">\r\n      <g>\r\n       <use style=\"stroke:#000000;stroke-width:0.8;\" x=\"305.3593\" xlink:href=\"#mbf15625c7d\" y=\"228.167419\"/>\r\n      </g>\r\n     </g>\r\n     <g id=\"text_6\">\r\n      <!-- 500 -->\r\n      <g transform=\"translate(295.81555 242.765856)scale(0.1 -0.1)\">\r\n       <defs>\r\n        <path d=\"M 10.796875 72.90625 \r\nL 49.515625 72.90625 \r\nL 49.515625 64.59375 \r\nL 19.828125 64.59375 \r\nL 19.828125 46.734375 \r\nQ 21.96875 47.46875 24.109375 47.828125 \r\nQ 26.265625 48.1875 28.421875 48.1875 \r\nQ 40.625 48.1875 47.75 41.5 \r\nQ 54.890625 34.8125 54.890625 23.390625 \r\nQ 54.890625 11.625 47.5625 5.09375 \r\nQ 40.234375 -1.421875 26.90625 -1.421875 \r\nQ 22.3125 -1.421875 17.546875 -0.640625 \r\nQ 12.796875 0.140625 7.71875 1.703125 \r\nL 7.71875 11.625 \r\nQ 12.109375 9.234375 16.796875 8.0625 \r\nQ 21.484375 6.890625 26.703125 6.890625 \r\nQ 35.15625 6.890625 40.078125 11.328125 \r\nQ 45.015625 15.765625 45.015625 23.390625 \r\nQ 45.015625 31 40.078125 35.4375 \r\nQ 35.15625 39.890625 26.703125 39.890625 \r\nQ 22.75 39.890625 18.8125 39.015625 \r\nQ 14.890625 38.140625 10.796875 36.28125 \r\nz\r\n\" id=\"DejaVuSans-53\"/>\r\n       </defs>\r\n       <use xlink:href=\"#DejaVuSans-53\"/>\r\n       <use x=\"63.623047\" xlink:href=\"#DejaVuSans-48\"/>\r\n       <use x=\"127.246094\" xlink:href=\"#DejaVuSans-48\"/>\r\n      </g>\r\n     </g>\r\n    </g>\r\n   </g>\r\n   <g id=\"matplotlib.axis_2\">\r\n    <g id=\"ytick_1\">\r\n     <g id=\"line2d_7\">\r\n      <defs>\r\n       <path d=\"M 0 0 \r\nL -3.5 0 \r\n\" id=\"mfe2b04cb57\" style=\"stroke:#000000;stroke-width:0.8;\"/>\r\n      </defs>\r\n      <g>\r\n       <use style=\"stroke:#000000;stroke-width:0.8;\" x=\"33.2875\" xlink:href=\"#mfe2b04cb57\" y=\"10.999219\"/>\r\n      </g>\r\n     </g>\r\n     <g id=\"text_7\">\r\n      <!-- 0 -->\r\n      <g transform=\"translate(19.925 14.798438)scale(0.1 -0.1)\">\r\n       <use xlink:href=\"#DejaVuSans-48\"/>\r\n      </g>\r\n     </g>\r\n    </g>\r\n    <g id=\"ytick_2\">\r\n     <g id=\"line2d_8\">\r\n      <g>\r\n       <use style=\"stroke:#000000;stroke-width:0.8;\" x=\"33.2875\" xlink:href=\"#mfe2b04cb57\" y=\"38.179219\"/>\r\n      </g>\r\n     </g>\r\n     <g id=\"text_8\">\r\n      <!-- 50 -->\r\n      <g transform=\"translate(13.5625 41.978438)scale(0.1 -0.1)\">\r\n       <use xlink:href=\"#DejaVuSans-53\"/>\r\n       <use x=\"63.623047\" xlink:href=\"#DejaVuSans-48\"/>\r\n      </g>\r\n     </g>\r\n    </g>\r\n    <g id=\"ytick_3\">\r\n     <g id=\"line2d_9\">\r\n      <g>\r\n       <use style=\"stroke:#000000;stroke-width:0.8;\" x=\"33.2875\" xlink:href=\"#mfe2b04cb57\" y=\"65.359219\"/>\r\n      </g>\r\n     </g>\r\n     <g id=\"text_9\">\r\n      <!-- 100 -->\r\n      <g transform=\"translate(7.2 69.158438)scale(0.1 -0.1)\">\r\n       <use xlink:href=\"#DejaVuSans-49\"/>\r\n       <use x=\"63.623047\" xlink:href=\"#DejaVuSans-48\"/>\r\n       <use x=\"127.246094\" xlink:href=\"#DejaVuSans-48\"/>\r\n      </g>\r\n     </g>\r\n    </g>\r\n    <g id=\"ytick_4\">\r\n     <g id=\"line2d_10\">\r\n      <g>\r\n       <use style=\"stroke:#000000;stroke-width:0.8;\" x=\"33.2875\" xlink:href=\"#mfe2b04cb57\" y=\"92.539219\"/>\r\n      </g>\r\n     </g>\r\n     <g id=\"text_10\">\r\n      <!-- 150 -->\r\n      <g transform=\"translate(7.2 96.338437)scale(0.1 -0.1)\">\r\n       <use xlink:href=\"#DejaVuSans-49\"/>\r\n       <use x=\"63.623047\" xlink:href=\"#DejaVuSans-53\"/>\r\n       <use x=\"127.246094\" xlink:href=\"#DejaVuSans-48\"/>\r\n      </g>\r\n     </g>\r\n    </g>\r\n    <g id=\"ytick_5\">\r\n     <g id=\"line2d_11\">\r\n      <g>\r\n       <use style=\"stroke:#000000;stroke-width:0.8;\" x=\"33.2875\" xlink:href=\"#mfe2b04cb57\" y=\"119.719219\"/>\r\n      </g>\r\n     </g>\r\n     <g id=\"text_11\">\r\n      <!-- 200 -->\r\n      <g transform=\"translate(7.2 123.518438)scale(0.1 -0.1)\">\r\n       <use xlink:href=\"#DejaVuSans-50\"/>\r\n       <use x=\"63.623047\" xlink:href=\"#DejaVuSans-48\"/>\r\n       <use x=\"127.246094\" xlink:href=\"#DejaVuSans-48\"/>\r\n      </g>\r\n     </g>\r\n    </g>\r\n    <g id=\"ytick_6\">\r\n     <g id=\"line2d_12\">\r\n      <g>\r\n       <use style=\"stroke:#000000;stroke-width:0.8;\" x=\"33.2875\" xlink:href=\"#mfe2b04cb57\" y=\"146.899219\"/>\r\n      </g>\r\n     </g>\r\n     <g id=\"text_12\">\r\n      <!-- 250 -->\r\n      <g transform=\"translate(7.2 150.698438)scale(0.1 -0.1)\">\r\n       <use xlink:href=\"#DejaVuSans-50\"/>\r\n       <use x=\"63.623047\" xlink:href=\"#DejaVuSans-53\"/>\r\n       <use x=\"127.246094\" xlink:href=\"#DejaVuSans-48\"/>\r\n      </g>\r\n     </g>\r\n    </g>\r\n    <g id=\"ytick_7\">\r\n     <g id=\"line2d_13\">\r\n      <g>\r\n       <use style=\"stroke:#000000;stroke-width:0.8;\" x=\"33.2875\" xlink:href=\"#mfe2b04cb57\" y=\"174.079219\"/>\r\n      </g>\r\n     </g>\r\n     <g id=\"text_13\">\r\n      <!-- 300 -->\r\n      <g transform=\"translate(7.2 177.878437)scale(0.1 -0.1)\">\r\n       <use xlink:href=\"#DejaVuSans-51\"/>\r\n       <use x=\"63.623047\" xlink:href=\"#DejaVuSans-48\"/>\r\n       <use x=\"127.246094\" xlink:href=\"#DejaVuSans-48\"/>\r\n      </g>\r\n     </g>\r\n    </g>\r\n    <g id=\"ytick_8\">\r\n     <g id=\"line2d_14\">\r\n      <g>\r\n       <use style=\"stroke:#000000;stroke-width:0.8;\" x=\"33.2875\" xlink:href=\"#mfe2b04cb57\" y=\"201.259219\"/>\r\n      </g>\r\n     </g>\r\n     <g id=\"text_14\">\r\n      <!-- 350 -->\r\n      <g transform=\"translate(7.2 205.058437)scale(0.1 -0.1)\">\r\n       <use xlink:href=\"#DejaVuSans-51\"/>\r\n       <use x=\"63.623047\" xlink:href=\"#DejaVuSans-53\"/>\r\n       <use x=\"127.246094\" xlink:href=\"#DejaVuSans-48\"/>\r\n      </g>\r\n     </g>\r\n    </g>\r\n   </g>\r\n   <g id=\"patch_3\">\r\n    <path d=\"M 33.2875 228.167419 \r\nL 33.2875 10.727419 \r\n\" style=\"fill:none;stroke:#000000;stroke-linecap:square;stroke-linejoin:miter;stroke-width:0.8;\"/>\r\n   </g>\r\n   <g id=\"patch_4\">\r\n    <path d=\"M 359.4475 228.167419 \r\nL 359.4475 10.727419 \r\n\" style=\"fill:none;stroke:#000000;stroke-linecap:square;stroke-linejoin:miter;stroke-width:0.8;\"/>\r\n   </g>\r\n   <g id=\"patch_5\">\r\n    <path d=\"M 33.2875 228.167419 \r\nL 359.4475 228.167419 \r\n\" style=\"fill:none;stroke:#000000;stroke-linecap:square;stroke-linejoin:miter;stroke-width:0.8;\"/>\r\n   </g>\r\n   <g id=\"patch_6\">\r\n    <path d=\"M 33.2875 10.727419 \r\nL 359.4475 10.727419 \r\n\" style=\"fill:none;stroke:#000000;stroke-linecap:square;stroke-linejoin:miter;stroke-width:0.8;\"/>\r\n   </g>\r\n  </g>\r\n </g>\r\n <defs>\r\n  <clipPath id=\"pb3dd3d664c\">\r\n   <rect height=\"217.44\" width=\"326.16\" x=\"33.2875\" y=\"10.727419\"/>\r\n  </clipPath>\r\n </defs>\r\n</svg>\r\n",
      "image/png": "[encoded data removed]"
     },
     "metadata": {
      "needs_background": "light"
     }
    }
   ],
   "metadata": {}
  },
  {
   "cell_type": "code",
   "execution_count": 8,
   "source": [
    "import time\r\n",
    "\r\n",
    "num_steps = 1500\r\n",
    "obs = env.reset()\r\n",
    "\r\n",
    "for step in range(num_steps):\r\n",
    "    action = env.action_space.sample()\r\n",
    "\r\n",
    "    obs, reward, done, info = env.step(action)\r\n",
    "\r\n",
    "    env.render()\r\n",
    "\r\n",
    "    time.sleep(0.001)\r\n",
    "\r\n",
    "    if done:\r\n",
    "        env.reset()\r\n",
    "\r\n",
    "env.close()"
   ],
   "outputs": [],
   "metadata": {}
  },
  {
   "cell_type": "markdown",
   "source": [
    "# Spaces"
   ],
   "metadata": {}
  },
  {
   "cell_type": "markdown",
   "source": [
    "Box and Discrete are types of data structures called \"Spaces\" provided by Gym\r\n",
    "\r\n",
    "All of these data structures are derived from the gym.Space base class\r\n",
    "\r\n",
    "## Box"
   ],
   "metadata": {}
  },
  {
   "cell_type": "code",
   "execution_count": 9,
   "source": [
    "type(env.observation_space)"
   ],
   "outputs": [
    {
     "output_type": "execute_result",
     "data": {
      "text/plain": [
       "gym.spaces.box.Box"
      ]
     },
     "metadata": {},
     "execution_count": 9
    }
   ],
   "metadata": {}
  },
  {
   "cell_type": "markdown",
   "source": [
    "Box corresponds to the n-dim continuous space; here n=2 ie a 2D space\r\n",
    "\r\n",
    "The space is bounded by upper and lower limits which describe the legitimate values obs can take\r\n",
    "\r\n",
    "Can determine this using high and low attributes of obs space; these correspond to the max and min positions/velocities our env can take"
   ],
   "metadata": {}
  },
  {
   "cell_type": "code",
   "execution_count": 10,
   "source": [
    "print(f'Upper bound for env obs: {env.observation_space.high}')\r\n",
    "print(f'Lower bound for env obs: {env.observation_space.low}')"
   ],
   "outputs": [
    {
     "output_type": "stream",
     "name": "stdout",
     "text": [
      "Upper bound for env obs: [0.6  0.07]\n",
      "Lower bound for env obs: [-1.2  -0.07]\n"
     ]
    }
   ],
   "metadata": {}
  },
  {
   "cell_type": "markdown",
   "source": [
    "## Discrete\r\n",
    "\r\n",
    "Describes a discrete space with [0,...,n-1] possible values; here n = 3\r\n",
    "\r\n",
    "Meaning our action can take [0,1,2] only\r\n",
    "\r\n",
    "Defines the allowed values strictly\r\n",
    "\r\n",
    "Inputting a non-allowed action value will give an error"
   ],
   "metadata": {}
  },
  {
   "cell_type": "code",
   "execution_count": 12,
   "source": [
    "env.step(2)\r\n",
    "print('Works')\r\n",
    "\r\n",
    "# env.step(4)\r\n",
    "# print('Doesn\\'t works')"
   ],
   "outputs": [
    {
     "output_type": "stream",
     "name": "stdout",
     "text": [
      "Works\n"
     ]
    }
   ],
   "metadata": {}
  },
  {
   "cell_type": "markdown",
   "source": [
    "# Wrappers"
   ],
   "metadata": {}
  },
  {
   "cell_type": "code",
   "execution_count": null,
   "source": [],
   "outputs": [],
   "metadata": {}
  },
  {
   "cell_type": "code",
   "execution_count": null,
   "source": [],
   "outputs": [],
   "metadata": {}
  },
  {
   "cell_type": "code",
   "execution_count": null,
   "source": [],
   "outputs": [],
   "metadata": {}
  },
  {
   "cell_type": "code",
   "execution_count": null,
   "source": [],
   "outputs": [],
   "metadata": {}
  }
 ],
 "metadata": {
  "orig_nbformat": 4,
  "language_info": {
   "name": "python",
   "version": "3.8.10",
   "mimetype": "text/x-python",
   "codemirror_mode": {
    "name": "ipython",
    "version": 3
   },
   "pygments_lexer": "ipython3",
   "nbconvert_exporter": "python",
   "file_extension": ".py"
  },
  "kernelspec": {
   "name": "python3",
   "display_name": "Python 3.8.10 64-bit ('pytorch_env': conda)"
  },
  "interpreter": {
   "hash": "c833507e7eb7af7ca95c7423b09e2995fbfb15583771793a8991c1685b565bec"
  }
 },
 "nbformat": 4,
 "nbformat_minor": 2
}