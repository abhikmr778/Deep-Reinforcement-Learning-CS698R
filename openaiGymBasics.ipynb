{
 "cells": [
  {
   "cell_type": "markdown",
   "source": [
    "# Tutorial followed from https://blog.paperspace.com/getting-started-with-openai-gym/"
   ],
   "metadata": {}
  },
  {
   "cell_type": "code",
   "execution_count": 1,
   "source": [
    "import gym\r\n",
    "import matplotlib.pyplot as plt\r\n"
   ],
   "outputs": [],
   "metadata": {}
  },
  {
   "cell_type": "code",
   "execution_count": 2,
   "source": [
    "env = gym.make('MountainCar-v0')"
   ],
   "outputs": [],
   "metadata": {}
  },
  {
   "cell_type": "code",
   "execution_count": 3,
   "source": [
    "# observation space and action space\r\n",
    "\r\n",
    "obs_space = env.observation_space\r\n",
    "action_space = env.action_space\r\n",
    "print('The observation space: {}'.format(obs_space)) # velocity and position\r\n",
    "# middle point between the two mountains is the origin\r\n",
    "print('The action space: {}'.format(action_space))"
   ],
   "outputs": [
    {
     "output_type": "stream",
     "name": "stdout",
     "text": [
      "The observation space: Box(-1.2000000476837158, 0.6000000238418579, (2,), float32)\n",
      "The action space: Discrete(3)\n"
     ]
    }
   ],
   "metadata": {}
  },
  {
   "cell_type": "code",
   "execution_count": 4,
   "source": [
    "# reset: resets the env to initial state and returns initial obs\r\n",
    "# step: takes action and applies on env, env moves to a new state, returns next state, reward, done, info"
   ],
   "outputs": [],
   "metadata": {}
  },
  {
   "cell_type": "code",
   "execution_count": 5,
   "source": [
    "obs = env.reset()\r\n",
    "print(f'Initial observation: {obs}')\r\n",
    "\r\n",
    "random_action = env.action_space.sample()\r\n",
    "\r\n",
    "new_obs, reward, done, info = env.step(random_action)\r\n",
    "print(f'New observation:{new_obs}')"
   ],
   "outputs": [
    {
     "output_type": "stream",
     "name": "stdout",
     "text": [
      "Initial observation: [-0.59431245  0.        ]\n",
      "New observation:[-5.94786066e-01 -4.73616485e-04]\n"
     ]
    }
   ],
   "metadata": {}
  },
  {
   "cell_type": "code",
   "execution_count": 6,
   "source": [
    "env.render(mode=\"human\")\r\n",
    "env.close()"
   ],
   "outputs": [],
   "metadata": {}
  },
  {
   "cell_type": "code",
   "execution_count": 7,
   "source": [
    "env_screen = env.render(mode='rgb_array')\r\n",
    "env.close()\r\n",
    "plt.imshow(env_screen)"
   ],
   "outputs": [
    {
     "output_type": "execute_result",
     "data": {
      "text/plain": [
       "<matplotlib.image.AxesImage at 0x20d98b4ebb0>"
      ]
     },
     "metadata": {},
     "execution_count": 7
    },
    {
     "output_type": "display_data",
     "data": {
      "text/plain": [
       "<Figure size 432x288 with 1 Axes>"
      ],
      "image/svg+xml": "<?xml version=\"1.0\" encoding=\"utf-8\" standalone=\"no\"?>\r\n<!DOCTYPE svg PUBLIC \"-//W3C//DTD SVG 1.1//EN\"\r\n  \"http://www.w3.org/Graphics/SVG/1.1/DTD/svg11.dtd\">\r\n<!-- Created with matplotlib (https://matplotlib.org/) -->\r\n<svg height=\"252.045544pt\" version=\"1.1\" viewBox=\"0 0 366.6475 252.045544\" width=\"366.6475pt\" xmlns=\"http://www.w3.org/2000/svg\" xmlns:xlink=\"http://www.w3.org/1999/xlink\">\r\n <metadata>\r\n  <rdf:RDF xmlns:cc=\"http://creativecommons.org/ns#\" xmlns:dc=\"http://purl.org/dc/elements/1.1/\" xmlns:rdf=\"http://www.w3.org/1999/02/22-rdf-syntax-ns#\">\r\n   <cc:Work>\r\n    <dc:type rdf:resource=\"http://purl.org/dc/dcmitype/StillImage\"/>\r\n    <dc:date>2021-09-02T17:35:30.443421</dc:date>\r\n    <dc:format>image/svg+xml</dc:format>\r\n    <dc:creator>\r\n     <cc:Agent>\r\n      <dc:title>Matplotlib v3.3.2, https://matplotlib.org/</dc:title>\r\n     </cc:Agent>\r\n    </dc:creator>\r\n   </cc:Work>\r\n  </rdf:RDF>\r\n </metadata>\r\n <defs>\r\n  <style type=\"text/css\">*{stroke-linecap:butt;stroke-linejoin:round;}</style>\r\n </defs>\r\n <g id=\"figure_1\">\r\n  <g id=\"patch_1\">\r\n   <path d=\"M 0 252.045544 \r\nL 366.6475 252.045544 \r\nL 366.6475 0 \r\nL 0 0 \r\nz\r\n\" style=\"fill:none;\"/>\r\n  </g>\r\n  <g id=\"axes_1\">\r\n   <g id=\"patch_2\">\r\n    <path d=\"M 33.2875 228.167419 \r\nL 359.4475 228.167419 \r\nL 359.4475 10.727419 \r\nL 33.2875 10.727419 \r\nz\r\n\" style=\"fill:#ffffff;\"/>\r\n   </g>\r\n   <g clip-path=\"url(#p982eddb08e)\">\r\n    <image height=\"218\" id=\"imageea70c85b7a\" transform=\"scale(1 -1)translate(0 -218)\" width=\"327\" x=\"33.2875\" xlink:href=\"data:image/png;base64,\r\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\" y=\"-10.167419\"/>\r\n   </g>\r\n   <g id=\"matplotlib.axis_1\">\r\n    <g id=\"xtick_1\">\r\n     <g id=\"line2d_1\">\r\n      <defs>\r\n       <path d=\"M 0 0 \r\nL 0 3.5 \r\n\" id=\"mc61dc2a507\" style=\"stroke:#000000;stroke-width:0.8;\"/>\r\n      </defs>\r\n      <g>\r\n       <use style=\"stroke:#000000;stroke-width:0.8;\" x=\"33.5593\" xlink:href=\"#mc61dc2a507\" y=\"228.167419\"/>\r\n      </g>\r\n     </g>\r\n     <g id=\"text_1\">\r\n      <!-- 0 -->\r\n      <g transform=\"translate(30.37805 242.765856)scale(0.1 -0.1)\">\r\n       <defs>\r\n        <path d=\"M 31.78125 66.40625 \r\nQ 24.171875 66.40625 20.328125 58.90625 \r\nQ 16.5 51.421875 16.5 36.375 \r\nQ 16.5 21.390625 20.328125 13.890625 \r\nQ 24.171875 6.390625 31.78125 6.390625 \r\nQ 39.453125 6.390625 43.28125 13.890625 \r\nQ 47.125 21.390625 47.125 36.375 \r\nQ 47.125 51.421875 43.28125 58.90625 \r\nQ 39.453125 66.40625 31.78125 66.40625 \r\nz\r\nM 31.78125 74.21875 \r\nQ 44.046875 74.21875 50.515625 64.515625 \r\nQ 56.984375 54.828125 56.984375 36.375 \r\nQ 56.984375 17.96875 50.515625 8.265625 \r\nQ 44.046875 -1.421875 31.78125 -1.421875 \r\nQ 19.53125 -1.421875 13.0625 8.265625 \r\nQ 6.59375 17.96875 6.59375 36.375 \r\nQ 6.59375 54.828125 13.0625 64.515625 \r\nQ 19.53125 74.21875 31.78125 74.21875 \r\nz\r\n\" id=\"DejaVuSans-48\"/>\r\n       </defs>\r\n       <use xlink:href=\"#DejaVuSans-48\"/>\r\n      </g>\r\n     </g>\r\n    </g>\r\n    <g id=\"xtick_2\">\r\n     <g id=\"line2d_2\">\r\n      <g>\r\n       <use style=\"stroke:#000000;stroke-width:0.8;\" x=\"87.9193\" xlink:href=\"#mc61dc2a507\" y=\"228.167419\"/>\r\n      </g>\r\n     </g>\r\n     <g id=\"text_2\">\r\n      <!-- 100 -->\r\n      <g transform=\"translate(78.37555 242.765856)scale(0.1 -0.1)\">\r\n       <defs>\r\n        <path d=\"M 12.40625 8.296875 \r\nL 28.515625 8.296875 \r\nL 28.515625 63.921875 \r\nL 10.984375 60.40625 \r\nL 10.984375 69.390625 \r\nL 28.421875 72.90625 \r\nL 38.28125 72.90625 \r\nL 38.28125 8.296875 \r\nL 54.390625 8.296875 \r\nL 54.390625 0 \r\nL 12.40625 0 \r\nz\r\n\" id=\"DejaVuSans-49\"/>\r\n       </defs>\r\n       <use xlink:href=\"#DejaVuSans-49\"/>\r\n       <use x=\"63.623047\" xlink:href=\"#DejaVuSans-48\"/>\r\n       <use x=\"127.246094\" xlink:href=\"#DejaVuSans-48\"/>\r\n      </g>\r\n     </g>\r\n    </g>\r\n    <g id=\"xtick_3\">\r\n     <g id=\"line2d_3\">\r\n      <g>\r\n       <use style=\"stroke:#000000;stroke-width:0.8;\" x=\"142.2793\" xlink:href=\"#mc61dc2a507\" y=\"228.167419\"/>\r\n      </g>\r\n     </g>\r\n     <g id=\"text_3\">\r\n      <!-- 200 -->\r\n      <g transform=\"translate(132.73555 242.765856)scale(0.1 -0.1)\">\r\n       <defs>\r\n        <path d=\"M 19.1875 8.296875 \r\nL 53.609375 8.296875 \r\nL 53.609375 0 \r\nL 7.328125 0 \r\nL 7.328125 8.296875 \r\nQ 12.9375 14.109375 22.625 23.890625 \r\nQ 32.328125 33.6875 34.8125 36.53125 \r\nQ 39.546875 41.84375 41.421875 45.53125 \r\nQ 43.3125 49.21875 43.3125 52.78125 \r\nQ 43.3125 58.59375 39.234375 62.25 \r\nQ 35.15625 65.921875 28.609375 65.921875 \r\nQ 23.96875 65.921875 18.8125 64.3125 \r\nQ 13.671875 62.703125 7.8125 59.421875 \r\nL 7.8125 69.390625 \r\nQ 13.765625 71.78125 18.9375 73 \r\nQ 24.125 74.21875 28.421875 74.21875 \r\nQ 39.75 74.21875 46.484375 68.546875 \r\nQ 53.21875 62.890625 53.21875 53.421875 \r\nQ 53.21875 48.921875 51.53125 44.890625 \r\nQ 49.859375 40.875 45.40625 35.40625 \r\nQ 44.1875 33.984375 37.640625 27.21875 \r\nQ 31.109375 20.453125 19.1875 8.296875 \r\nz\r\n\" id=\"DejaVuSans-50\"/>\r\n       </defs>\r\n       <use xlink:href=\"#DejaVuSans-50\"/>\r\n       <use x=\"63.623047\" xlink:href=\"#DejaVuSans-48\"/>\r\n       <use x=\"127.246094\" xlink:href=\"#DejaVuSans-48\"/>\r\n      </g>\r\n     </g>\r\n    </g>\r\n    <g id=\"xtick_4\">\r\n     <g id=\"line2d_4\">\r\n      <g>\r\n       <use style=\"stroke:#000000;stroke-width:0.8;\" x=\"196.6393\" xlink:href=\"#mc61dc2a507\" y=\"228.167419\"/>\r\n      </g>\r\n     </g>\r\n     <g id=\"text_4\">\r\n      <!-- 300 -->\r\n      <g transform=\"translate(187.09555 242.765856)scale(0.1 -0.1)\">\r\n       <defs>\r\n        <path d=\"M 40.578125 39.3125 \r\nQ 47.65625 37.796875 51.625 33 \r\nQ 55.609375 28.21875 55.609375 21.1875 \r\nQ 55.609375 10.40625 48.1875 4.484375 \r\nQ 40.765625 -1.421875 27.09375 -1.421875 \r\nQ 22.515625 -1.421875 17.65625 -0.515625 \r\nQ 12.796875 0.390625 7.625 2.203125 \r\nL 7.625 11.71875 \r\nQ 11.71875 9.328125 16.59375 8.109375 \r\nQ 21.484375 6.890625 26.8125 6.890625 \r\nQ 36.078125 6.890625 40.9375 10.546875 \r\nQ 45.796875 14.203125 45.796875 21.1875 \r\nQ 45.796875 27.640625 41.28125 31.265625 \r\nQ 36.765625 34.90625 28.71875 34.90625 \r\nL 20.21875 34.90625 \r\nL 20.21875 43.015625 \r\nL 29.109375 43.015625 \r\nQ 36.375 43.015625 40.234375 45.921875 \r\nQ 44.09375 48.828125 44.09375 54.296875 \r\nQ 44.09375 59.90625 40.109375 62.90625 \r\nQ 36.140625 65.921875 28.71875 65.921875 \r\nQ 24.65625 65.921875 20.015625 65.03125 \r\nQ 15.375 64.15625 9.8125 62.3125 \r\nL 9.8125 71.09375 \r\nQ 15.4375 72.65625 20.34375 73.4375 \r\nQ 25.25 74.21875 29.59375 74.21875 \r\nQ 40.828125 74.21875 47.359375 69.109375 \r\nQ 53.90625 64.015625 53.90625 55.328125 \r\nQ 53.90625 49.265625 50.4375 45.09375 \r\nQ 46.96875 40.921875 40.578125 39.3125 \r\nz\r\n\" id=\"DejaVuSans-51\"/>\r\n       </defs>\r\n       <use xlink:href=\"#DejaVuSans-51\"/>\r\n       <use x=\"63.623047\" xlink:href=\"#DejaVuSans-48\"/>\r\n       <use x=\"127.246094\" xlink:href=\"#DejaVuSans-48\"/>\r\n      </g>\r\n     </g>\r\n    </g>\r\n    <g id=\"xtick_5\">\r\n     <g id=\"line2d_5\">\r\n      <g>\r\n       <use style=\"stroke:#000000;stroke-width:0.8;\" x=\"250.9993\" xlink:href=\"#mc61dc2a507\" y=\"228.167419\"/>\r\n      </g>\r\n     </g>\r\n     <g id=\"text_5\">\r\n      <!-- 400 -->\r\n      <g transform=\"translate(241.45555 242.765856)scale(0.1 -0.1)\">\r\n       <defs>\r\n        <path d=\"M 37.796875 64.3125 \r\nL 12.890625 25.390625 \r\nL 37.796875 25.390625 \r\nz\r\nM 35.203125 72.90625 \r\nL 47.609375 72.90625 \r\nL 47.609375 25.390625 \r\nL 58.015625 25.390625 \r\nL 58.015625 17.1875 \r\nL 47.609375 17.1875 \r\nL 47.609375 0 \r\nL 37.796875 0 \r\nL 37.796875 17.1875 \r\nL 4.890625 17.1875 \r\nL 4.890625 26.703125 \r\nz\r\n\" id=\"DejaVuSans-52\"/>\r\n       </defs>\r\n       <use xlink:href=\"#DejaVuSans-52\"/>\r\n       <use x=\"63.623047\" xlink:href=\"#DejaVuSans-48\"/>\r\n       <use x=\"127.246094\" xlink:href=\"#DejaVuSans-48\"/>\r\n      </g>\r\n     </g>\r\n    </g>\r\n    <g id=\"xtick_6\">\r\n     <g id=\"line2d_6\">\r\n      <g>\r\n       <use style=\"stroke:#000000;stroke-width:0.8;\" x=\"305.3593\" xlink:href=\"#mc61dc2a507\" y=\"228.167419\"/>\r\n      </g>\r\n     </g>\r\n     <g id=\"text_6\">\r\n      <!-- 500 -->\r\n      <g transform=\"translate(295.81555 242.765856)scale(0.1 -0.1)\">\r\n       <defs>\r\n        <path d=\"M 10.796875 72.90625 \r\nL 49.515625 72.90625 \r\nL 49.515625 64.59375 \r\nL 19.828125 64.59375 \r\nL 19.828125 46.734375 \r\nQ 21.96875 47.46875 24.109375 47.828125 \r\nQ 26.265625 48.1875 28.421875 48.1875 \r\nQ 40.625 48.1875 47.75 41.5 \r\nQ 54.890625 34.8125 54.890625 23.390625 \r\nQ 54.890625 11.625 47.5625 5.09375 \r\nQ 40.234375 -1.421875 26.90625 -1.421875 \r\nQ 22.3125 -1.421875 17.546875 -0.640625 \r\nQ 12.796875 0.140625 7.71875 1.703125 \r\nL 7.71875 11.625 \r\nQ 12.109375 9.234375 16.796875 8.0625 \r\nQ 21.484375 6.890625 26.703125 6.890625 \r\nQ 35.15625 6.890625 40.078125 11.328125 \r\nQ 45.015625 15.765625 45.015625 23.390625 \r\nQ 45.015625 31 40.078125 35.4375 \r\nQ 35.15625 39.890625 26.703125 39.890625 \r\nQ 22.75 39.890625 18.8125 39.015625 \r\nQ 14.890625 38.140625 10.796875 36.28125 \r\nz\r\n\" id=\"DejaVuSans-53\"/>\r\n       </defs>\r\n       <use xlink:href=\"#DejaVuSans-53\"/>\r\n       <use x=\"63.623047\" xlink:href=\"#DejaVuSans-48\"/>\r\n       <use x=\"127.246094\" xlink:href=\"#DejaVuSans-48\"/>\r\n      </g>\r\n     </g>\r\n    </g>\r\n   </g>\r\n   <g id=\"matplotlib.axis_2\">\r\n    <g id=\"ytick_1\">\r\n     <g id=\"line2d_7\">\r\n      <defs>\r\n       <path d=\"M 0 0 \r\nL -3.5 0 \r\n\" id=\"mf88ab118ac\" style=\"stroke:#000000;stroke-width:0.8;\"/>\r\n      </defs>\r\n      <g>\r\n       <use style=\"stroke:#000000;stroke-width:0.8;\" x=\"33.2875\" xlink:href=\"#mf88ab118ac\" y=\"10.999219\"/>\r\n      </g>\r\n     </g>\r\n     <g id=\"text_7\">\r\n      <!-- 0 -->\r\n      <g transform=\"translate(19.925 14.798438)scale(0.1 -0.1)\">\r\n       <use xlink:href=\"#DejaVuSans-48\"/>\r\n      </g>\r\n     </g>\r\n    </g>\r\n    <g id=\"ytick_2\">\r\n     <g id=\"line2d_8\">\r\n      <g>\r\n       <use style=\"stroke:#000000;stroke-width:0.8;\" x=\"33.2875\" xlink:href=\"#mf88ab118ac\" y=\"38.179219\"/>\r\n      </g>\r\n     </g>\r\n     <g id=\"text_8\">\r\n      <!-- 50 -->\r\n      <g transform=\"translate(13.5625 41.978438)scale(0.1 -0.1)\">\r\n       <use xlink:href=\"#DejaVuSans-53\"/>\r\n       <use x=\"63.623047\" xlink:href=\"#DejaVuSans-48\"/>\r\n      </g>\r\n     </g>\r\n    </g>\r\n    <g id=\"ytick_3\">\r\n     <g id=\"line2d_9\">\r\n      <g>\r\n       <use style=\"stroke:#000000;stroke-width:0.8;\" x=\"33.2875\" xlink:href=\"#mf88ab118ac\" y=\"65.359219\"/>\r\n      </g>\r\n     </g>\r\n     <g id=\"text_9\">\r\n      <!-- 100 -->\r\n      <g transform=\"translate(7.2 69.158438)scale(0.1 -0.1)\">\r\n       <use xlink:href=\"#DejaVuSans-49\"/>\r\n       <use x=\"63.623047\" xlink:href=\"#DejaVuSans-48\"/>\r\n       <use x=\"127.246094\" xlink:href=\"#DejaVuSans-48\"/>\r\n      </g>\r\n     </g>\r\n    </g>\r\n    <g id=\"ytick_4\">\r\n     <g id=\"line2d_10\">\r\n      <g>\r\n       <use style=\"stroke:#000000;stroke-width:0.8;\" x=\"33.2875\" xlink:href=\"#mf88ab118ac\" y=\"92.539219\"/>\r\n      </g>\r\n     </g>\r\n     <g id=\"text_10\">\r\n      <!-- 150 -->\r\n      <g transform=\"translate(7.2 96.338437)scale(0.1 -0.1)\">\r\n       <use xlink:href=\"#DejaVuSans-49\"/>\r\n       <use x=\"63.623047\" xlink:href=\"#DejaVuSans-53\"/>\r\n       <use x=\"127.246094\" xlink:href=\"#DejaVuSans-48\"/>\r\n      </g>\r\n     </g>\r\n    </g>\r\n    <g id=\"ytick_5\">\r\n     <g id=\"line2d_11\">\r\n      <g>\r\n       <use style=\"stroke:#000000;stroke-width:0.8;\" x=\"33.2875\" xlink:href=\"#mf88ab118ac\" y=\"119.719219\"/>\r\n      </g>\r\n     </g>\r\n     <g id=\"text_11\">\r\n      <!-- 200 -->\r\n      <g transform=\"translate(7.2 123.518438)scale(0.1 -0.1)\">\r\n       <use xlink:href=\"#DejaVuSans-50\"/>\r\n       <use x=\"63.623047\" xlink:href=\"#DejaVuSans-48\"/>\r\n       <use x=\"127.246094\" xlink:href=\"#DejaVuSans-48\"/>\r\n      </g>\r\n     </g>\r\n    </g>\r\n    <g id=\"ytick_6\">\r\n     <g id=\"line2d_12\">\r\n      <g>\r\n       <use style=\"stroke:#000000;stroke-width:0.8;\" x=\"33.2875\" xlink:href=\"#mf88ab118ac\" y=\"146.899219\"/>\r\n      </g>\r\n     </g>\r\n     <g id=\"text_12\">\r\n      <!-- 250 -->\r\n      <g transform=\"translate(7.2 150.698438)scale(0.1 -0.1)\">\r\n       <use xlink:href=\"#DejaVuSans-50\"/>\r\n       <use x=\"63.623047\" xlink:href=\"#DejaVuSans-53\"/>\r\n       <use x=\"127.246094\" xlink:href=\"#DejaVuSans-48\"/>\r\n      </g>\r\n     </g>\r\n    </g>\r\n    <g id=\"ytick_7\">\r\n     <g id=\"line2d_13\">\r\n      <g>\r\n       <use style=\"stroke:#000000;stroke-width:0.8;\" x=\"33.2875\" xlink:href=\"#mf88ab118ac\" y=\"174.079219\"/>\r\n      </g>\r\n     </g>\r\n     <g id=\"text_13\">\r\n      <!-- 300 -->\r\n      <g transform=\"translate(7.2 177.878437)scale(0.1 -0.1)\">\r\n       <use xlink:href=\"#DejaVuSans-51\"/>\r\n       <use x=\"63.623047\" xlink:href=\"#DejaVuSans-48\"/>\r\n       <use x=\"127.246094\" xlink:href=\"#DejaVuSans-48\"/>\r\n      </g>\r\n     </g>\r\n    </g>\r\n    <g id=\"ytick_8\">\r\n     <g id=\"line2d_14\">\r\n      <g>\r\n       <use style=\"stroke:#000000;stroke-width:0.8;\" x=\"33.2875\" xlink:href=\"#mf88ab118ac\" y=\"201.259219\"/>\r\n      </g>\r\n     </g>\r\n     <g id=\"text_14\">\r\n      <!-- 350 -->\r\n      <g transform=\"translate(7.2 205.058437)scale(0.1 -0.1)\">\r\n       <use xlink:href=\"#DejaVuSans-51\"/>\r\n       <use x=\"63.623047\" xlink:href=\"#DejaVuSans-53\"/>\r\n       <use x=\"127.246094\" xlink:href=\"#DejaVuSans-48\"/>\r\n      </g>\r\n     </g>\r\n    </g>\r\n   </g>\r\n   <g id=\"patch_3\">\r\n    <path d=\"M 33.2875 228.167419 \r\nL 33.2875 10.727419 \r\n\" style=\"fill:none;stroke:#000000;stroke-linecap:square;stroke-linejoin:miter;stroke-width:0.8;\"/>\r\n   </g>\r\n   <g id=\"patch_4\">\r\n    <path d=\"M 359.4475 228.167419 \r\nL 359.4475 10.727419 \r\n\" style=\"fill:none;stroke:#000000;stroke-linecap:square;stroke-linejoin:miter;stroke-width:0.8;\"/>\r\n   </g>\r\n   <g id=\"patch_5\">\r\n    <path d=\"M 33.2875 228.167419 \r\nL 359.4475 228.167419 \r\n\" style=\"fill:none;stroke:#000000;stroke-linecap:square;stroke-linejoin:miter;stroke-width:0.8;\"/>\r\n   </g>\r\n   <g id=\"patch_6\">\r\n    <path d=\"M 33.2875 10.727419 \r\nL 359.4475 10.727419 \r\n\" style=\"fill:none;stroke:#000000;stroke-linecap:square;stroke-linejoin:miter;stroke-width:0.8;\"/>\r\n   </g>\r\n  </g>\r\n </g>\r\n <defs>\r\n  <clipPath id=\"p982eddb08e\">\r\n   <rect height=\"217.44\" width=\"326.16\" x=\"33.2875\" y=\"10.727419\"/>\r\n  </clipPath>\r\n </defs>\r\n</svg>\r\n",
      "image/png": "[encoded data removed]"
     },
     "metadata": {
      "needs_background": "light"
     }
    }
   ],
   "metadata": {}
  },
  {
   "cell_type": "code",
   "execution_count": 8,
   "source": [
    "import time\r\n",
    "\r\n",
    "num_steps = 1500\r\n",
    "obs = env.reset()\r\n",
    "\r\n",
    "for step in range(num_steps):\r\n",
    "    action = env.action_space.sample()\r\n",
    "\r\n",
    "    obs, reward, done, info = env.step(action)\r\n",
    "\r\n",
    "    env.render()\r\n",
    "\r\n",
    "    time.sleep(0.001)\r\n",
    "\r\n",
    "    if done:\r\n",
    "        env.reset()\r\n",
    "\r\n",
    "env.close()"
   ],
   "outputs": [],
   "metadata": {}
  },
  {
   "cell_type": "markdown",
   "source": [
    "# Spaces"
   ],
   "metadata": {}
  },
  {
   "cell_type": "markdown",
   "source": [
    "Box and Discrete are types of data structures called \"Spaces\" provided by Gym\r\n",
    "\r\n",
    "All of these data structures are derived from the gym.Space base class\r\n",
    "\r\n",
    "## Box"
   ],
   "metadata": {}
  },
  {
   "cell_type": "code",
   "execution_count": 9,
   "source": [
    "type(env.observation_space)"
   ],
   "outputs": [
    {
     "output_type": "execute_result",
     "data": {
      "text/plain": [
       "gym.spaces.box.Box"
      ]
     },
     "metadata": {},
     "execution_count": 9
    }
   ],
   "metadata": {}
  },
  {
   "cell_type": "markdown",
   "source": [
    "Box corresponds to the n-dim continuous space; here n=2 ie a 2D space\r\n",
    "\r\n",
    "The space is bounded by upper and lower limits which describe the legitimate values obs can take\r\n",
    "\r\n",
    "Can determine this using high and low attributes of obs space; these correspond to the max and min positions/velocities our env can take"
   ],
   "metadata": {}
  },
  {
   "cell_type": "code",
   "execution_count": 10,
   "source": [
    "print(f'Upper bound for env obs: {env.observation_space.high}')\r\n",
    "print(f'Lower bound for env obs: {env.observation_space.low}')"
   ],
   "outputs": [
    {
     "output_type": "stream",
     "name": "stdout",
     "text": [
      "Upper bound for env obs: [0.6  0.07]\n",
      "Lower bound for env obs: [-1.2  -0.07]\n"
     ]
    }
   ],
   "metadata": {}
  },
  {
   "cell_type": "markdown",
   "source": [
    "## Discrete\r\n",
    "\r\n",
    "Describes a discrete space with [0,...,n-1] possible values; here n = 3\r\n",
    "\r\n",
    "Meaning our action can take [0,1,2] only\r\n",
    "\r\n",
    "Defines the allowed values strictly\r\n",
    "\r\n",
    "Inputting a non-allowed action value will give an error"
   ],
   "metadata": {}
  },
  {
   "cell_type": "code",
   "execution_count": 11,
   "source": [
    "env.step(2)\r\n",
    "print('Works')\r\n",
    "\r\n",
    "# env.step(4)\r\n",
    "# print('Doesn\\'t works')"
   ],
   "outputs": [
    {
     "output_type": "stream",
     "name": "stdout",
     "text": [
      "Works\n"
     ]
    }
   ],
   "metadata": {}
  },
  {
   "cell_type": "markdown",
   "source": [
    "# Wrappers\r\n",
    "\r\n",
    "Wrapper class provides with the functionality to modify various parts of an env\r\n",
    "\r\n",
    "Using Atari Breakout with random actions to showcase this"
   ],
   "metadata": {}
  },
  {
   "cell_type": "code",
   "execution_count": 12,
   "source": [
    "env = gym.make('BreakoutNoFrameskip-v4')\r\n",
    "print(f'Observation Space:{env.observation_space}')\r\n",
    "print(f'Action Space: {env.action_space}')"
   ],
   "outputs": [
    {
     "output_type": "stream",
     "name": "stdout",
     "text": [
      "Observation Space:Box(0, 255, (210, 160, 3), uint8)\n",
      "Action Space: Discrete(4)\n"
     ]
    }
   ],
   "metadata": {}
  },
  {
   "cell_type": "code",
   "execution_count": 13,
   "source": [
    "obs = env.reset()\r\n",
    "\r\n",
    "for i in range(1000):\r\n",
    "    action = env.action_space.sample()\r\n",
    "    obs, reward, done, info = env.step(action)\r\n",
    "    env.render()\r\n",
    "    time.sleep(0.01)\r\n",
    "env.close()"
   ],
   "outputs": [],
   "metadata": {}
  },
  {
   "cell_type": "markdown",
   "source": [
    "Now that we have our environment loaded, let us suppose we have to make certain changes to the Atari Environment. It's a common practice in Deep RL that we construct our observation by concatenating the past k frames together. We have to modify the Breakout Environment such that both our reset and step functions return concatenated observations"
   ],
   "metadata": {}
  },
  {
   "cell_type": "code",
   "execution_count": 14,
   "source": [
    "from collections import deque\r\n",
    "from gym import spaces\r\n",
    "import numpy as np      "
   ],
   "outputs": [],
   "metadata": {}
  },
  {
   "cell_type": "code",
   "execution_count": 15,
   "source": [
    "class concatObs(gym.Wrapper):\r\n",
    "    def __init__(self, env, k):\r\n",
    "        gym.Wrapper.__init__(self, env)\r\n",
    "        self.k = k\r\n",
    "        self.frames = deque([], maxlen=k)\r\n",
    "        shp = env.observation_space.shape\r\n",
    "        self.observation_space = \\\r\n",
    "            spaces.Box(low=0, high=255, shape=((k,)+shp), dtype=env.observation_space.dtype)\r\n",
    "\r\n",
    "    def reset(self):\r\n",
    "        ob = self.env.reset()\r\n",
    "        for _ in range(self.k):\r\n",
    "            self.frames.append(obs)\r\n",
    "        return self._get_ob()\r\n",
    "    \r\n",
    "    def step(self, action):\r\n",
    "        ob, reward, done, info = self.env.step(action)\r\n",
    "        self.frames.append(ob)\r\n",
    "        return self._get_ob(), reward, done, info\r\n",
    "\r\n",
    "    def _get_ob(self):\r\n",
    "        return np.array(self.frames)"
   ],
   "outputs": [],
   "metadata": {}
  },
  {
   "cell_type": "markdown",
   "source": [
    "Now, to effectively get our modified environment, we wrap our environment Env in the wrapper we just created."
   ],
   "metadata": {}
  },
  {
   "cell_type": "code",
   "execution_count": 16,
   "source": [
    "env = gym.make(\"BreakoutNoFrameskip-v4\")\r\n",
    "wrapped_env = concatObs(env, 4)\r\n",
    "print(f'The new observation space is: {wrapped_env.observation_space}')"
   ],
   "outputs": [
    {
     "output_type": "stream",
     "name": "stdout",
     "text": [
      "The new observation space is: Box(0, 255, (4, 210, 160, 3), uint8)\n"
     ]
    }
   ],
   "metadata": {}
  },
  {
   "cell_type": "code",
   "execution_count": 17,
   "source": [
    "obs = wrapped_env.reset()\r\n",
    "print(f'Initial obs is of the shape: {obs.shape}')\r\n",
    "\r\n",
    "obs, _, _, _ = wrapped_env.step(2)\r\n",
    "print(f'Obs after taking a step is: {obs.shape}')"
   ],
   "outputs": [
    {
     "output_type": "stream",
     "name": "stdout",
     "text": [
      "Initial obs is of the shape: (4, 210, 160, 3)\n",
      "Obs after taking a step is: (4, 210, 160, 3)\n"
     ]
    }
   ],
   "metadata": {}
  },
  {
   "cell_type": "markdown",
   "source": [
    "There is more to Wrappers than the vanilla Wrapper class. Gym also provides you with specific wrappers that target specific elements of the environment, such as observations, rewards, and actions. Their use is demonstrated in the following section.\r\n",
    "\r\n",
    "1. ObservationWrapper: This helps us make changes to the observation using the observation method of the wrapper class.\r\n",
    "2. RewardWrapper: This helps us make changes to the reward using the reward function of the wrapper class.\r\n",
    "3. ActionWrapper: This helps us make changes to the action using the action function of the wrapper class.\r\n",
    "\r\n",
    "Let us suppose that we have to make the follow changes to our environment:\r\n",
    "\r\n",
    "1. We have to normalize the pixel observations by 255.\r\n",
    "2. We have to clip the rewards between 0 and 1.\r\n",
    "3. We have to prevent the slider from moving to the left (action 3)."
   ],
   "metadata": {}
  },
  {
   "cell_type": "code",
   "execution_count": 18,
   "source": [
    "import random\r\n",
    "\r\n",
    "class ObservationWrapper(gym.ObservationWrapper):\r\n",
    "    def __init__(self, env):\r\n",
    "        super().__init__(env)\r\n",
    "    \r\n",
    "    def observation(self, obs):\r\n",
    "        # normalize with 255\r\n",
    "        return obs/255.0\r\n",
    "\r\n",
    "class RewardWrapper(gym.RewardWrapper):\r\n",
    "    def __init__(self, env):\r\n",
    "        super().__init__(env)\r\n",
    "    \r\n",
    "    def reward(self, reward):\r\n",
    "        # clip reward bw 0 and 1\r\n",
    "        return np.clip(reward,0,1)\r\n",
    "\r\n",
    "class ActionWrapper(gym.ActionWrapper):\r\n",
    "    def __init__(self, env):\r\n",
    "        super().__init__(env)\r\n",
    "    \r\n",
    "    def action(self, action):\r\n",
    "        if action == 3:\r\n",
    "            return random.choice([0,1,2])\r\n",
    "        else: \r\n",
    "            return action"
   ],
   "outputs": [],
   "metadata": {}
  },
  {
   "cell_type": "code",
   "execution_count": 19,
   "source": [
    "env = gym.make('BreakoutNoFrameskip-v4')\r\n",
    "wrapped_env = ObservationWrapper(RewardWrapper(ActionWrapper(env)))\r\n",
    "\r\n",
    "obs = wrapped_env.reset()\r\n",
    "\r\n",
    "for step in range(500):\r\n",
    "    action = wrapped_env.action_space.sample()\r\n",
    "    obs, reward, done, info = wrapped_env.step(action)\r\n",
    "\r\n",
    "    if (obs>1.0).any() or (obs < 0.0).any():\r\n",
    "        print('Obs value out of range [0,1]') \r\n",
    "\r\n",
    "    if reward < 0.0 or reward > 1.0:\r\n",
    "        assert False, \"Reward out of bounds\"\r\n",
    "\r\n",
    "    # check if slider moves left or not\r\n",
    "    wrapped_env.render()\r\n",
    "\r\n",
    "    time.sleep(0.001)\r\n",
    "\r\n",
    "wrapped_env.close()\r\n",
    "\r\n",
    "print('All checks passed')"
   ],
   "outputs": [
    {
     "output_type": "stream",
     "name": "stdout",
     "text": [
      "All checks passed\n"
     ]
    }
   ],
   "metadata": {}
  },
  {
   "cell_type": "code",
   "execution_count": 20,
   "source": [
    "print(\"Wrapped Env:\", wrapped_env)\r\n",
    "print(\"Unwrapped Env\", wrapped_env.unwrapped)\r\n",
    "print(\"Getting the meaning of actions\", wrapped_env.unwrapped.get_action_meanings())"
   ],
   "outputs": [
    {
     "output_type": "stream",
     "name": "stdout",
     "text": [
      "Wrapped Env: <ObservationWrapper<RewardWrapper<ActionWrapper<TimeLimit<AtariEnv<BreakoutNoFrameskip-v4>>>>>>\n",
      "Unwrapped Env <AtariEnv<BreakoutNoFrameskip-v4>>\n",
      "Getting the meaning of actions ['NOOP', 'FIRE', 'RIGHT', 'LEFT']\n"
     ]
    }
   ],
   "metadata": {}
  },
  {
   "cell_type": "markdown",
   "source": [],
   "metadata": {}
  },
  {
   "cell_type": "code",
   "execution_count": null,
   "source": [
    "\r\n"
   ],
   "outputs": [],
   "metadata": {}
  },
  {
   "cell_type": "code",
   "execution_count": null,
   "source": [],
   "outputs": [],
   "metadata": {}
  }
 ],
 "metadata": {
  "orig_nbformat": 4,
  "language_info": {
   "name": "python",
   "version": "3.8.10",
   "mimetype": "text/x-python",
   "codemirror_mode": {
    "name": "ipython",
    "version": 3
   },
   "pygments_lexer": "ipython3",
   "nbconvert_exporter": "python",
   "file_extension": ".py"
  },
  "kernelspec": {
   "name": "python3",
   "display_name": "Python 3.8.10 64-bit ('pytorch_env': conda)"
  },
  "interpreter": {
   "hash": "c833507e7eb7af7ca95c7423b09e2995fbfb15583771793a8991c1685b565bec"
  }
 },
 "nbformat": 4,
 "nbformat_minor": 2
}