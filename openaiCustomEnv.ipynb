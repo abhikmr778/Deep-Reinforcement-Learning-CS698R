{
 "cells": [
  {
   "cell_type": "markdown",
   "source": [
    "# Tutorial followed from https://blog.paperspace.com/creating-custom-environments-openai-gym/"
   ],
   "metadata": {}
  },
  {
   "cell_type": "code",
   "execution_count": 70,
   "source": [
    "import numpy as np\r\n",
    "import cv2\r\n",
    "import matplotlib.pyplot as plt\r\n",
    "import PIL.Image as Image\r\n",
    "import gym\r\n",
    "import random\r\n",
    "import jdc\r\n",
    "\r\n",
    "from gym import Env, spaces\r\n",
    "import time \r\n",
    "font = cv2.FONT_HERSHEY_COMPLEX_SMALL"
   ],
   "outputs": [],
   "metadata": {}
  },
  {
   "cell_type": "markdown",
   "source": [
    "The environment that we are creating is basically a game that is heavily inspired by the Dino Run game, the one which you play in Google Chrome if you are disconnected from the Internet. There is a dinosaur, and you have to jump over cacti and avoid hitting birds. The distance you cover is representative of the reward you end up getting."
   ],
   "metadata": {}
  },
  {
   "cell_type": "markdown",
   "source": [
    "In our game, instead of a dinosaur, our agent is going to be a Chopper pilot.\r\n",
    "\r\n",
    "1. The chopper has to cover as much distance as possible to get the maximum reward. There will be birds  that the chopper has to avoid.\r\n",
    "2. The episode terminates in case of a bird strike. The episode can also terminate if the Chopper runs out of fuel.\r\n",
    "3. Just like birds, there are floating fuel tanks (yes, no points for being close to reality, I know!) which the Chopper can collect to refuel the chopper to its full capacity (which is fixed at 1000 L).\r\n",
    "\r\n",
    "The very first consideration while designing an environment is to decide what sort of observation space and action space we will be using.\r\n",
    "\r\n",
    "1. The observation space can be either continuous or discrete. An example of a discrete action space is that of a grid-world where the observation space is defined by cells, and the agent could be inside one of those cells. An example of a continuous action space is one where the position of the agent is described by real-valued coordinates.\r\n",
    "\r\n",
    "2. The action space can be either continuous or discrete as well. An example of a discrete space is one where each action corresponds to the particular behavior of the agent, but that behavior cannot be quantified. An example of this is Mario Bros, where each action would lead to moving left, right, jumping, etc. Your actions can't quantify the behavior being produced, i.e. you can jump but not jump high, higher, or lower. However, in a game like Angry Birds, you decide how much to stretch the slingshot (you quantify it)."
   ],
   "metadata": {}
  },
  {
   "cell_type": "code",
   "execution_count": 71,
   "source": [
    "class ChopperScape(Env):\r\n",
    "    def __init__(self):\r\n",
    "        super(ChopperScape, self).__init__()\r\n",
    "        \r\n",
    "\r\n",
    "        # 2D observation space\r\n",
    "        self.observation_shape = (600,800,3)\r\n",
    "        # Box is used cuz continuous\r\n",
    "        self.observation_space = spaces.Box(low = np.zeros(self.observation_shape),\r\n",
    "                                            high = np.ones(self.observation_shape),\r\n",
    "                                            dtype = np.float32)\r\n",
    "        \r\n",
    "        # define an action space ranging from 0 to 4\r\n",
    "        self.action_space = spaces.Discrete(6,)\r\n",
    "\r\n",
    "        # canvas to render the environment images upon\r\n",
    "        self.canvas = np.ones(self.observation_shape) * 1\r\n",
    "\r\n",
    "        # define elements present inside the environment\r\n",
    "        self.elements = []\r\n",
    "\r\n",
    "        # max fuel\r\n",
    "        self.max_fuel = 1000\r\n",
    "\r\n",
    "        # permissible area of helicopter to be\r\n",
    "        self.y_min = int (self.observation_shape[0] * 0.1)\r\n",
    "        self.x_min = 0\r\n",
    "        self.y_max = int (self.observation_shape[0] * 0.9)\r\n",
    "        self.x_max = self.observation_shape[1]\r\n"
   ],
   "outputs": [],
   "metadata": {}
  },
  {
   "cell_type": "markdown",
   "source": [
    "# Elements of the Environment\r\n",
    "\r\n",
    "Once we have determined the action space and the observation space, we need to finalize what would be the elements of our environment. In our game, we have three distinct elements: the Chopper, Flying Birds, and and Floating Fuel Stations. We will be implementing all of these as separate classes that inherit from a common base class called Point.\r\n",
    "\r\n",
    "# Point Base Class\r\n",
    "The Point class is used to define any arbitrary point on our observation image. We define this class with the following attributes:\r\n",
    "\r\n",
    " - (x,y): Position of the point on the image.\r\n",
    " - (x_min, x_max, y_min, y_max): Permissible coordinates for the point. If we try to set the position of the point outside these limits, the position values are clamped to these limits.\r\n",
    " - name: Name of the point.\r\n",
    "\r\n",
    "We define the following member functions for this class.\r\n",
    "\r\n",
    " - get_position: Get the coordinates of the point.\r\n",
    " - set_position: Set the coordinates of the point to a certain value.\r\n",
    " - move: Move the points by certain value."
   ],
   "metadata": {}
  },
  {
   "cell_type": "code",
   "execution_count": 72,
   "source": [
    "class Point(object):\r\n",
    "    def __init__(self, name, x_max, x_min, y_max, y_min):\r\n",
    "        self.x = 0\r\n",
    "        self.y = 0\r\n",
    "        self.x_min = x_min\r\n",
    "        self.x_max = x_max\r\n",
    "        self.y_min = y_min\r\n",
    "        self.y_max = y_max\r\n",
    "        self.name = name\r\n",
    "    \r\n",
    "    def set_position(self, x, y):\r\n",
    "        self.x = self.clamp(x, self.x_min, self.x_max - self.icon_w)\r\n",
    "        self.y = self.clamp(y, self.y_min, self.y_max - self.icon_h)\r\n",
    "\r\n",
    "    def get_position(self):\r\n",
    "        return (self.x, self.y)\r\n",
    "    \r\n",
    "    def move(self, del_x, del_y):\r\n",
    "        self.x += del_x\r\n",
    "        self.y += del_y\r\n",
    "\r\n",
    "        self.x = self.clamp(self.x, self.x_min, self.x_max - self.icon_w)\r\n",
    "        self.y = self.clamp(self.y, self.y_min, self.y_max - self.icon_h)\r\n",
    "\r\n",
    "    def clamp(self, n, minn, maxn):\r\n",
    "        return max(min(n,maxn), minn)"
   ],
   "outputs": [],
   "metadata": {}
  },
  {
   "cell_type": "markdown",
   "source": [
    "Now we define the classes Chopper, Bird and Fuel. These classes are derived from the Point class, and introduce a set of new attributes:\r\n",
    "\r\n",
    " - icon: Icon of the point that will display on the  observation image when the game is rendered.\r\n",
    " - (icon_w, icon_h): Dimensions of the icon."
   ],
   "metadata": {}
  },
  {
   "cell_type": "code",
   "execution_count": 73,
   "source": [
    "class Chopper(Point):\r\n",
    "    def __init__(self, name, x_max, x_min, y_max, y_min):\r\n",
    "        super(Chopper, self).__init__(name, x_max, x_min, y_max, y_min)\r\n",
    "        self.icon = cv2.imread(\"chopper.png\") / 255.0\r\n",
    "        self.icon_w = 64\r\n",
    "        self.icon_h = 64\r\n",
    "        self.icon = cv2.resize(self.icon, (self.icon_h, self.icon_w))\r\n",
    "\r\n",
    "class Bird(Point):\r\n",
    "    def __init__(self, name, x_max, x_min, y_max, y_min):\r\n",
    "        super(Bird, self).__init__(name, x_max, x_min, y_max, y_min)\r\n",
    "        self.icon = cv2.imread(\"bird.png\") / 255.0\r\n",
    "        self.icon_w = 32\r\n",
    "        self.icon_h = 32\r\n",
    "        self.icon = cv2.resize(self.icon, (self.icon_h, self.icon_w))\r\n",
    "        \r\n",
    "class Fuel(Point):\r\n",
    "    def __init__(self, name, x_max, x_min, y_max, y_min):\r\n",
    "        super(Fuel, self).__init__(name, x_max, x_min, y_max, y_min)\r\n",
    "        self.icon = cv2.imread(\"fuel.png\") / 255.0\r\n",
    "        self.icon_w = 32\r\n",
    "        self.icon_h = 32\r\n",
    "        self.icon = cv2.resize(self.icon, (self.icon_h, self.icon_w))\r\n",
    "        "
   ],
   "outputs": [],
   "metadata": {}
  },
  {
   "cell_type": "markdown",
   "source": [
    "# Back to the ChopperScape Class\r\n",
    "\r\n",
    "Recall from Part 1 that any gym Env class has two important functions:\r\n",
    "\r\n",
    "1. reset: Resets the environment to its initial state and returns the initial observation.\r\n",
    "2. step : Executes a step in the environment by applying an action. Returns the new observation, reward, completion status, and other info.\r\n",
    "\r\n",
    "In this section, we will be implementing the reset and step functions of our environment along with many other helper functions. We begin with reset function.\r\n",
    "\r\n",
    "# Reset Function\r\n",
    "\r\n",
    "When we reset our environment, we need to reset all the state-based variables in our environment. These include things like fuel consumed, episodic return, and the elements present inside the environment.\r\n",
    "\r\n",
    "In our case, when we reset our environment, we have nothing but the Chopper in the initial state. We initialize our chopper randomly in an area in the top-left of our image. This area is 5-10 percent of the image width and 15-20 percent of the image height.\r\n",
    "\r\n",
    "We also define a helper function called draw_elements_on_canvas that basically places the icons of each of the elements present in the game at their respective positions in the observation image. If the position is beyond the permissible range, then the icons are placed on the range boundaries. We also print important information such as the remaining fuel.\r\n",
    "\r\n",
    "We finally return the canvas on which the elements have been placed as the observation."
   ],
   "metadata": {}
  },
  {
   "cell_type": "code",
   "execution_count": 74,
   "source": [
    "%%add_to ChopperScape\r\n",
    "\r\n",
    "def draw_elements_on_canvas(self):\r\n",
    "    # init the canvas\r\n",
    "    self.canvas = np.ones(self.observation_shape) * 1\r\n",
    "\r\n",
    "    # draw the helicopter on canvas\r\n",
    "    for elem in self.elements:\r\n",
    "        elem_shape = elem.icon.shape\r\n",
    "        x,y = elem.x, elem.y\r\n",
    "        self.canvas[y : y + elem_shape[1], x : x + elem_shape[0]] = elem.icon\r\n",
    "\r\n",
    "    text = 'Fuel Left: {} | Rewards: {}'.format(self.fuel_left, self.ep_return)\r\n",
    "\r\n",
    "    # put info on canvas\r\n",
    "    self.canvas = cv2.putText(self.canvas, text, (10,20), font,\r\n",
    "                            0.8, (0,0,0), 1, cv2.LINE_AA)\r\n",
    "\r\n",
    "def reset(self):\r\n",
    "    # reset fuel\r\n",
    "    self.fuel_left = self.max_fuel\r\n",
    "\r\n",
    "    # reset reward\r\n",
    "    self.ep_return = 0\r\n",
    "\r\n",
    "    # number of birds\r\n",
    "    self.bird_count = 0\r\n",
    "    self.fuel_count = 0\r\n",
    "\r\n",
    "    # init chopper\r\n",
    "    x = random.randrange(int(self.observation_shape[0]*0.05), int(self.observation_shape[0]*0.10))\r\n",
    "    y = random.randrange(int(self.observation_shape[1]*0.15), int(self.observation_shape[1]*0.20))\r\n",
    "\r\n",
    "    # initialize the chopper\r\n",
    "    self.chopper = Chopper(\"chopper\", self.x_max, self.x_min, self.y_max, self.y_min)\r\n",
    "    self.chopper.set_position(x,y)\r\n",
    "\r\n",
    "    # initialize the elements\r\n",
    "    self.elements = [self.chopper]\r\n",
    "\r\n",
    "    # reset the canvas\r\n",
    "    self.canvas = np.ones(self.observation_shape) * 1\r\n",
    "\r\n",
    "    # draw the elements on canvas\r\n",
    "    self.draw_elements_on_canvas()\r\n",
    "\r\n",
    "    # return the observation\r\n",
    "    return self.canvas\r\n",
    "\r\n",
    "\r\n",
    "\r\n"
   ],
   "outputs": [],
   "metadata": {}
  },
  {
   "cell_type": "markdown",
   "source": [
    "## Initial Observation"
   ],
   "metadata": {}
  },
  {
   "cell_type": "code",
   "execution_count": 75,
   "source": [
    "env = ChopperScape()\r\n",
    "obs = env.reset()\r\n",
    "plt.figure(figsize=(10,15))\r\n",
    "plt.imshow(obs)"
   ],
   "outputs": [
    {
     "output_type": "execute_result",
     "data": {
      "text/plain": [
       "<matplotlib.image.AxesImage at 0x29c42789100>"
      ]
     },
     "metadata": {},
     "execution_count": 75
    },
    {
     "output_type": "display_data",
     "data": {
      "image/png": "[encoded data removed]",
      "image/svg+xml": "<?xml version=\"1.0\" encoding=\"utf-8\" standalone=\"no\"?>\r\n<!DOCTYPE svg PUBLIC \"-//W3C//DTD SVG 1.1//EN\"\r\n  \"http://www.w3.org/Graphics/SVG/1.1/DTD/svg11.dtd\">\r\n<!-- Created with matplotlib (https://matplotlib.org/) -->\r\n<svg height=\"453.028594pt\" version=\"1.1\" viewBox=\"0 0 598.4875 453.028594\" width=\"598.4875pt\" xmlns=\"http://www.w3.org/2000/svg\" xmlns:xlink=\"http://www.w3.org/1999/xlink\">\r\n <metadata>\r\n  <rdf:RDF xmlns:cc=\"http://creativecommons.org/ns#\" xmlns:dc=\"http://purl.org/dc/elements/1.1/\" xmlns:rdf=\"http://www.w3.org/1999/02/22-rdf-syntax-ns#\">\r\n   <cc:Work>\r\n    <dc:type rdf:resource=\"http://purl.org/dc/dcmitype/StillImage\"/>\r\n    <dc:date>2021-09-03T14:07:12.535922</dc:date>\r\n    <dc:format>image/svg+xml</dc:format>\r\n    <dc:creator>\r\n     <cc:Agent>\r\n      <dc:title>Matplotlib v3.3.2, https://matplotlib.org/</dc:title>\r\n     </cc:Agent>\r\n    </dc:creator>\r\n   </cc:Work>\r\n  </rdf:RDF>\r\n </metadata>\r\n <defs>\r\n  <style type=\"text/css\">*{stroke-linecap:butt;stroke-linejoin:round;}</style>\r\n </defs>\r\n <g id=\"figure_1\">\r\n  <g id=\"patch_1\">\r\n   <path d=\"M 0 453.028594 \r\nL 598.4875 453.028594 \r\nL 598.4875 -0 \r\nL 0 -0 \r\nz\r\n\" style=\"fill:none;\"/>\r\n  </g>\r\n  <g id=\"axes_1\">\r\n   <g id=\"patch_2\">\r\n    <path d=\"M 33.2875 429.150469 \r\nL 591.2875 429.150469 \r\nL 591.2875 10.650469 \r\nL 33.2875 10.650469 \r\nz\r\n\" style=\"fill:#ffffff;\"/>\r\n   </g>\r\n   <g clip-path=\"url(#padab0e21b5)\">\r\n    <image height=\"419\" id=\"image8f00969d4c\" transform=\"scale(1 -1)translate(0 -419)\" width=\"558\" x=\"33.2875\" xlink:href=\"data:image/png;base64,\r\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\" y=\"-10.150469\"/>\r\n   </g>\r\n   <g id=\"matplotlib.axis_1\">\r\n    <g id=\"xtick_1\">\r\n     <g id=\"line2d_1\">\r\n      <defs>\r\n       <path d=\"M 0 0 \r\nL 0 3.5 \r\n\" id=\"md4f4929c8b\" style=\"stroke:#000000;stroke-width:0.8;\"/>\r\n      </defs>\r\n      <g>\r\n       <use style=\"stroke:#000000;stroke-width:0.8;\" x=\"33.63625\" xlink:href=\"#md4f4929c8b\" y=\"429.150469\"/>\r\n      </g>\r\n     </g>\r\n     <g id=\"text_1\">\r\n      <!-- 0 -->\r\n      <g transform=\"translate(30.455 443.748906)scale(0.1 -0.1)\">\r\n       <defs>\r\n        <path d=\"M 31.78125 66.40625 \r\nQ 24.171875 66.40625 20.328125 58.90625 \r\nQ 16.5 51.421875 16.5 36.375 \r\nQ 16.5 21.390625 20.328125 13.890625 \r\nQ 24.171875 6.390625 31.78125 6.390625 \r\nQ 39.453125 6.390625 43.28125 13.890625 \r\nQ 47.125 21.390625 47.125 36.375 \r\nQ 47.125 51.421875 43.28125 58.90625 \r\nQ 39.453125 66.40625 31.78125 66.40625 \r\nz\r\nM 31.78125 74.21875 \r\nQ 44.046875 74.21875 50.515625 64.515625 \r\nQ 56.984375 54.828125 56.984375 36.375 \r\nQ 56.984375 17.96875 50.515625 8.265625 \r\nQ 44.046875 -1.421875 31.78125 -1.421875 \r\nQ 19.53125 -1.421875 13.0625 8.265625 \r\nQ 6.59375 17.96875 6.59375 36.375 \r\nQ 6.59375 54.828125 13.0625 64.515625 \r\nQ 19.53125 74.21875 31.78125 74.21875 \r\nz\r\n\" id=\"DejaVuSans-48\"/>\r\n       </defs>\r\n       <use xlink:href=\"#DejaVuSans-48\"/>\r\n      </g>\r\n     </g>\r\n    </g>\r\n    <g id=\"xtick_2\">\r\n     <g id=\"line2d_2\">\r\n      <g>\r\n       <use style=\"stroke:#000000;stroke-width:0.8;\" x=\"103.38625\" xlink:href=\"#md4f4929c8b\" y=\"429.150469\"/>\r\n      </g>\r\n     </g>\r\n     <g id=\"text_2\">\r\n      <!-- 100 -->\r\n      <g transform=\"translate(93.8425 443.748906)scale(0.1 -0.1)\">\r\n       <defs>\r\n        <path d=\"M 12.40625 8.296875 \r\nL 28.515625 8.296875 \r\nL 28.515625 63.921875 \r\nL 10.984375 60.40625 \r\nL 10.984375 69.390625 \r\nL 28.421875 72.90625 \r\nL 38.28125 72.90625 \r\nL 38.28125 8.296875 \r\nL 54.390625 8.296875 \r\nL 54.390625 0 \r\nL 12.40625 0 \r\nz\r\n\" id=\"DejaVuSans-49\"/>\r\n       </defs>\r\n       <use xlink:href=\"#DejaVuSans-49\"/>\r\n       <use x=\"63.623047\" xlink:href=\"#DejaVuSans-48\"/>\r\n       <use x=\"127.246094\" xlink:href=\"#DejaVuSans-48\"/>\r\n      </g>\r\n     </g>\r\n    </g>\r\n    <g id=\"xtick_3\">\r\n     <g id=\"line2d_3\">\r\n      <g>\r\n       <use style=\"stroke:#000000;stroke-width:0.8;\" x=\"173.13625\" xlink:href=\"#md4f4929c8b\" y=\"429.150469\"/>\r\n      </g>\r\n     </g>\r\n     <g id=\"text_3\">\r\n      <!-- 200 -->\r\n      <g transform=\"translate(163.5925 443.748906)scale(0.1 -0.1)\">\r\n       <defs>\r\n        <path d=\"M 19.1875 8.296875 \r\nL 53.609375 8.296875 \r\nL 53.609375 0 \r\nL 7.328125 0 \r\nL 7.328125 8.296875 \r\nQ 12.9375 14.109375 22.625 23.890625 \r\nQ 32.328125 33.6875 34.8125 36.53125 \r\nQ 39.546875 41.84375 41.421875 45.53125 \r\nQ 43.3125 49.21875 43.3125 52.78125 \r\nQ 43.3125 58.59375 39.234375 62.25 \r\nQ 35.15625 65.921875 28.609375 65.921875 \r\nQ 23.96875 65.921875 18.8125 64.3125 \r\nQ 13.671875 62.703125 7.8125 59.421875 \r\nL 7.8125 69.390625 \r\nQ 13.765625 71.78125 18.9375 73 \r\nQ 24.125 74.21875 28.421875 74.21875 \r\nQ 39.75 74.21875 46.484375 68.546875 \r\nQ 53.21875 62.890625 53.21875 53.421875 \r\nQ 53.21875 48.921875 51.53125 44.890625 \r\nQ 49.859375 40.875 45.40625 35.40625 \r\nQ 44.1875 33.984375 37.640625 27.21875 \r\nQ 31.109375 20.453125 19.1875 8.296875 \r\nz\r\n\" id=\"DejaVuSans-50\"/>\r\n       </defs>\r\n       <use xlink:href=\"#DejaVuSans-50\"/>\r\n       <use x=\"63.623047\" xlink:href=\"#DejaVuSans-48\"/>\r\n       <use x=\"127.246094\" xlink:href=\"#DejaVuSans-48\"/>\r\n      </g>\r\n     </g>\r\n    </g>\r\n    <g id=\"xtick_4\">\r\n     <g id=\"line2d_4\">\r\n      <g>\r\n       <use style=\"stroke:#000000;stroke-width:0.8;\" x=\"242.88625\" xlink:href=\"#md4f4929c8b\" y=\"429.150469\"/>\r\n      </g>\r\n     </g>\r\n     <g id=\"text_4\">\r\n      <!-- 300 -->\r\n      <g transform=\"translate(233.3425 443.748906)scale(0.1 -0.1)\">\r\n       <defs>\r\n        <path d=\"M 40.578125 39.3125 \r\nQ 47.65625 37.796875 51.625 33 \r\nQ 55.609375 28.21875 55.609375 21.1875 \r\nQ 55.609375 10.40625 48.1875 4.484375 \r\nQ 40.765625 -1.421875 27.09375 -1.421875 \r\nQ 22.515625 -1.421875 17.65625 -0.515625 \r\nQ 12.796875 0.390625 7.625 2.203125 \r\nL 7.625 11.71875 \r\nQ 11.71875 9.328125 16.59375 8.109375 \r\nQ 21.484375 6.890625 26.8125 6.890625 \r\nQ 36.078125 6.890625 40.9375 10.546875 \r\nQ 45.796875 14.203125 45.796875 21.1875 \r\nQ 45.796875 27.640625 41.28125 31.265625 \r\nQ 36.765625 34.90625 28.71875 34.90625 \r\nL 20.21875 34.90625 \r\nL 20.21875 43.015625 \r\nL 29.109375 43.015625 \r\nQ 36.375 43.015625 40.234375 45.921875 \r\nQ 44.09375 48.828125 44.09375 54.296875 \r\nQ 44.09375 59.90625 40.109375 62.90625 \r\nQ 36.140625 65.921875 28.71875 65.921875 \r\nQ 24.65625 65.921875 20.015625 65.03125 \r\nQ 15.375 64.15625 9.8125 62.3125 \r\nL 9.8125 71.09375 \r\nQ 15.4375 72.65625 20.34375 73.4375 \r\nQ 25.25 74.21875 29.59375 74.21875 \r\nQ 40.828125 74.21875 47.359375 69.109375 \r\nQ 53.90625 64.015625 53.90625 55.328125 \r\nQ 53.90625 49.265625 50.4375 45.09375 \r\nQ 46.96875 40.921875 40.578125 39.3125 \r\nz\r\n\" id=\"DejaVuSans-51\"/>\r\n       </defs>\r\n       <use xlink:href=\"#DejaVuSans-51\"/>\r\n       <use x=\"63.623047\" xlink:href=\"#DejaVuSans-48\"/>\r\n       <use x=\"127.246094\" xlink:href=\"#DejaVuSans-48\"/>\r\n      </g>\r\n     </g>\r\n    </g>\r\n    <g id=\"xtick_5\">\r\n     <g id=\"line2d_5\">\r\n      <g>\r\n       <use style=\"stroke:#000000;stroke-width:0.8;\" x=\"312.63625\" xlink:href=\"#md4f4929c8b\" y=\"429.150469\"/>\r\n      </g>\r\n     </g>\r\n     <g id=\"text_5\">\r\n      <!-- 400 -->\r\n      <g transform=\"translate(303.0925 443.748906)scale(0.1 -0.1)\">\r\n       <defs>\r\n        <path d=\"M 37.796875 64.3125 \r\nL 12.890625 25.390625 \r\nL 37.796875 25.390625 \r\nz\r\nM 35.203125 72.90625 \r\nL 47.609375 72.90625 \r\nL 47.609375 25.390625 \r\nL 58.015625 25.390625 \r\nL 58.015625 17.1875 \r\nL 47.609375 17.1875 \r\nL 47.609375 0 \r\nL 37.796875 0 \r\nL 37.796875 17.1875 \r\nL 4.890625 17.1875 \r\nL 4.890625 26.703125 \r\nz\r\n\" id=\"DejaVuSans-52\"/>\r\n       </defs>\r\n       <use xlink:href=\"#DejaVuSans-52\"/>\r\n       <use x=\"63.623047\" xlink:href=\"#DejaVuSans-48\"/>\r\n       <use x=\"127.246094\" xlink:href=\"#DejaVuSans-48\"/>\r\n      </g>\r\n     </g>\r\n    </g>\r\n    <g id=\"xtick_6\">\r\n     <g id=\"line2d_6\">\r\n      <g>\r\n       <use style=\"stroke:#000000;stroke-width:0.8;\" x=\"382.38625\" xlink:href=\"#md4f4929c8b\" y=\"429.150469\"/>\r\n      </g>\r\n     </g>\r\n     <g id=\"text_6\">\r\n      <!-- 500 -->\r\n      <g transform=\"translate(372.8425 443.748906)scale(0.1 -0.1)\">\r\n       <defs>\r\n        <path d=\"M 10.796875 72.90625 \r\nL 49.515625 72.90625 \r\nL 49.515625 64.59375 \r\nL 19.828125 64.59375 \r\nL 19.828125 46.734375 \r\nQ 21.96875 47.46875 24.109375 47.828125 \r\nQ 26.265625 48.1875 28.421875 48.1875 \r\nQ 40.625 48.1875 47.75 41.5 \r\nQ 54.890625 34.8125 54.890625 23.390625 \r\nQ 54.890625 11.625 47.5625 5.09375 \r\nQ 40.234375 -1.421875 26.90625 -1.421875 \r\nQ 22.3125 -1.421875 17.546875 -0.640625 \r\nQ 12.796875 0.140625 7.71875 1.703125 \r\nL 7.71875 11.625 \r\nQ 12.109375 9.234375 16.796875 8.0625 \r\nQ 21.484375 6.890625 26.703125 6.890625 \r\nQ 35.15625 6.890625 40.078125 11.328125 \r\nQ 45.015625 15.765625 45.015625 23.390625 \r\nQ 45.015625 31 40.078125 35.4375 \r\nQ 35.15625 39.890625 26.703125 39.890625 \r\nQ 22.75 39.890625 18.8125 39.015625 \r\nQ 14.890625 38.140625 10.796875 36.28125 \r\nz\r\n\" id=\"DejaVuSans-53\"/>\r\n       </defs>\r\n       <use xlink:href=\"#DejaVuSans-53\"/>\r\n       <use x=\"63.623047\" xlink:href=\"#DejaVuSans-48\"/>\r\n       <use x=\"127.246094\" xlink:href=\"#DejaVuSans-48\"/>\r\n      </g>\r\n     </g>\r\n    </g>\r\n    <g id=\"xtick_7\">\r\n     <g id=\"line2d_7\">\r\n      <g>\r\n       <use style=\"stroke:#000000;stroke-width:0.8;\" x=\"452.13625\" xlink:href=\"#md4f4929c8b\" y=\"429.150469\"/>\r\n      </g>\r\n     </g>\r\n     <g id=\"text_7\">\r\n      <!-- 600 -->\r\n      <g transform=\"translate(442.5925 443.748906)scale(0.1 -0.1)\">\r\n       <defs>\r\n        <path d=\"M 33.015625 40.375 \r\nQ 26.375 40.375 22.484375 35.828125 \r\nQ 18.609375 31.296875 18.609375 23.390625 \r\nQ 18.609375 15.53125 22.484375 10.953125 \r\nQ 26.375 6.390625 33.015625 6.390625 \r\nQ 39.65625 6.390625 43.53125 10.953125 \r\nQ 47.40625 15.53125 47.40625 23.390625 \r\nQ 47.40625 31.296875 43.53125 35.828125 \r\nQ 39.65625 40.375 33.015625 40.375 \r\nz\r\nM 52.59375 71.296875 \r\nL 52.59375 62.3125 \r\nQ 48.875 64.0625 45.09375 64.984375 \r\nQ 41.3125 65.921875 37.59375 65.921875 \r\nQ 27.828125 65.921875 22.671875 59.328125 \r\nQ 17.53125 52.734375 16.796875 39.40625 \r\nQ 19.671875 43.65625 24.015625 45.921875 \r\nQ 28.375 48.1875 33.59375 48.1875 \r\nQ 44.578125 48.1875 50.953125 41.515625 \r\nQ 57.328125 34.859375 57.328125 23.390625 \r\nQ 57.328125 12.15625 50.6875 5.359375 \r\nQ 44.046875 -1.421875 33.015625 -1.421875 \r\nQ 20.359375 -1.421875 13.671875 8.265625 \r\nQ 6.984375 17.96875 6.984375 36.375 \r\nQ 6.984375 53.65625 15.1875 63.9375 \r\nQ 23.390625 74.21875 37.203125 74.21875 \r\nQ 40.921875 74.21875 44.703125 73.484375 \r\nQ 48.484375 72.75 52.59375 71.296875 \r\nz\r\n\" id=\"DejaVuSans-54\"/>\r\n       </defs>\r\n       <use xlink:href=\"#DejaVuSans-54\"/>\r\n       <use x=\"63.623047\" xlink:href=\"#DejaVuSans-48\"/>\r\n       <use x=\"127.246094\" xlink:href=\"#DejaVuSans-48\"/>\r\n      </g>\r\n     </g>\r\n    </g>\r\n    <g id=\"xtick_8\">\r\n     <g id=\"line2d_8\">\r\n      <g>\r\n       <use style=\"stroke:#000000;stroke-width:0.8;\" x=\"521.88625\" xlink:href=\"#md4f4929c8b\" y=\"429.150469\"/>\r\n      </g>\r\n     </g>\r\n     <g id=\"text_8\">\r\n      <!-- 700 -->\r\n      <g transform=\"translate(512.3425 443.748906)scale(0.1 -0.1)\">\r\n       <defs>\r\n        <path d=\"M 8.203125 72.90625 \r\nL 55.078125 72.90625 \r\nL 55.078125 68.703125 \r\nL 28.609375 0 \r\nL 18.3125 0 \r\nL 43.21875 64.59375 \r\nL 8.203125 64.59375 \r\nz\r\n\" id=\"DejaVuSans-55\"/>\r\n       </defs>\r\n       <use xlink:href=\"#DejaVuSans-55\"/>\r\n       <use x=\"63.623047\" xlink:href=\"#DejaVuSans-48\"/>\r\n       <use x=\"127.246094\" xlink:href=\"#DejaVuSans-48\"/>\r\n      </g>\r\n     </g>\r\n    </g>\r\n   </g>\r\n   <g id=\"matplotlib.axis_2\">\r\n    <g id=\"ytick_1\">\r\n     <g id=\"line2d_9\">\r\n      <defs>\r\n       <path d=\"M 0 0 \r\nL -3.5 0 \r\n\" id=\"me6b672bedd\" style=\"stroke:#000000;stroke-width:0.8;\"/>\r\n      </defs>\r\n      <g>\r\n       <use style=\"stroke:#000000;stroke-width:0.8;\" x=\"33.2875\" xlink:href=\"#me6b672bedd\" y=\"10.999219\"/>\r\n      </g>\r\n     </g>\r\n     <g id=\"text_9\">\r\n      <!-- 0 -->\r\n      <g transform=\"translate(19.925 14.798438)scale(0.1 -0.1)\">\r\n       <use xlink:href=\"#DejaVuSans-48\"/>\r\n      </g>\r\n     </g>\r\n    </g>\r\n    <g id=\"ytick_2\">\r\n     <g id=\"line2d_10\">\r\n      <g>\r\n       <use style=\"stroke:#000000;stroke-width:0.8;\" x=\"33.2875\" xlink:href=\"#me6b672bedd\" y=\"80.749219\"/>\r\n      </g>\r\n     </g>\r\n     <g id=\"text_10\">\r\n      <!-- 100 -->\r\n      <g transform=\"translate(7.2 84.548438)scale(0.1 -0.1)\">\r\n       <use xlink:href=\"#DejaVuSans-49\"/>\r\n       <use x=\"63.623047\" xlink:href=\"#DejaVuSans-48\"/>\r\n       <use x=\"127.246094\" xlink:href=\"#DejaVuSans-48\"/>\r\n      </g>\r\n     </g>\r\n    </g>\r\n    <g id=\"ytick_3\">\r\n     <g id=\"line2d_11\">\r\n      <g>\r\n       <use style=\"stroke:#000000;stroke-width:0.8;\" x=\"33.2875\" xlink:href=\"#me6b672bedd\" y=\"150.499219\"/>\r\n      </g>\r\n     </g>\r\n     <g id=\"text_11\">\r\n      <!-- 200 -->\r\n      <g transform=\"translate(7.2 154.298438)scale(0.1 -0.1)\">\r\n       <use xlink:href=\"#DejaVuSans-50\"/>\r\n       <use x=\"63.623047\" xlink:href=\"#DejaVuSans-48\"/>\r\n       <use x=\"127.246094\" xlink:href=\"#DejaVuSans-48\"/>\r\n      </g>\r\n     </g>\r\n    </g>\r\n    <g id=\"ytick_4\">\r\n     <g id=\"line2d_12\">\r\n      <g>\r\n       <use style=\"stroke:#000000;stroke-width:0.8;\" x=\"33.2875\" xlink:href=\"#me6b672bedd\" y=\"220.249219\"/>\r\n      </g>\r\n     </g>\r\n     <g id=\"text_12\">\r\n      <!-- 300 -->\r\n      <g transform=\"translate(7.2 224.048438)scale(0.1 -0.1)\">\r\n       <use xlink:href=\"#DejaVuSans-51\"/>\r\n       <use x=\"63.623047\" xlink:href=\"#DejaVuSans-48\"/>\r\n       <use x=\"127.246094\" xlink:href=\"#DejaVuSans-48\"/>\r\n      </g>\r\n     </g>\r\n    </g>\r\n    <g id=\"ytick_5\">\r\n     <g id=\"line2d_13\">\r\n      <g>\r\n       <use style=\"stroke:#000000;stroke-width:0.8;\" x=\"33.2875\" xlink:href=\"#me6b672bedd\" y=\"289.999219\"/>\r\n      </g>\r\n     </g>\r\n     <g id=\"text_13\">\r\n      <!-- 400 -->\r\n      <g transform=\"translate(7.2 293.798437)scale(0.1 -0.1)\">\r\n       <use xlink:href=\"#DejaVuSans-52\"/>\r\n       <use x=\"63.623047\" xlink:href=\"#DejaVuSans-48\"/>\r\n       <use x=\"127.246094\" xlink:href=\"#DejaVuSans-48\"/>\r\n      </g>\r\n     </g>\r\n    </g>\r\n    <g id=\"ytick_6\">\r\n     <g id=\"line2d_14\">\r\n      <g>\r\n       <use style=\"stroke:#000000;stroke-width:0.8;\" x=\"33.2875\" xlink:href=\"#me6b672bedd\" y=\"359.749219\"/>\r\n      </g>\r\n     </g>\r\n     <g id=\"text_14\">\r\n      <!-- 500 -->\r\n      <g transform=\"translate(7.2 363.548437)scale(0.1 -0.1)\">\r\n       <use xlink:href=\"#DejaVuSans-53\"/>\r\n       <use x=\"63.623047\" xlink:href=\"#DejaVuSans-48\"/>\r\n       <use x=\"127.246094\" xlink:href=\"#DejaVuSans-48\"/>\r\n      </g>\r\n     </g>\r\n    </g>\r\n   </g>\r\n   <g id=\"patch_3\">\r\n    <path d=\"M 33.2875 429.150469 \r\nL 33.2875 10.650469 \r\n\" style=\"fill:none;stroke:#000000;stroke-linecap:square;stroke-linejoin:miter;stroke-width:0.8;\"/>\r\n   </g>\r\n   <g id=\"patch_4\">\r\n    <path d=\"M 591.2875 429.150469 \r\nL 591.2875 10.650469 \r\n\" style=\"fill:none;stroke:#000000;stroke-linecap:square;stroke-linejoin:miter;stroke-width:0.8;\"/>\r\n   </g>\r\n   <g id=\"patch_5\">\r\n    <path d=\"M 33.2875 429.150469 \r\nL 591.2875 429.150469 \r\n\" style=\"fill:none;stroke:#000000;stroke-linecap:square;stroke-linejoin:miter;stroke-width:0.8;\"/>\r\n   </g>\r\n   <g id=\"patch_6\">\r\n    <path d=\"M 33.2875 10.650469 \r\nL 591.2875 10.650469 \r\n\" style=\"fill:none;stroke:#000000;stroke-linecap:square;stroke-linejoin:miter;stroke-width:0.8;\"/>\r\n   </g>\r\n  </g>\r\n </g>\r\n <defs>\r\n  <clipPath id=\"padab0e21b5\">\r\n   <rect height=\"418.5\" width=\"558\" x=\"33.2875\" y=\"10.650469\"/>\r\n  </clipPath>\r\n </defs>\r\n</svg>\r\n",
      "text/plain": [
       "<Figure size 720x1080 with 1 Axes>"
      ]
     },
     "metadata": {
      "needs_background": "light"
     }
    }
   ],
   "metadata": {}
  },
  {
   "cell_type": "markdown",
   "source": [
    "Since our observation is the same as the gameplay screen of the game, our render function shall return our observation too. We build functionality for two modes, one human which would render the game in a pop-up window, while rgb_array returns it as a pixel array."
   ],
   "metadata": {}
  },
  {
   "cell_type": "code",
   "execution_count": 76,
   "source": [
    "%%add_to ChopperScape\r\n",
    "\r\n",
    "def render(self, mode=\"human\"):\r\n",
    "    assert mode in [\"human\", \"rgb_array\"], \"Invalid mode, must be either \\\"human\\\" or \\\"rgb_array\\\"\"\r\n",
    "    if mode == \"human\":\r\n",
    "        cv2.imshow(\"Game\", self.canvas)\r\n",
    "        cv2.waitKey(10)\r\n",
    "    \r\n",
    "    elif mode == \"rgb_array\":\r\n",
    "        return self.canvas\r\n",
    "\r\n",
    "def close(self):\r\n",
    "    cv2.destroyAllWindows()\r\n",
    "\r\n",
    "env = ChopperScape()\r\n",
    "obs = env.reset()\r\n",
    "screen = env.render(mode=\"rgb_array\")\r\n",
    "plt.figure(figsize=(10,15))\r\n",
    "plt.imshow(screen)"
   ],
   "outputs": [
    {
     "output_type": "display_data",
     "data": {
      "image/png": "[encoded data removed]",
      "image/svg+xml": "<?xml version=\"1.0\" encoding=\"utf-8\" standalone=\"no\"?>\r\n<!DOCTYPE svg PUBLIC \"-//W3C//DTD SVG 1.1//EN\"\r\n  \"http://www.w3.org/Graphics/SVG/1.1/DTD/svg11.dtd\">\r\n<!-- Created with matplotlib (https://matplotlib.org/) -->\r\n<svg height=\"453.028594pt\" version=\"1.1\" viewBox=\"0 0 598.4875 453.028594\" width=\"598.4875pt\" xmlns=\"http://www.w3.org/2000/svg\" xmlns:xlink=\"http://www.w3.org/1999/xlink\">\r\n <metadata>\r\n  <rdf:RDF xmlns:cc=\"http://creativecommons.org/ns#\" xmlns:dc=\"http://purl.org/dc/elements/1.1/\" xmlns:rdf=\"http://www.w3.org/1999/02/22-rdf-syntax-ns#\">\r\n   <cc:Work>\r\n    <dc:type rdf:resource=\"http://purl.org/dc/dcmitype/StillImage\"/>\r\n    <dc:date>2021-09-03T14:07:13.119552</dc:date>\r\n    <dc:format>image/svg+xml</dc:format>\r\n    <dc:creator>\r\n     <cc:Agent>\r\n      <dc:title>Matplotlib v3.3.2, https://matplotlib.org/</dc:title>\r\n     </cc:Agent>\r\n    </dc:creator>\r\n   </cc:Work>\r\n  </rdf:RDF>\r\n </metadata>\r\n <defs>\r\n  <style type=\"text/css\">*{stroke-linecap:butt;stroke-linejoin:round;}</style>\r\n </defs>\r\n <g id=\"figure_1\">\r\n  <g id=\"patch_1\">\r\n   <path d=\"M 0 453.028594 \r\nL 598.4875 453.028594 \r\nL 598.4875 -0 \r\nL 0 -0 \r\nz\r\n\" style=\"fill:none;\"/>\r\n  </g>\r\n  <g id=\"axes_1\">\r\n   <g id=\"patch_2\">\r\n    <path d=\"M 33.2875 429.150469 \r\nL 591.2875 429.150469 \r\nL 591.2875 10.650469 \r\nL 33.2875 10.650469 \r\nz\r\n\" style=\"fill:#ffffff;\"/>\r\n   </g>\r\n   <g clip-path=\"url(#p2b9bb1d48f)\">\r\n    <image height=\"419\" id=\"imagecc01dc19af\" transform=\"scale(1 -1)translate(0 -419)\" width=\"558\" x=\"33.2875\" xlink:href=\"data:image/png;base64,\r\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\" y=\"-10.150469\"/>\r\n   </g>\r\n   <g id=\"matplotlib.axis_1\">\r\n    <g id=\"xtick_1\">\r\n     <g id=\"line2d_1\">\r\n      <defs>\r\n       <path d=\"M 0 0 \r\nL 0 3.5 \r\n\" id=\"m2b66ff4c6e\" style=\"stroke:#000000;stroke-width:0.8;\"/>\r\n      </defs>\r\n      <g>\r\n       <use style=\"stroke:#000000;stroke-width:0.8;\" x=\"33.63625\" xlink:href=\"#m2b66ff4c6e\" y=\"429.150469\"/>\r\n      </g>\r\n     </g>\r\n     <g id=\"text_1\">\r\n      <!-- 0 -->\r\n      <g transform=\"translate(30.455 443.748906)scale(0.1 -0.1)\">\r\n       <defs>\r\n        <path d=\"M 31.78125 66.40625 \r\nQ 24.171875 66.40625 20.328125 58.90625 \r\nQ 16.5 51.421875 16.5 36.375 \r\nQ 16.5 21.390625 20.328125 13.890625 \r\nQ 24.171875 6.390625 31.78125 6.390625 \r\nQ 39.453125 6.390625 43.28125 13.890625 \r\nQ 47.125 21.390625 47.125 36.375 \r\nQ 47.125 51.421875 43.28125 58.90625 \r\nQ 39.453125 66.40625 31.78125 66.40625 \r\nz\r\nM 31.78125 74.21875 \r\nQ 44.046875 74.21875 50.515625 64.515625 \r\nQ 56.984375 54.828125 56.984375 36.375 \r\nQ 56.984375 17.96875 50.515625 8.265625 \r\nQ 44.046875 -1.421875 31.78125 -1.421875 \r\nQ 19.53125 -1.421875 13.0625 8.265625 \r\nQ 6.59375 17.96875 6.59375 36.375 \r\nQ 6.59375 54.828125 13.0625 64.515625 \r\nQ 19.53125 74.21875 31.78125 74.21875 \r\nz\r\n\" id=\"DejaVuSans-48\"/>\r\n       </defs>\r\n       <use xlink:href=\"#DejaVuSans-48\"/>\r\n      </g>\r\n     </g>\r\n    </g>\r\n    <g id=\"xtick_2\">\r\n     <g id=\"line2d_2\">\r\n      <g>\r\n       <use style=\"stroke:#000000;stroke-width:0.8;\" x=\"103.38625\" xlink:href=\"#m2b66ff4c6e\" y=\"429.150469\"/>\r\n      </g>\r\n     </g>\r\n     <g id=\"text_2\">\r\n      <!-- 100 -->\r\n      <g transform=\"translate(93.8425 443.748906)scale(0.1 -0.1)\">\r\n       <defs>\r\n        <path d=\"M 12.40625 8.296875 \r\nL 28.515625 8.296875 \r\nL 28.515625 63.921875 \r\nL 10.984375 60.40625 \r\nL 10.984375 69.390625 \r\nL 28.421875 72.90625 \r\nL 38.28125 72.90625 \r\nL 38.28125 8.296875 \r\nL 54.390625 8.296875 \r\nL 54.390625 0 \r\nL 12.40625 0 \r\nz\r\n\" id=\"DejaVuSans-49\"/>\r\n       </defs>\r\n       <use xlink:href=\"#DejaVuSans-49\"/>\r\n       <use x=\"63.623047\" xlink:href=\"#DejaVuSans-48\"/>\r\n       <use x=\"127.246094\" xlink:href=\"#DejaVuSans-48\"/>\r\n      </g>\r\n     </g>\r\n    </g>\r\n    <g id=\"xtick_3\">\r\n     <g id=\"line2d_3\">\r\n      <g>\r\n       <use style=\"stroke:#000000;stroke-width:0.8;\" x=\"173.13625\" xlink:href=\"#m2b66ff4c6e\" y=\"429.150469\"/>\r\n      </g>\r\n     </g>\r\n     <g id=\"text_3\">\r\n      <!-- 200 -->\r\n      <g transform=\"translate(163.5925 443.748906)scale(0.1 -0.1)\">\r\n       <defs>\r\n        <path d=\"M 19.1875 8.296875 \r\nL 53.609375 8.296875 \r\nL 53.609375 0 \r\nL 7.328125 0 \r\nL 7.328125 8.296875 \r\nQ 12.9375 14.109375 22.625 23.890625 \r\nQ 32.328125 33.6875 34.8125 36.53125 \r\nQ 39.546875 41.84375 41.421875 45.53125 \r\nQ 43.3125 49.21875 43.3125 52.78125 \r\nQ 43.3125 58.59375 39.234375 62.25 \r\nQ 35.15625 65.921875 28.609375 65.921875 \r\nQ 23.96875 65.921875 18.8125 64.3125 \r\nQ 13.671875 62.703125 7.8125 59.421875 \r\nL 7.8125 69.390625 \r\nQ 13.765625 71.78125 18.9375 73 \r\nQ 24.125 74.21875 28.421875 74.21875 \r\nQ 39.75 74.21875 46.484375 68.546875 \r\nQ 53.21875 62.890625 53.21875 53.421875 \r\nQ 53.21875 48.921875 51.53125 44.890625 \r\nQ 49.859375 40.875 45.40625 35.40625 \r\nQ 44.1875 33.984375 37.640625 27.21875 \r\nQ 31.109375 20.453125 19.1875 8.296875 \r\nz\r\n\" id=\"DejaVuSans-50\"/>\r\n       </defs>\r\n       <use xlink:href=\"#DejaVuSans-50\"/>\r\n       <use x=\"63.623047\" xlink:href=\"#DejaVuSans-48\"/>\r\n       <use x=\"127.246094\" xlink:href=\"#DejaVuSans-48\"/>\r\n      </g>\r\n     </g>\r\n    </g>\r\n    <g id=\"xtick_4\">\r\n     <g id=\"line2d_4\">\r\n      <g>\r\n       <use style=\"stroke:#000000;stroke-width:0.8;\" x=\"242.88625\" xlink:href=\"#m2b66ff4c6e\" y=\"429.150469\"/>\r\n      </g>\r\n     </g>\r\n     <g id=\"text_4\">\r\n      <!-- 300 -->\r\n      <g transform=\"translate(233.3425 443.748906)scale(0.1 -0.1)\">\r\n       <defs>\r\n        <path d=\"M 40.578125 39.3125 \r\nQ 47.65625 37.796875 51.625 33 \r\nQ 55.609375 28.21875 55.609375 21.1875 \r\nQ 55.609375 10.40625 48.1875 4.484375 \r\nQ 40.765625 -1.421875 27.09375 -1.421875 \r\nQ 22.515625 -1.421875 17.65625 -0.515625 \r\nQ 12.796875 0.390625 7.625 2.203125 \r\nL 7.625 11.71875 \r\nQ 11.71875 9.328125 16.59375 8.109375 \r\nQ 21.484375 6.890625 26.8125 6.890625 \r\nQ 36.078125 6.890625 40.9375 10.546875 \r\nQ 45.796875 14.203125 45.796875 21.1875 \r\nQ 45.796875 27.640625 41.28125 31.265625 \r\nQ 36.765625 34.90625 28.71875 34.90625 \r\nL 20.21875 34.90625 \r\nL 20.21875 43.015625 \r\nL 29.109375 43.015625 \r\nQ 36.375 43.015625 40.234375 45.921875 \r\nQ 44.09375 48.828125 44.09375 54.296875 \r\nQ 44.09375 59.90625 40.109375 62.90625 \r\nQ 36.140625 65.921875 28.71875 65.921875 \r\nQ 24.65625 65.921875 20.015625 65.03125 \r\nQ 15.375 64.15625 9.8125 62.3125 \r\nL 9.8125 71.09375 \r\nQ 15.4375 72.65625 20.34375 73.4375 \r\nQ 25.25 74.21875 29.59375 74.21875 \r\nQ 40.828125 74.21875 47.359375 69.109375 \r\nQ 53.90625 64.015625 53.90625 55.328125 \r\nQ 53.90625 49.265625 50.4375 45.09375 \r\nQ 46.96875 40.921875 40.578125 39.3125 \r\nz\r\n\" id=\"DejaVuSans-51\"/>\r\n       </defs>\r\n       <use xlink:href=\"#DejaVuSans-51\"/>\r\n       <use x=\"63.623047\" xlink:href=\"#DejaVuSans-48\"/>\r\n       <use x=\"127.246094\" xlink:href=\"#DejaVuSans-48\"/>\r\n      </g>\r\n     </g>\r\n    </g>\r\n    <g id=\"xtick_5\">\r\n     <g id=\"line2d_5\">\r\n      <g>\r\n       <use style=\"stroke:#000000;stroke-width:0.8;\" x=\"312.63625\" xlink:href=\"#m2b66ff4c6e\" y=\"429.150469\"/>\r\n      </g>\r\n     </g>\r\n     <g id=\"text_5\">\r\n      <!-- 400 -->\r\n      <g transform=\"translate(303.0925 443.748906)scale(0.1 -0.1)\">\r\n       <defs>\r\n        <path d=\"M 37.796875 64.3125 \r\nL 12.890625 25.390625 \r\nL 37.796875 25.390625 \r\nz\r\nM 35.203125 72.90625 \r\nL 47.609375 72.90625 \r\nL 47.609375 25.390625 \r\nL 58.015625 25.390625 \r\nL 58.015625 17.1875 \r\nL 47.609375 17.1875 \r\nL 47.609375 0 \r\nL 37.796875 0 \r\nL 37.796875 17.1875 \r\nL 4.890625 17.1875 \r\nL 4.890625 26.703125 \r\nz\r\n\" id=\"DejaVuSans-52\"/>\r\n       </defs>\r\n       <use xlink:href=\"#DejaVuSans-52\"/>\r\n       <use x=\"63.623047\" xlink:href=\"#DejaVuSans-48\"/>\r\n       <use x=\"127.246094\" xlink:href=\"#DejaVuSans-48\"/>\r\n      </g>\r\n     </g>\r\n    </g>\r\n    <g id=\"xtick_6\">\r\n     <g id=\"line2d_6\">\r\n      <g>\r\n       <use style=\"stroke:#000000;stroke-width:0.8;\" x=\"382.38625\" xlink:href=\"#m2b66ff4c6e\" y=\"429.150469\"/>\r\n      </g>\r\n     </g>\r\n     <g id=\"text_6\">\r\n      <!-- 500 -->\r\n      <g transform=\"translate(372.8425 443.748906)scale(0.1 -0.1)\">\r\n       <defs>\r\n        <path d=\"M 10.796875 72.90625 \r\nL 49.515625 72.90625 \r\nL 49.515625 64.59375 \r\nL 19.828125 64.59375 \r\nL 19.828125 46.734375 \r\nQ 21.96875 47.46875 24.109375 47.828125 \r\nQ 26.265625 48.1875 28.421875 48.1875 \r\nQ 40.625 48.1875 47.75 41.5 \r\nQ 54.890625 34.8125 54.890625 23.390625 \r\nQ 54.890625 11.625 47.5625 5.09375 \r\nQ 40.234375 -1.421875 26.90625 -1.421875 \r\nQ 22.3125 -1.421875 17.546875 -0.640625 \r\nQ 12.796875 0.140625 7.71875 1.703125 \r\nL 7.71875 11.625 \r\nQ 12.109375 9.234375 16.796875 8.0625 \r\nQ 21.484375 6.890625 26.703125 6.890625 \r\nQ 35.15625 6.890625 40.078125 11.328125 \r\nQ 45.015625 15.765625 45.015625 23.390625 \r\nQ 45.015625 31 40.078125 35.4375 \r\nQ 35.15625 39.890625 26.703125 39.890625 \r\nQ 22.75 39.890625 18.8125 39.015625 \r\nQ 14.890625 38.140625 10.796875 36.28125 \r\nz\r\n\" id=\"DejaVuSans-53\"/>\r\n       </defs>\r\n       <use xlink:href=\"#DejaVuSans-53\"/>\r\n       <use x=\"63.623047\" xlink:href=\"#DejaVuSans-48\"/>\r\n       <use x=\"127.246094\" xlink:href=\"#DejaVuSans-48\"/>\r\n      </g>\r\n     </g>\r\n    </g>\r\n    <g id=\"xtick_7\">\r\n     <g id=\"line2d_7\">\r\n      <g>\r\n       <use style=\"stroke:#000000;stroke-width:0.8;\" x=\"452.13625\" xlink:href=\"#m2b66ff4c6e\" y=\"429.150469\"/>\r\n      </g>\r\n     </g>\r\n     <g id=\"text_7\">\r\n      <!-- 600 -->\r\n      <g transform=\"translate(442.5925 443.748906)scale(0.1 -0.1)\">\r\n       <defs>\r\n        <path d=\"M 33.015625 40.375 \r\nQ 26.375 40.375 22.484375 35.828125 \r\nQ 18.609375 31.296875 18.609375 23.390625 \r\nQ 18.609375 15.53125 22.484375 10.953125 \r\nQ 26.375 6.390625 33.015625 6.390625 \r\nQ 39.65625 6.390625 43.53125 10.953125 \r\nQ 47.40625 15.53125 47.40625 23.390625 \r\nQ 47.40625 31.296875 43.53125 35.828125 \r\nQ 39.65625 40.375 33.015625 40.375 \r\nz\r\nM 52.59375 71.296875 \r\nL 52.59375 62.3125 \r\nQ 48.875 64.0625 45.09375 64.984375 \r\nQ 41.3125 65.921875 37.59375 65.921875 \r\nQ 27.828125 65.921875 22.671875 59.328125 \r\nQ 17.53125 52.734375 16.796875 39.40625 \r\nQ 19.671875 43.65625 24.015625 45.921875 \r\nQ 28.375 48.1875 33.59375 48.1875 \r\nQ 44.578125 48.1875 50.953125 41.515625 \r\nQ 57.328125 34.859375 57.328125 23.390625 \r\nQ 57.328125 12.15625 50.6875 5.359375 \r\nQ 44.046875 -1.421875 33.015625 -1.421875 \r\nQ 20.359375 -1.421875 13.671875 8.265625 \r\nQ 6.984375 17.96875 6.984375 36.375 \r\nQ 6.984375 53.65625 15.1875 63.9375 \r\nQ 23.390625 74.21875 37.203125 74.21875 \r\nQ 40.921875 74.21875 44.703125 73.484375 \r\nQ 48.484375 72.75 52.59375 71.296875 \r\nz\r\n\" id=\"DejaVuSans-54\"/>\r\n       </defs>\r\n       <use xlink:href=\"#DejaVuSans-54\"/>\r\n       <use x=\"63.623047\" xlink:href=\"#DejaVuSans-48\"/>\r\n       <use x=\"127.246094\" xlink:href=\"#DejaVuSans-48\"/>\r\n      </g>\r\n     </g>\r\n    </g>\r\n    <g id=\"xtick_8\">\r\n     <g id=\"line2d_8\">\r\n      <g>\r\n       <use style=\"stroke:#000000;stroke-width:0.8;\" x=\"521.88625\" xlink:href=\"#m2b66ff4c6e\" y=\"429.150469\"/>\r\n      </g>\r\n     </g>\r\n     <g id=\"text_8\">\r\n      <!-- 700 -->\r\n      <g transform=\"translate(512.3425 443.748906)scale(0.1 -0.1)\">\r\n       <defs>\r\n        <path d=\"M 8.203125 72.90625 \r\nL 55.078125 72.90625 \r\nL 55.078125 68.703125 \r\nL 28.609375 0 \r\nL 18.3125 0 \r\nL 43.21875 64.59375 \r\nL 8.203125 64.59375 \r\nz\r\n\" id=\"DejaVuSans-55\"/>\r\n       </defs>\r\n       <use xlink:href=\"#DejaVuSans-55\"/>\r\n       <use x=\"63.623047\" xlink:href=\"#DejaVuSans-48\"/>\r\n       <use x=\"127.246094\" xlink:href=\"#DejaVuSans-48\"/>\r\n      </g>\r\n     </g>\r\n    </g>\r\n   </g>\r\n   <g id=\"matplotlib.axis_2\">\r\n    <g id=\"ytick_1\">\r\n     <g id=\"line2d_9\">\r\n      <defs>\r\n       <path d=\"M 0 0 \r\nL -3.5 0 \r\n\" id=\"md7f08cd4b2\" style=\"stroke:#000000;stroke-width:0.8;\"/>\r\n      </defs>\r\n      <g>\r\n       <use style=\"stroke:#000000;stroke-width:0.8;\" x=\"33.2875\" xlink:href=\"#md7f08cd4b2\" y=\"10.999219\"/>\r\n      </g>\r\n     </g>\r\n     <g id=\"text_9\">\r\n      <!-- 0 -->\r\n      <g transform=\"translate(19.925 14.798438)scale(0.1 -0.1)\">\r\n       <use xlink:href=\"#DejaVuSans-48\"/>\r\n      </g>\r\n     </g>\r\n    </g>\r\n    <g id=\"ytick_2\">\r\n     <g id=\"line2d_10\">\r\n      <g>\r\n       <use style=\"stroke:#000000;stroke-width:0.8;\" x=\"33.2875\" xlink:href=\"#md7f08cd4b2\" y=\"80.749219\"/>\r\n      </g>\r\n     </g>\r\n     <g id=\"text_10\">\r\n      <!-- 100 -->\r\n      <g transform=\"translate(7.2 84.548438)scale(0.1 -0.1)\">\r\n       <use xlink:href=\"#DejaVuSans-49\"/>\r\n       <use x=\"63.623047\" xlink:href=\"#DejaVuSans-48\"/>\r\n       <use x=\"127.246094\" xlink:href=\"#DejaVuSans-48\"/>\r\n      </g>\r\n     </g>\r\n    </g>\r\n    <g id=\"ytick_3\">\r\n     <g id=\"line2d_11\">\r\n      <g>\r\n       <use style=\"stroke:#000000;stroke-width:0.8;\" x=\"33.2875\" xlink:href=\"#md7f08cd4b2\" y=\"150.499219\"/>\r\n      </g>\r\n     </g>\r\n     <g id=\"text_11\">\r\n      <!-- 200 -->\r\n      <g transform=\"translate(7.2 154.298438)scale(0.1 -0.1)\">\r\n       <use xlink:href=\"#DejaVuSans-50\"/>\r\n       <use x=\"63.623047\" xlink:href=\"#DejaVuSans-48\"/>\r\n       <use x=\"127.246094\" xlink:href=\"#DejaVuSans-48\"/>\r\n      </g>\r\n     </g>\r\n    </g>\r\n    <g id=\"ytick_4\">\r\n     <g id=\"line2d_12\">\r\n      <g>\r\n       <use style=\"stroke:#000000;stroke-width:0.8;\" x=\"33.2875\" xlink:href=\"#md7f08cd4b2\" y=\"220.249219\"/>\r\n      </g>\r\n     </g>\r\n     <g id=\"text_12\">\r\n      <!-- 300 -->\r\n      <g transform=\"translate(7.2 224.048438)scale(0.1 -0.1)\">\r\n       <use xlink:href=\"#DejaVuSans-51\"/>\r\n       <use x=\"63.623047\" xlink:href=\"#DejaVuSans-48\"/>\r\n       <use x=\"127.246094\" xlink:href=\"#DejaVuSans-48\"/>\r\n      </g>\r\n     </g>\r\n    </g>\r\n    <g id=\"ytick_5\">\r\n     <g id=\"line2d_13\">\r\n      <g>\r\n       <use style=\"stroke:#000000;stroke-width:0.8;\" x=\"33.2875\" xlink:href=\"#md7f08cd4b2\" y=\"289.999219\"/>\r\n      </g>\r\n     </g>\r\n     <g id=\"text_13\">\r\n      <!-- 400 -->\r\n      <g transform=\"translate(7.2 293.798437)scale(0.1 -0.1)\">\r\n       <use xlink:href=\"#DejaVuSans-52\"/>\r\n       <use x=\"63.623047\" xlink:href=\"#DejaVuSans-48\"/>\r\n       <use x=\"127.246094\" xlink:href=\"#DejaVuSans-48\"/>\r\n      </g>\r\n     </g>\r\n    </g>\r\n    <g id=\"ytick_6\">\r\n     <g id=\"line2d_14\">\r\n      <g>\r\n       <use style=\"stroke:#000000;stroke-width:0.8;\" x=\"33.2875\" xlink:href=\"#md7f08cd4b2\" y=\"359.749219\"/>\r\n      </g>\r\n     </g>\r\n     <g id=\"text_14\">\r\n      <!-- 500 -->\r\n      <g transform=\"translate(7.2 363.548437)scale(0.1 -0.1)\">\r\n       <use xlink:href=\"#DejaVuSans-53\"/>\r\n       <use x=\"63.623047\" xlink:href=\"#DejaVuSans-48\"/>\r\n       <use x=\"127.246094\" xlink:href=\"#DejaVuSans-48\"/>\r\n      </g>\r\n     </g>\r\n    </g>\r\n   </g>\r\n   <g id=\"patch_3\">\r\n    <path d=\"M 33.2875 429.150469 \r\nL 33.2875 10.650469 \r\n\" style=\"fill:none;stroke:#000000;stroke-linecap:square;stroke-linejoin:miter;stroke-width:0.8;\"/>\r\n   </g>\r\n   <g id=\"patch_4\">\r\n    <path d=\"M 591.2875 429.150469 \r\nL 591.2875 10.650469 \r\n\" style=\"fill:none;stroke:#000000;stroke-linecap:square;stroke-linejoin:miter;stroke-width:0.8;\"/>\r\n   </g>\r\n   <g id=\"patch_5\">\r\n    <path d=\"M 33.2875 429.150469 \r\nL 591.2875 429.150469 \r\n\" style=\"fill:none;stroke:#000000;stroke-linecap:square;stroke-linejoin:miter;stroke-width:0.8;\"/>\r\n   </g>\r\n   <g id=\"patch_6\">\r\n    <path d=\"M 33.2875 10.650469 \r\nL 591.2875 10.650469 \r\n\" style=\"fill:none;stroke:#000000;stroke-linecap:square;stroke-linejoin:miter;stroke-width:0.8;\"/>\r\n   </g>\r\n  </g>\r\n </g>\r\n <defs>\r\n  <clipPath id=\"p2b9bb1d48f\">\r\n   <rect height=\"418.5\" width=\"558\" x=\"33.2875\" y=\"10.650469\"/>\r\n  </clipPath>\r\n </defs>\r\n</svg>\r\n",
      "text/plain": [
       "<Figure size 720x1080 with 1 Axes>"
      ]
     },
     "metadata": {
      "needs_background": "light"
     }
    }
   ],
   "metadata": {}
  },
  {
   "cell_type": "markdown",
   "source": [
    "# Step Function\r\n",
    "\r\n",
    "Now that we have the reset function out of the way, we begin work on implementing the step function, which will contain the code to transition our environment from one state to the next given an action. In many ways, this section is the proverbial meat of our environment, and this is where most of the planning goes.\r\n",
    "\r\n",
    "We first need to enlist things that need to happen in one transition step of the environment. This can be basically broken down into two parts:\r\n",
    "\r\n",
    "1. Applying actions to our agent.\r\n",
    "2. Everything else that happens in the environments, such as behaviour of the non-RL actors (e.g. birds and floating gas stations).\r\n",
    "\r\n",
    "So let's first focus on (1). We provide actions to the game that will control what our chopper does. We basically have 5 actions, which are move right, left, down, up, or do nothing, denoted by 0, 1, 2, 3, and 4, respectively.  \r\n",
    "\r\n",
    "We define a member function called get_action_meanings() that will tell us what integer each action is mapped to for our reference.\r\n",
    "\r\n"
   ],
   "metadata": {}
  },
  {
   "cell_type": "code",
   "execution_count": 77,
   "source": [
    "%%add_to ChopperScape\r\n",
    "\r\n",
    "def get_action_meanings(self):\r\n",
    "    return {0: \"Right\", 1: \"Left\", 2: \"Down\", 3: \"Up\", 4: \"Do Nothing\"}\r\n"
   ],
   "outputs": [],
   "metadata": {}
  },
  {
   "cell_type": "markdown",
   "source": [
    "Now that we have taken care of applying the action to the chopper, we focus on the other elements of the environment:\r\n",
    "\r\n",
    " - Birds spawn randomly from the right edge of the screen with a probability of 1% (i.e. a bird is likely to appear on the right edge once every hundred frames). The bird moves 5 coordinate points every frame to the left. If they hit the Chopper the game ends. Otherwise, they disappear from the game once they reach the left edge.\r\n",
    " - Fuel tanks spawn randomly from the bottom edge of the screen with a probability of 1 % (i.e. a fuel tank is likely to appear on the bottom edge once every hundred frames). The bird moves 5 co-ordinates up every frame. If they hit the Chopper, the Chopper is fuelled to its full capacity. Otherwise, they disappear from the game once they reach the top edge.\r\n",
    "\r\n",
    "In order to implement the features outlined above, we need to implement a helper function that helps us determine whether two Point objects (such as a Chopper/Bird, Chopper/Fuel Tank) have collided or not. How do we define a collision? We say that two points have collided when the distance between the coordinates of their centers is less than half of the sum of their dimensions. We call this function has_collided"
   ],
   "metadata": {}
  },
  {
   "cell_type": "code",
   "execution_count": 78,
   "source": [
    "%%add_to ChopperScape\r\n",
    "\r\n",
    "def has_collided(self, elem1, elem2):\r\n",
    "    x_col = False\r\n",
    "    y_col = False\r\n",
    "\r\n",
    "    elem1_x, elem1_y = elem1.get_position()\r\n",
    "    elem2_x, elem2_y = elem2.get_position()\r\n",
    "\r\n",
    "    if 2 * abs(elem1_x - elem2_x) <= (elem1.icon_w + elem2.icon_w):\r\n",
    "        x_col = True\r\n",
    "\r\n",
    "    if 2 * abs(elem1_y - elem2_y) <= (elem1.icon_h + elem2.icon_h):\r\n",
    "        y_col = True\r\n",
    "    \r\n",
    "    if x_col and y_col:\r\n",
    "        return True\r\n",
    "    \r\n",
    "    return False"
   ],
   "outputs": [],
   "metadata": {}
  },
  {
   "cell_type": "markdown",
   "source": [
    "Apart from this, we have to do some book-keeping. The reward for each step is 1, therefore, the episodic return counter is updated by 1 every episode. If there is a collision, the reward is -10 and the episode terminates. The fuel counter is reduced by 1 at every step.\r\n",
    "\r\n",
    "Finally, we implement our step function. I've wrote extensive comments to guide you through it."
   ],
   "metadata": {}
  },
  {
   "cell_type": "code",
   "execution_count": 79,
   "source": [
    "%%add_to ChopperScape\r\n",
    "\r\n",
    "def step(self, action):\r\n",
    "    # Flag that marks the termination of an episode\r\n",
    "    done = False\r\n",
    "    \r\n",
    "    # Assert that it is a valid action \r\n",
    "    assert self.action_space.contains(action), \"Invalid Action\"\r\n",
    "\r\n",
    "    # Decrease the fuel counter \r\n",
    "    self.fuel_left -= 1 \r\n",
    "    \r\n",
    "    # Reward for executing a step.\r\n",
    "    reward = 1      \r\n",
    "\r\n",
    "    # apply the action to the chopper\r\n",
    "    if action == 0:\r\n",
    "        self.chopper.move(0,5)\r\n",
    "    elif action == 1:\r\n",
    "        self.chopper.move(0,-5)\r\n",
    "    elif action == 2:\r\n",
    "        self.chopper.move(5,0)\r\n",
    "    elif action == 3:\r\n",
    "        self.chopper.move(-5,0)\r\n",
    "    elif action == 4:\r\n",
    "        self.chopper.move(0,0)\r\n",
    "\r\n",
    "    # Spawn a bird at the right edge with prob 0.01\r\n",
    "    if random.random() < 0.01:\r\n",
    "        \r\n",
    "        # Spawn a bird\r\n",
    "        spawned_bird = Bird(\"bird_{}\".format(self.bird_count), self.x_max, self.x_min, self.y_max, self.y_min)\r\n",
    "        self.bird_count += 1\r\n",
    "\r\n",
    "        # Compute the x,y co-ordinates of the position from where the bird has to be spawned\r\n",
    "        # Horizontally, the position is on the right edge and vertically, the height is randomly \r\n",
    "        # sampled from the set of permissible values\r\n",
    "        bird_x = self.x_max \r\n",
    "        bird_y = random.randrange(self.y_min, self.y_max)\r\n",
    "        spawned_bird.set_position(self.x_max, bird_y)\r\n",
    "        \r\n",
    "        # Append the spawned bird to the elements currently present in Env. \r\n",
    "        self.elements.append(spawned_bird)    \r\n",
    "\r\n",
    "    # Spawn a fuel at the bottom edge with prob 0.01\r\n",
    "    if random.random() < 0.01:\r\n",
    "        # Spawn a fuel tank\r\n",
    "        spawned_fuel = Fuel(\"fuel_{}\".format(self.bird_count), self.x_max, self.x_min, self.y_max, self.y_min)\r\n",
    "        self.fuel_count += 1\r\n",
    "        \r\n",
    "        # Compute the x,y co-ordinates of the position from where the fuel tank has to be spawned\r\n",
    "        # Horizontally, the position is randomly chosen from the list of permissible values and \r\n",
    "        # vertically, the position is on the bottom edge\r\n",
    "        fuel_x = random.randrange(self.x_min, self.x_max)\r\n",
    "        fuel_y = self.y_max\r\n",
    "        spawned_fuel.set_position(fuel_x, fuel_y)\r\n",
    "        \r\n",
    "        # Append the spawned fuel tank to the elemetns currently present in the Env.\r\n",
    "        self.elements.append(spawned_fuel)   \r\n",
    "\r\n",
    "    # For elements in the Ev\r\n",
    "    for elem in self.elements:\r\n",
    "        if isinstance(elem, Bird):\r\n",
    "            # If the bird has reached the left edge, remove it from the Env\r\n",
    "            if elem.get_position()[0] <= self.x_min:\r\n",
    "                self.elements.remove(elem)\r\n",
    "            else:\r\n",
    "                # Move the bird left by 5 pts.\r\n",
    "                elem.move(-5,0)\r\n",
    "            \r\n",
    "            # If the bird has collided.\r\n",
    "            if self.has_collided(self.chopper, elem):\r\n",
    "                # Conclude the episode and remove the chopper from the Env.\r\n",
    "                done = True\r\n",
    "                reward = -10\r\n",
    "                self.elements.remove(self.chopper)\r\n",
    "\r\n",
    "        if isinstance(elem, Fuel):\r\n",
    "            # If the fuel tank has reached the top, remove it from the Env\r\n",
    "            if elem.get_position()[1] <= self.y_min:\r\n",
    "                self.elements.remove(elem)\r\n",
    "            else:\r\n",
    "                # Move the Tank up by 5 pts.\r\n",
    "                elem.move(0, -5)\r\n",
    "                \r\n",
    "            # If the fuel tank has collided with the chopper.\r\n",
    "            if self.has_collided(self.chopper, elem):\r\n",
    "                # Remove the fuel tank from the env.\r\n",
    "                self.elements.remove(elem)\r\n",
    "                \r\n",
    "                # Fill the fuel tank of the chopper to full.\r\n",
    "                self.fuel_left = self.max_fuel\r\n",
    "    \r\n",
    "    # Increment the episodic return\r\n",
    "    self.ep_return += 1\r\n",
    "\r\n",
    "    # Draw elements on the canvas\r\n",
    "    self.draw_elements_on_canvas()\r\n",
    "\r\n",
    "    # If out of fuel, end the episode.\r\n",
    "    if self.fuel_left == 0:\r\n",
    "        done = True\r\n",
    "\r\n",
    "    return self.canvas, reward, done, {}"
   ],
   "outputs": [],
   "metadata": {}
  },
  {
   "cell_type": "code",
   "execution_count": 80,
   "source": [
    "from IPython import display\r\n",
    "\r\n",
    "env = ChopperScape()\r\n",
    "obs = env.reset()\r\n",
    "\r\n",
    "while True:\r\n",
    "    action = env.action_space.sample()\r\n",
    "    obs, reward, done, info = env.step(action)\r\n",
    "\r\n",
    "    env.render()\r\n",
    "\r\n",
    "    if done == True:\r\n",
    "        break\r\n",
    "\r\n",
    "env.close()"
   ],
   "outputs": [],
   "metadata": {}
  },
  {
   "cell_type": "code",
   "execution_count": 81,
   "source": [
    "from stable_baselines.common.env_checker import check_env"
   ],
   "outputs": [],
   "metadata": {}
  },
  {
   "cell_type": "code",
   "execution_count": 82,
   "source": [
    "env = ChopperScape()\r\n",
    "check_env(env, warn=True)"
   ],
   "outputs": [],
   "metadata": {}
  },
  {
   "cell_type": "code",
   "execution_count": null,
   "source": [],
   "outputs": [],
   "metadata": {}
  },
  {
   "cell_type": "code",
   "execution_count": null,
   "source": [],
   "outputs": [],
   "metadata": {}
  }
 ],
 "metadata": {
  "orig_nbformat": 4,
  "language_info": {
   "name": "python",
   "version": "3.8.10",
   "mimetype": "text/x-python",
   "codemirror_mode": {
    "name": "ipython",
    "version": 3
   },
   "pygments_lexer": "ipython3",
   "nbconvert_exporter": "python",
   "file_extension": ".py"
  },
  "kernelspec": {
   "name": "python3",
   "display_name": "Python 3.8.10 64-bit ('pytorch_env': conda)"
  },
  "interpreter": {
   "hash": "c833507e7eb7af7ca95c7423b09e2995fbfb15583771793a8991c1685b565bec"
  }
 },
 "nbformat": 4,
 "nbformat_minor": 2
}