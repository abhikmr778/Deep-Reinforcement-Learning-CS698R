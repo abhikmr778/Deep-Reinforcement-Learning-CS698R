{
 "cells": [
  {
   "cell_type": "markdown",
   "source": [
    "# Tutorial followed from https://blog.paperspace.com/creating-custom-environments-openai-gym/"
   ],
   "metadata": {}
  },
  {
   "cell_type": "code",
   "execution_count": null,
   "source": [
    "import numpy as np\r\n",
    "import cv2\r\n",
    "import matplotlib.pyplot as plt\r\n",
    "import PIL.Image as Image\r\n",
    "import gym\r\n",
    "import random\r\n",
    "import jdc\r\n",
    "\r\n",
    "from gym import Env, spaces\r\n",
    "import time \r\n",
    "font = cv2.FONT_HERSHEY_COMPLEX_SMALL"
   ],
   "outputs": [
    {
     "output_type": "error",
     "ename": "Error",
     "evalue": "Kernel is dead",
     "traceback": [
      "Error: Kernel is dead",
      "at g._sendKernelShellControl (c:\\Users\\Abhinav\\.vscode\\extensions\\ms-toolsai.jupyter-2021.8.1236758218\\out\\client\\extension.js:52:852667)",
      "at g.sendShellMessage (c:\\Users\\Abhinav\\.vscode\\extensions\\ms-toolsai.jupyter-2021.8.1236758218\\out\\client\\extension.js:52:852436)",
      "at g.requestExecute (c:\\Users\\Abhinav\\.vscode\\extensions\\ms-toolsai.jupyter-2021.8.1236758218\\out\\client\\extension.js:52:854978)",
      "at d.requestExecute (c:\\Users\\Abhinav\\.vscode\\extensions\\ms-toolsai.jupyter-2021.8.1236758218\\out\\client\\extension.js:37:304068)",
      "at w.requestExecute (c:\\Users\\Abhinav\\.vscode\\extensions\\ms-toolsai.jupyter-2021.8.1236758218\\out\\client\\extension.js:24:122363)",
      "at w.executeCodeCell (c:\\Users\\Abhinav\\.vscode\\extensions\\ms-toolsai.jupyter-2021.8.1236758218\\out\\client\\extension.js:90:326965)",
      "at w.execute (c:\\Users\\Abhinav\\.vscode\\extensions\\ms-toolsai.jupyter-2021.8.1236758218\\out\\client\\extension.js:90:326520)",
      "at w.start (c:\\Users\\Abhinav\\.vscode\\extensions\\ms-toolsai.jupyter-2021.8.1236758218\\out\\client\\extension.js:90:322336)",
      "at runMicrotasks (<anonymous>)",
      "at processTicksAndRejections (internal/process/task_queues.js:93:5)",
      "at t.CellExecutionQueue.executeQueuedCells (c:\\Users\\Abhinav\\.vscode\\extensions\\ms-toolsai.jupyter-2021.8.1236758218\\out\\client\\extension.js:90:336863)",
      "at t.CellExecutionQueue.start (c:\\Users\\Abhinav\\.vscode\\extensions\\ms-toolsai.jupyter-2021.8.1236758218\\out\\client\\extension.js:90:336403)"
     ]
    }
   ],
   "metadata": {}
  },
  {
   "cell_type": "markdown",
   "source": [
    "The environment that we are creating is basically a game that is heavily inspired by the Dino Run game, the one which you play in Google Chrome if you are disconnected from the Internet. There is a dinosaur, and you have to jump over cacti and avoid hitting birds. The distance you cover is representative of the reward you end up getting."
   ],
   "metadata": {}
  },
  {
   "cell_type": "markdown",
   "source": [
    "In our game, instead of a dinosaur, our agent is going to be a Chopper pilot.\r\n",
    "\r\n",
    "1. The chopper has to cover as much distance as possible to get the maximum reward. There will be birds  that the chopper has to avoid.\r\n",
    "2. The episode terminates in case of a bird strike. The episode can also terminate if the Chopper runs out of fuel.\r\n",
    "3. Just like birds, there are floating fuel tanks (yes, no points for being close to reality, I know!) which the Chopper can collect to refuel the chopper to its full capacity (which is fixed at 1000 L).\r\n",
    "\r\n",
    "The very first consideration while designing an environment is to decide what sort of observation space and action space we will be using.\r\n",
    "\r\n",
    "1. The observation space can be either continuous or discrete. An example of a discrete action space is that of a grid-world where the observation space is defined by cells, and the agent could be inside one of those cells. An example of a continuous action space is one where the position of the agent is described by real-valued coordinates.\r\n",
    "\r\n",
    "2. The action space can be either continuous or discrete as well. An example of a discrete space is one where each action corresponds to the particular behavior of the agent, but that behavior cannot be quantified. An example of this is Mario Bros, where each action would lead to moving left, right, jumping, etc. Your actions can't quantify the behavior being produced, i.e. you can jump but not jump high, higher, or lower. However, in a game like Angry Birds, you decide how much to stretch the slingshot (you quantify it)."
   ],
   "metadata": {}
  },
  {
   "cell_type": "code",
   "execution_count": null,
   "source": [
    "class ChopperScape(Env):\r\n",
    "    def __init__(self):\r\n",
    "        super(ChopperScape, self).__init__()\r\n",
    "        \r\n",
    "\r\n",
    "        # 2D observation space\r\n",
    "        self.observation_shape = (600,800,3)\r\n",
    "        # Box is used cuz continuous\r\n",
    "        self.observation_space = spaces.Box(low = np.zeros(self.observation_shape),\r\n",
    "                                            high = np.ones(self.observation_shape),\r\n",
    "                                            dtype = np.float32)\r\n",
    "        \r\n",
    "        # define an action space ranging from 0 to 4\r\n",
    "        self.action_space = spaces.Discrete(6,)\r\n",
    "\r\n",
    "        # canvas to render the environment images upon\r\n",
    "        self.canvas = np.ones(self.observation_shape) * 1\r\n",
    "\r\n",
    "        # define elements present inside the environment\r\n",
    "        self.elements = []\r\n",
    "\r\n",
    "        # max fuel\r\n",
    "        self.max_fuel = 1000\r\n",
    "\r\n",
    "        # permissible area of helicopter to be\r\n",
    "        self.y_min = int (self.observation_shape[0] * 0.1)\r\n",
    "        self.x_min = 0\r\n",
    "        self.y_max = int (self.observation_shape[0] * 0.9)\r\n",
    "        self.x_max = self.observation_shape[1]\r\n"
   ],
   "outputs": [],
   "metadata": {}
  },
  {
   "cell_type": "markdown",
   "source": [
    "# Elements of the Environment\r\n",
    "\r\n",
    "Once we have determined the action space and the observation space, we need to finalize what would be the elements of our environment. In our game, we have three distinct elements: the Chopper, Flying Birds, and and Floating Fuel Stations. We will be implementing all of these as separate classes that inherit from a common base class called Point.\r\n",
    "\r\n",
    "# Point Base Class\r\n",
    "The Point class is used to define any arbitrary point on our observation image. We define this class with the following attributes:\r\n",
    "\r\n",
    " - (x,y): Position of the point on the image.\r\n",
    " - (x_min, x_max, y_min, y_max): Permissible coordinates for the point. If we try to set the position of the point outside these limits, the position values are clamped to these limits.\r\n",
    " - name: Name of the point.\r\n",
    "\r\n",
    "We define the following member functions for this class.\r\n",
    "\r\n",
    " - get_position: Get the coordinates of the point.\r\n",
    " - set_position: Set the coordinates of the point to a certain value.\r\n",
    " - move: Move the points by certain value."
   ],
   "metadata": {}
  },
  {
   "cell_type": "code",
   "execution_count": null,
   "source": [
    "class Point(object):\r\n",
    "    def __init__(self, name, x_max, x_min, y_max, y_min):\r\n",
    "        self.x = 0\r\n",
    "        self.y = 0\r\n",
    "        self.x_min = x_min\r\n",
    "        self.x_max = x_max\r\n",
    "        self.y_min = y_min\r\n",
    "        self.y_max = y_max\r\n",
    "        self.name = name\r\n",
    "    \r\n",
    "    def set_position(self, x, y):\r\n",
    "        self.x = self.clamp(x, self.x_min, self.x_max - self.icon_w)\r\n",
    "        self.y = self.clamp(y, self.y_min, self.y_max - self.icon_h)\r\n",
    "\r\n",
    "    def get_position(self):\r\n",
    "        return (self.x, self.y)\r\n",
    "    \r\n",
    "    def move(self, del_x, del_y):\r\n",
    "        self.x += del_x\r\n",
    "        self.y += del_y\r\n",
    "\r\n",
    "        self.x = self.clamp(self.x, self.x_min, self.x_max - self.icon_w)\r\n",
    "        self.y = self.clamp(self.y, self.y_min, self.y_max - self.icon_h)\r\n",
    "\r\n",
    "    def clamp(self, n, minn, maxn):\r\n",
    "        return max(min(n,maxn), minn)"
   ],
   "outputs": [],
   "metadata": {}
  },
  {
   "cell_type": "markdown",
   "source": [
    "Now we define the classes Chopper, Bird and Fuel. These classes are derived from the Point class, and introduce a set of new attributes:\r\n",
    "\r\n",
    " - icon: Icon of the point that will display on the  observation image when the game is rendered.\r\n",
    " - (icon_w, icon_h): Dimensions of the icon."
   ],
   "metadata": {}
  },
  {
   "cell_type": "code",
   "execution_count": null,
   "source": [
    "class Chopper(Point):\r\n",
    "    def __init__(self, name, x_max, x_min, y_max, y_min):\r\n",
    "        super(Chopper, self).__init__(name, x_max, x_min, y_max, y_min)\r\n",
    "        self.icon = cv2.imread(\"chopper.png\") / 255.0\r\n",
    "        self.icon_w = 64\r\n",
    "        self.icon_h = 64\r\n",
    "        self.icon = cv2.resize(self.icon, (self.icon_h, self.icon_w))\r\n",
    "\r\n",
    "class Bird(Point):\r\n",
    "    def __init__(self, name, x_max, x_min, y_max, y_min):\r\n",
    "        super(Bird, self).__init__(name, x_max, x_min, y_max, y_min)\r\n",
    "        self.icon = cv2.imread(\"bird.png\") / 255.0\r\n",
    "        self.icon_w = 32\r\n",
    "        self.icon_h = 32\r\n",
    "        self.icon = cv2.resize(self.icon, (self.icon_h, self.icon_w))\r\n",
    "        \r\n",
    "class Fuel(Point):\r\n",
    "    def __init__(self, name, x_max, x_min, y_max, y_min):\r\n",
    "        super(Fuel, self).__init__(name, x_max, x_min, y_max, y_min)\r\n",
    "        self.icon = cv2.imread(\"fuel.png\") / 255.0\r\n",
    "        self.icon_w = 32\r\n",
    "        self.icon_h = 32\r\n",
    "        self.icon = cv2.resize(self.icon, (self.icon_h, self.icon_w))\r\n",
    "        "
   ],
   "outputs": [],
   "metadata": {}
  },
  {
   "cell_type": "markdown",
   "source": [
    "# Back to the ChopperScape Class\r\n",
    "\r\n",
    "Recall from Part 1 that any gym Env class has two important functions:\r\n",
    "\r\n",
    "1. reset: Resets the environment to its initial state and returns the initial observation.\r\n",
    "2. step : Executes a step in the environment by applying an action. Returns the new observation, reward, completion status, and other info.\r\n",
    "\r\n",
    "In this section, we will be implementing the reset and step functions of our environment along with many other helper functions. We begin with reset function.\r\n",
    "\r\n",
    "# Reset Function\r\n",
    "\r\n",
    "When we reset our environment, we need to reset all the state-based variables in our environment. These include things like fuel consumed, episodic return, and the elements present inside the environment.\r\n",
    "\r\n",
    "In our case, when we reset our environment, we have nothing but the Chopper in the initial state. We initialize our chopper randomly in an area in the top-left of our image. This area is 5-10 percent of the image width and 15-20 percent of the image height.\r\n",
    "\r\n",
    "We also define a helper function called draw_elements_on_canvas that basically places the icons of each of the elements present in the game at their respective positions in the observation image. If the position is beyond the permissible range, then the icons are placed on the range boundaries. We also print important information such as the remaining fuel.\r\n",
    "\r\n",
    "We finally return the canvas on which the elements have been placed as the observation."
   ],
   "metadata": {}
  },
  {
   "cell_type": "code",
   "execution_count": null,
   "source": [
    "%%add_to ChopperScape\r\n",
    "\r\n",
    "def draw_elements_on_canvas(self):\r\n",
    "    # init the canvas\r\n",
    "    self.canvas = np.ones(self.observation_shape) * 1\r\n",
    "\r\n",
    "    # draw the helicopter on canvas\r\n",
    "    for elem in self.elements:\r\n",
    "        elem_shape = elem.icon.shape\r\n",
    "        x,y = elem.x, elem.y\r\n",
    "        self.canvas[y : y + elem_shape[1], x : x + elem_shape[0]] = elem.icon\r\n",
    "\r\n",
    "    text = 'Fuel Left: {} | Rewards: {}'.format(self.fuel_left, self.ep_return)\r\n",
    "\r\n",
    "    # put info on canvas\r\n",
    "    self.canvas = cv2.putText(self.canvas, text, (10,20), font,\r\n",
    "                            0.8, (0,0,0), 1, cv2.LINE_AA)\r\n",
    "\r\n",
    "def reset(self):\r\n",
    "    # reset fuel\r\n",
    "    self.fuel_left = self.max_fuel\r\n",
    "\r\n",
    "    # reset reward\r\n",
    "    self.ep_return = 0\r\n",
    "\r\n",
    "    # number of birds\r\n",
    "    self.bird_count = 0\r\n",
    "    self.fuel_count = 0\r\n",
    "\r\n",
    "    # init chopper\r\n",
    "    x = random.randrange(int(self.observation_shape[0]*0.05), int(self.observation_shape[0]*0.10))\r\n",
    "    y = random.randrange(int(self.observation_shape[1]*0.15), int(self.observation_shape[1]*0.20))\r\n",
    "\r\n",
    "    # initialize the chopper\r\n",
    "    self.chopper = Chopper(\"chopper\", self.x_max, self.x_min, self.y_max, self.y_min)\r\n",
    "    self.chopper.set_position(x,y)\r\n",
    "\r\n",
    "    # initialize the elements\r\n",
    "    self.elements = [self.chopper]\r\n",
    "\r\n",
    "    # reset the canvas\r\n",
    "    self.canvas = np.ones(self.observation_shape) * 1\r\n",
    "\r\n",
    "    # draw the elements on canvas\r\n",
    "    self.draw_elements_on_canvas()\r\n",
    "\r\n",
    "    # return the observation\r\n",
    "    return self.canvas\r\n",
    "\r\n",
    "\r\n",
    "\r\n"
   ],
   "outputs": [],
   "metadata": {}
  },
  {
   "cell_type": "markdown",
   "source": [
    "## Initial Observation"
   ],
   "metadata": {}
  },
  {
   "cell_type": "code",
   "execution_count": null,
   "source": [
    "env = ChopperScape()\r\n",
    "obs = env.reset()\r\n",
    "plt.figure(figsize=(10,15))\r\n",
    "plt.imshow(obs)"
   ],
   "outputs": [
    {
     "output_type": "execute_result",
     "data": {
      "text/plain": [
       "<matplotlib.image.AxesImage at 0x1e15e91e640>"
      ]
     },
     "metadata": {},
     "execution_count": 127
    },
    {
     "output_type": "display_data",
     "data": {
      "text/plain": [
       "<Figure size 720x1080 with 1 Axes>"
      ],
      "image/svg+xml": "<?xml version=\"1.0\" encoding=\"utf-8\" standalone=\"no\"?>\r\n<!DOCTYPE svg PUBLIC \"-//W3C//DTD SVG 1.1//EN\"\r\n  \"http://www.w3.org/Graphics/SVG/1.1/DTD/svg11.dtd\">\r\n<!-- Created with matplotlib (https://matplotlib.org/) -->\r\n<svg height=\"453.028594pt\" version=\"1.1\" viewBox=\"0 0 598.4875 453.028594\" width=\"598.4875pt\" xmlns=\"http://www.w3.org/2000/svg\" xmlns:xlink=\"http://www.w3.org/1999/xlink\">\r\n <metadata>\r\n  <rdf:RDF xmlns:cc=\"http://creativecommons.org/ns#\" xmlns:dc=\"http://purl.org/dc/elements/1.1/\" xmlns:rdf=\"http://www.w3.org/1999/02/22-rdf-syntax-ns#\">\r\n   <cc:Work>\r\n    <dc:type rdf:resource=\"http://purl.org/dc/dcmitype/StillImage\"/>\r\n    <dc:date>2021-09-03T11:19:21.505552</dc:date>\r\n    <dc:format>image/svg+xml</dc:format>\r\n    <dc:creator>\r\n     <cc:Agent>\r\n      <dc:title>Matplotlib v3.3.2, https://matplotlib.org/</dc:title>\r\n     </cc:Agent>\r\n    </dc:creator>\r\n   </cc:Work>\r\n  </rdf:RDF>\r\n </metadata>\r\n <defs>\r\n  <style type=\"text/css\">*{stroke-linecap:butt;stroke-linejoin:round;}</style>\r\n </defs>\r\n <g id=\"figure_1\">\r\n  <g id=\"patch_1\">\r\n   <path d=\"M 0 453.028594 \r\nL 598.4875 453.028594 \r\nL 598.4875 -0 \r\nL 0 -0 \r\nz\r\n\" style=\"fill:none;\"/>\r\n  </g>\r\n  <g id=\"axes_1\">\r\n   <g id=\"patch_2\">\r\n    <path d=\"M 33.2875 429.150469 \r\nL 591.2875 429.150469 \r\nL 591.2875 10.650469 \r\nL 33.2875 10.650469 \r\nz\r\n\" style=\"fill:#ffffff;\"/>\r\n   </g>\r\n   <g clip-path=\"url(#pd632c80044)\">\r\n    <image height=\"419\" id=\"imaged891ca65f6\" transform=\"scale(1 -1)translate(0 -419)\" width=\"558\" x=\"33.2875\" xlink:href=\"data:image/png;base64,\r\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\" y=\"-10.150469\"/>\r\n   </g>\r\n   <g id=\"matplotlib.axis_1\">\r\n    <g id=\"xtick_1\">\r\n     <g id=\"line2d_1\">\r\n      <defs>\r\n       <path d=\"M 0 0 \r\nL 0 3.5 \r\n\" id=\"mcc257536f3\" style=\"stroke:#000000;stroke-width:0.8;\"/>\r\n      </defs>\r\n      <g>\r\n       <use style=\"stroke:#000000;stroke-width:0.8;\" x=\"33.63625\" xlink:href=\"#mcc257536f3\" y=\"429.150469\"/>\r\n      </g>\r\n     </g>\r\n     <g id=\"text_1\">\r\n      <!-- 0 -->\r\n      <g transform=\"translate(30.455 443.748906)scale(0.1 -0.1)\">\r\n       <defs>\r\n        <path d=\"M 31.78125 66.40625 \r\nQ 24.171875 66.40625 20.328125 58.90625 \r\nQ 16.5 51.421875 16.5 36.375 \r\nQ 16.5 21.390625 20.328125 13.890625 \r\nQ 24.171875 6.390625 31.78125 6.390625 \r\nQ 39.453125 6.390625 43.28125 13.890625 \r\nQ 47.125 21.390625 47.125 36.375 \r\nQ 47.125 51.421875 43.28125 58.90625 \r\nQ 39.453125 66.40625 31.78125 66.40625 \r\nz\r\nM 31.78125 74.21875 \r\nQ 44.046875 74.21875 50.515625 64.515625 \r\nQ 56.984375 54.828125 56.984375 36.375 \r\nQ 56.984375 17.96875 50.515625 8.265625 \r\nQ 44.046875 -1.421875 31.78125 -1.421875 \r\nQ 19.53125 -1.421875 13.0625 8.265625 \r\nQ 6.59375 17.96875 6.59375 36.375 \r\nQ 6.59375 54.828125 13.0625 64.515625 \r\nQ 19.53125 74.21875 31.78125 74.21875 \r\nz\r\n\" id=\"DejaVuSans-48\"/>\r\n       </defs>\r\n       <use xlink:href=\"#DejaVuSans-48\"/>\r\n      </g>\r\n     </g>\r\n    </g>\r\n    <g id=\"xtick_2\">\r\n     <g id=\"line2d_2\">\r\n      <g>\r\n       <use style=\"stroke:#000000;stroke-width:0.8;\" x=\"103.38625\" xlink:href=\"#mcc257536f3\" y=\"429.150469\"/>\r\n      </g>\r\n     </g>\r\n     <g id=\"text_2\">\r\n      <!-- 100 -->\r\n      <g transform=\"translate(93.8425 443.748906)scale(0.1 -0.1)\">\r\n       <defs>\r\n        <path d=\"M 12.40625 8.296875 \r\nL 28.515625 8.296875 \r\nL 28.515625 63.921875 \r\nL 10.984375 60.40625 \r\nL 10.984375 69.390625 \r\nL 28.421875 72.90625 \r\nL 38.28125 72.90625 \r\nL 38.28125 8.296875 \r\nL 54.390625 8.296875 \r\nL 54.390625 0 \r\nL 12.40625 0 \r\nz\r\n\" id=\"DejaVuSans-49\"/>\r\n       </defs>\r\n       <use xlink:href=\"#DejaVuSans-49\"/>\r\n       <use x=\"63.623047\" xlink:href=\"#DejaVuSans-48\"/>\r\n       <use x=\"127.246094\" xlink:href=\"#DejaVuSans-48\"/>\r\n      </g>\r\n     </g>\r\n    </g>\r\n    <g id=\"xtick_3\">\r\n     <g id=\"line2d_3\">\r\n      <g>\r\n       <use style=\"stroke:#000000;stroke-width:0.8;\" x=\"173.13625\" xlink:href=\"#mcc257536f3\" y=\"429.150469\"/>\r\n      </g>\r\n     </g>\r\n     <g id=\"text_3\">\r\n      <!-- 200 -->\r\n      <g transform=\"translate(163.5925 443.748906)scale(0.1 -0.1)\">\r\n       <defs>\r\n        <path d=\"M 19.1875 8.296875 \r\nL 53.609375 8.296875 \r\nL 53.609375 0 \r\nL 7.328125 0 \r\nL 7.328125 8.296875 \r\nQ 12.9375 14.109375 22.625 23.890625 \r\nQ 32.328125 33.6875 34.8125 36.53125 \r\nQ 39.546875 41.84375 41.421875 45.53125 \r\nQ 43.3125 49.21875 43.3125 52.78125 \r\nQ 43.3125 58.59375 39.234375 62.25 \r\nQ 35.15625 65.921875 28.609375 65.921875 \r\nQ 23.96875 65.921875 18.8125 64.3125 \r\nQ 13.671875 62.703125 7.8125 59.421875 \r\nL 7.8125 69.390625 \r\nQ 13.765625 71.78125 18.9375 73 \r\nQ 24.125 74.21875 28.421875 74.21875 \r\nQ 39.75 74.21875 46.484375 68.546875 \r\nQ 53.21875 62.890625 53.21875 53.421875 \r\nQ 53.21875 48.921875 51.53125 44.890625 \r\nQ 49.859375 40.875 45.40625 35.40625 \r\nQ 44.1875 33.984375 37.640625 27.21875 \r\nQ 31.109375 20.453125 19.1875 8.296875 \r\nz\r\n\" id=\"DejaVuSans-50\"/>\r\n       </defs>\r\n       <use xlink:href=\"#DejaVuSans-50\"/>\r\n       <use x=\"63.623047\" xlink:href=\"#DejaVuSans-48\"/>\r\n       <use x=\"127.246094\" xlink:href=\"#DejaVuSans-48\"/>\r\n      </g>\r\n     </g>\r\n    </g>\r\n    <g id=\"xtick_4\">\r\n     <g id=\"line2d_4\">\r\n      <g>\r\n       <use style=\"stroke:#000000;stroke-width:0.8;\" x=\"242.88625\" xlink:href=\"#mcc257536f3\" y=\"429.150469\"/>\r\n      </g>\r\n     </g>\r\n     <g id=\"text_4\">\r\n      <!-- 300 -->\r\n      <g transform=\"translate(233.3425 443.748906)scale(0.1 -0.1)\">\r\n       <defs>\r\n        <path d=\"M 40.578125 39.3125 \r\nQ 47.65625 37.796875 51.625 33 \r\nQ 55.609375 28.21875 55.609375 21.1875 \r\nQ 55.609375 10.40625 48.1875 4.484375 \r\nQ 40.765625 -1.421875 27.09375 -1.421875 \r\nQ 22.515625 -1.421875 17.65625 -0.515625 \r\nQ 12.796875 0.390625 7.625 2.203125 \r\nL 7.625 11.71875 \r\nQ 11.71875 9.328125 16.59375 8.109375 \r\nQ 21.484375 6.890625 26.8125 6.890625 \r\nQ 36.078125 6.890625 40.9375 10.546875 \r\nQ 45.796875 14.203125 45.796875 21.1875 \r\nQ 45.796875 27.640625 41.28125 31.265625 \r\nQ 36.765625 34.90625 28.71875 34.90625 \r\nL 20.21875 34.90625 \r\nL 20.21875 43.015625 \r\nL 29.109375 43.015625 \r\nQ 36.375 43.015625 40.234375 45.921875 \r\nQ 44.09375 48.828125 44.09375 54.296875 \r\nQ 44.09375 59.90625 40.109375 62.90625 \r\nQ 36.140625 65.921875 28.71875 65.921875 \r\nQ 24.65625 65.921875 20.015625 65.03125 \r\nQ 15.375 64.15625 9.8125 62.3125 \r\nL 9.8125 71.09375 \r\nQ 15.4375 72.65625 20.34375 73.4375 \r\nQ 25.25 74.21875 29.59375 74.21875 \r\nQ 40.828125 74.21875 47.359375 69.109375 \r\nQ 53.90625 64.015625 53.90625 55.328125 \r\nQ 53.90625 49.265625 50.4375 45.09375 \r\nQ 46.96875 40.921875 40.578125 39.3125 \r\nz\r\n\" id=\"DejaVuSans-51\"/>\r\n       </defs>\r\n       <use xlink:href=\"#DejaVuSans-51\"/>\r\n       <use x=\"63.623047\" xlink:href=\"#DejaVuSans-48\"/>\r\n       <use x=\"127.246094\" xlink:href=\"#DejaVuSans-48\"/>\r\n      </g>\r\n     </g>\r\n    </g>\r\n    <g id=\"xtick_5\">\r\n     <g id=\"line2d_5\">\r\n      <g>\r\n       <use style=\"stroke:#000000;stroke-width:0.8;\" x=\"312.63625\" xlink:href=\"#mcc257536f3\" y=\"429.150469\"/>\r\n      </g>\r\n     </g>\r\n     <g id=\"text_5\">\r\n      <!-- 400 -->\r\n      <g transform=\"translate(303.0925 443.748906)scale(0.1 -0.1)\">\r\n       <defs>\r\n        <path d=\"M 37.796875 64.3125 \r\nL 12.890625 25.390625 \r\nL 37.796875 25.390625 \r\nz\r\nM 35.203125 72.90625 \r\nL 47.609375 72.90625 \r\nL 47.609375 25.390625 \r\nL 58.015625 25.390625 \r\nL 58.015625 17.1875 \r\nL 47.609375 17.1875 \r\nL 47.609375 0 \r\nL 37.796875 0 \r\nL 37.796875 17.1875 \r\nL 4.890625 17.1875 \r\nL 4.890625 26.703125 \r\nz\r\n\" id=\"DejaVuSans-52\"/>\r\n       </defs>\r\n       <use xlink:href=\"#DejaVuSans-52\"/>\r\n       <use x=\"63.623047\" xlink:href=\"#DejaVuSans-48\"/>\r\n       <use x=\"127.246094\" xlink:href=\"#DejaVuSans-48\"/>\r\n      </g>\r\n     </g>\r\n    </g>\r\n    <g id=\"xtick_6\">\r\n     <g id=\"line2d_6\">\r\n      <g>\r\n       <use style=\"stroke:#000000;stroke-width:0.8;\" x=\"382.38625\" xlink:href=\"#mcc257536f3\" y=\"429.150469\"/>\r\n      </g>\r\n     </g>\r\n     <g id=\"text_6\">\r\n      <!-- 500 -->\r\n      <g transform=\"translate(372.8425 443.748906)scale(0.1 -0.1)\">\r\n       <defs>\r\n        <path d=\"M 10.796875 72.90625 \r\nL 49.515625 72.90625 \r\nL 49.515625 64.59375 \r\nL 19.828125 64.59375 \r\nL 19.828125 46.734375 \r\nQ 21.96875 47.46875 24.109375 47.828125 \r\nQ 26.265625 48.1875 28.421875 48.1875 \r\nQ 40.625 48.1875 47.75 41.5 \r\nQ 54.890625 34.8125 54.890625 23.390625 \r\nQ 54.890625 11.625 47.5625 5.09375 \r\nQ 40.234375 -1.421875 26.90625 -1.421875 \r\nQ 22.3125 -1.421875 17.546875 -0.640625 \r\nQ 12.796875 0.140625 7.71875 1.703125 \r\nL 7.71875 11.625 \r\nQ 12.109375 9.234375 16.796875 8.0625 \r\nQ 21.484375 6.890625 26.703125 6.890625 \r\nQ 35.15625 6.890625 40.078125 11.328125 \r\nQ 45.015625 15.765625 45.015625 23.390625 \r\nQ 45.015625 31 40.078125 35.4375 \r\nQ 35.15625 39.890625 26.703125 39.890625 \r\nQ 22.75 39.890625 18.8125 39.015625 \r\nQ 14.890625 38.140625 10.796875 36.28125 \r\nz\r\n\" id=\"DejaVuSans-53\"/>\r\n       </defs>\r\n       <use xlink:href=\"#DejaVuSans-53\"/>\r\n       <use x=\"63.623047\" xlink:href=\"#DejaVuSans-48\"/>\r\n       <use x=\"127.246094\" xlink:href=\"#DejaVuSans-48\"/>\r\n      </g>\r\n     </g>\r\n    </g>\r\n    <g id=\"xtick_7\">\r\n     <g id=\"line2d_7\">\r\n      <g>\r\n       <use style=\"stroke:#000000;stroke-width:0.8;\" x=\"452.13625\" xlink:href=\"#mcc257536f3\" y=\"429.150469\"/>\r\n      </g>\r\n     </g>\r\n     <g id=\"text_7\">\r\n      <!-- 600 -->\r\n      <g transform=\"translate(442.5925 443.748906)scale(0.1 -0.1)\">\r\n       <defs>\r\n        <path d=\"M 33.015625 40.375 \r\nQ 26.375 40.375 22.484375 35.828125 \r\nQ 18.609375 31.296875 18.609375 23.390625 \r\nQ 18.609375 15.53125 22.484375 10.953125 \r\nQ 26.375 6.390625 33.015625 6.390625 \r\nQ 39.65625 6.390625 43.53125 10.953125 \r\nQ 47.40625 15.53125 47.40625 23.390625 \r\nQ 47.40625 31.296875 43.53125 35.828125 \r\nQ 39.65625 40.375 33.015625 40.375 \r\nz\r\nM 52.59375 71.296875 \r\nL 52.59375 62.3125 \r\nQ 48.875 64.0625 45.09375 64.984375 \r\nQ 41.3125 65.921875 37.59375 65.921875 \r\nQ 27.828125 65.921875 22.671875 59.328125 \r\nQ 17.53125 52.734375 16.796875 39.40625 \r\nQ 19.671875 43.65625 24.015625 45.921875 \r\nQ 28.375 48.1875 33.59375 48.1875 \r\nQ 44.578125 48.1875 50.953125 41.515625 \r\nQ 57.328125 34.859375 57.328125 23.390625 \r\nQ 57.328125 12.15625 50.6875 5.359375 \r\nQ 44.046875 -1.421875 33.015625 -1.421875 \r\nQ 20.359375 -1.421875 13.671875 8.265625 \r\nQ 6.984375 17.96875 6.984375 36.375 \r\nQ 6.984375 53.65625 15.1875 63.9375 \r\nQ 23.390625 74.21875 37.203125 74.21875 \r\nQ 40.921875 74.21875 44.703125 73.484375 \r\nQ 48.484375 72.75 52.59375 71.296875 \r\nz\r\n\" id=\"DejaVuSans-54\"/>\r\n       </defs>\r\n       <use xlink:href=\"#DejaVuSans-54\"/>\r\n       <use x=\"63.623047\" xlink:href=\"#DejaVuSans-48\"/>\r\n       <use x=\"127.246094\" xlink:href=\"#DejaVuSans-48\"/>\r\n      </g>\r\n     </g>\r\n    </g>\r\n    <g id=\"xtick_8\">\r\n     <g id=\"line2d_8\">\r\n      <g>\r\n       <use style=\"stroke:#000000;stroke-width:0.8;\" x=\"521.88625\" xlink:href=\"#mcc257536f3\" y=\"429.150469\"/>\r\n      </g>\r\n     </g>\r\n     <g id=\"text_8\">\r\n      <!-- 700 -->\r\n      <g transform=\"translate(512.3425 443.748906)scale(0.1 -0.1)\">\r\n       <defs>\r\n        <path d=\"M 8.203125 72.90625 \r\nL 55.078125 72.90625 \r\nL 55.078125 68.703125 \r\nL 28.609375 0 \r\nL 18.3125 0 \r\nL 43.21875 64.59375 \r\nL 8.203125 64.59375 \r\nz\r\n\" id=\"DejaVuSans-55\"/>\r\n       </defs>\r\n       <use xlink:href=\"#DejaVuSans-55\"/>\r\n       <use x=\"63.623047\" xlink:href=\"#DejaVuSans-48\"/>\r\n       <use x=\"127.246094\" xlink:href=\"#DejaVuSans-48\"/>\r\n      </g>\r\n     </g>\r\n    </g>\r\n   </g>\r\n   <g id=\"matplotlib.axis_2\">\r\n    <g id=\"ytick_1\">\r\n     <g id=\"line2d_9\">\r\n      <defs>\r\n       <path d=\"M 0 0 \r\nL -3.5 0 \r\n\" id=\"m12a5312f9b\" style=\"stroke:#000000;stroke-width:0.8;\"/>\r\n      </defs>\r\n      <g>\r\n       <use style=\"stroke:#000000;stroke-width:0.8;\" x=\"33.2875\" xlink:href=\"#m12a5312f9b\" y=\"10.999219\"/>\r\n      </g>\r\n     </g>\r\n     <g id=\"text_9\">\r\n      <!-- 0 -->\r\n      <g transform=\"translate(19.925 14.798438)scale(0.1 -0.1)\">\r\n       <use xlink:href=\"#DejaVuSans-48\"/>\r\n      </g>\r\n     </g>\r\n    </g>\r\n    <g id=\"ytick_2\">\r\n     <g id=\"line2d_10\">\r\n      <g>\r\n       <use style=\"stroke:#000000;stroke-width:0.8;\" x=\"33.2875\" xlink:href=\"#m12a5312f9b\" y=\"80.749219\"/>\r\n      </g>\r\n     </g>\r\n     <g id=\"text_10\">\r\n      <!-- 100 -->\r\n      <g transform=\"translate(7.2 84.548438)scale(0.1 -0.1)\">\r\n       <use xlink:href=\"#DejaVuSans-49\"/>\r\n       <use x=\"63.623047\" xlink:href=\"#DejaVuSans-48\"/>\r\n       <use x=\"127.246094\" xlink:href=\"#DejaVuSans-48\"/>\r\n      </g>\r\n     </g>\r\n    </g>\r\n    <g id=\"ytick_3\">\r\n     <g id=\"line2d_11\">\r\n      <g>\r\n       <use style=\"stroke:#000000;stroke-width:0.8;\" x=\"33.2875\" xlink:href=\"#m12a5312f9b\" y=\"150.499219\"/>\r\n      </g>\r\n     </g>\r\n     <g id=\"text_11\">\r\n      <!-- 200 -->\r\n      <g transform=\"translate(7.2 154.298438)scale(0.1 -0.1)\">\r\n       <use xlink:href=\"#DejaVuSans-50\"/>\r\n       <use x=\"63.623047\" xlink:href=\"#DejaVuSans-48\"/>\r\n       <use x=\"127.246094\" xlink:href=\"#DejaVuSans-48\"/>\r\n      </g>\r\n     </g>\r\n    </g>\r\n    <g id=\"ytick_4\">\r\n     <g id=\"line2d_12\">\r\n      <g>\r\n       <use style=\"stroke:#000000;stroke-width:0.8;\" x=\"33.2875\" xlink:href=\"#m12a5312f9b\" y=\"220.249219\"/>\r\n      </g>\r\n     </g>\r\n     <g id=\"text_12\">\r\n      <!-- 300 -->\r\n      <g transform=\"translate(7.2 224.048438)scale(0.1 -0.1)\">\r\n       <use xlink:href=\"#DejaVuSans-51\"/>\r\n       <use x=\"63.623047\" xlink:href=\"#DejaVuSans-48\"/>\r\n       <use x=\"127.246094\" xlink:href=\"#DejaVuSans-48\"/>\r\n      </g>\r\n     </g>\r\n    </g>\r\n    <g id=\"ytick_5\">\r\n     <g id=\"line2d_13\">\r\n      <g>\r\n       <use style=\"stroke:#000000;stroke-width:0.8;\" x=\"33.2875\" xlink:href=\"#m12a5312f9b\" y=\"289.999219\"/>\r\n      </g>\r\n     </g>\r\n     <g id=\"text_13\">\r\n      <!-- 400 -->\r\n      <g transform=\"translate(7.2 293.798437)scale(0.1 -0.1)\">\r\n       <use xlink:href=\"#DejaVuSans-52\"/>\r\n       <use x=\"63.623047\" xlink:href=\"#DejaVuSans-48\"/>\r\n       <use x=\"127.246094\" xlink:href=\"#DejaVuSans-48\"/>\r\n      </g>\r\n     </g>\r\n    </g>\r\n    <g id=\"ytick_6\">\r\n     <g id=\"line2d_14\">\r\n      <g>\r\n       <use style=\"stroke:#000000;stroke-width:0.8;\" x=\"33.2875\" xlink:href=\"#m12a5312f9b\" y=\"359.749219\"/>\r\n      </g>\r\n     </g>\r\n     <g id=\"text_14\">\r\n      <!-- 500 -->\r\n      <g transform=\"translate(7.2 363.548437)scale(0.1 -0.1)\">\r\n       <use xlink:href=\"#DejaVuSans-53\"/>\r\n       <use x=\"63.623047\" xlink:href=\"#DejaVuSans-48\"/>\r\n       <use x=\"127.246094\" xlink:href=\"#DejaVuSans-48\"/>\r\n      </g>\r\n     </g>\r\n    </g>\r\n   </g>\r\n   <g id=\"patch_3\">\r\n    <path d=\"M 33.2875 429.150469 \r\nL 33.2875 10.650469 \r\n\" style=\"fill:none;stroke:#000000;stroke-linecap:square;stroke-linejoin:miter;stroke-width:0.8;\"/>\r\n   </g>\r\n   <g id=\"patch_4\">\r\n    <path d=\"M 591.2875 429.150469 \r\nL 591.2875 10.650469 \r\n\" style=\"fill:none;stroke:#000000;stroke-linecap:square;stroke-linejoin:miter;stroke-width:0.8;\"/>\r\n   </g>\r\n   <g id=\"patch_5\">\r\n    <path d=\"M 33.2875 429.150469 \r\nL 591.2875 429.150469 \r\n\" style=\"fill:none;stroke:#000000;stroke-linecap:square;stroke-linejoin:miter;stroke-width:0.8;\"/>\r\n   </g>\r\n   <g id=\"patch_6\">\r\n    <path d=\"M 33.2875 10.650469 \r\nL 591.2875 10.650469 \r\n\" style=\"fill:none;stroke:#000000;stroke-linecap:square;stroke-linejoin:miter;stroke-width:0.8;\"/>\r\n   </g>\r\n  </g>\r\n </g>\r\n <defs>\r\n  <clipPath id=\"pd632c80044\">\r\n   <rect height=\"418.5\" width=\"558\" x=\"33.2875\" y=\"10.650469\"/>\r\n  </clipPath>\r\n </defs>\r\n</svg>\r\n",
      "image/png": "[encoded data removed]"
     },
     "metadata": {
      "needs_background": "light"
     }
    }
   ],
   "metadata": {}
  },
  {
   "cell_type": "markdown",
   "source": [
    "Since our observation is the same as the gameplay screen of the game, our render function shall return our observation too. We build functionality for two modes, one human which would render the game in a pop-up window, while rgb_array returns it as a pixel array."
   ],
   "metadata": {}
  },
  {
   "cell_type": "code",
   "execution_count": null,
   "source": [
    "%%add_to ChopperScape\r\n",
    "\r\n",
    "def render(self, mode=\"human\"):\r\n",
    "    assert mode in [\"human\", \"rgb_array\"], \"Invalid mode, must be either \\\"human\\\" or \\\"rgb_array\\\"\"\r\n",
    "    if mode == \"human\":\r\n",
    "        cv2.imshow(\"Game\", self.canvas)\r\n",
    "        cv2.waitKey(10)\r\n",
    "    \r\n",
    "    elif mode == \"rgb_array\":\r\n",
    "        return self.canvas\r\n",
    "\r\n",
    "def close(self):\r\n",
    "    cv2.destroyAllWindows()\r\n",
    "\r\n",
    "env = ChopperScape()\r\n",
    "obs = env.reset()\r\n",
    "screen = env.render(mode=\"rgb_array\")\r\n",
    "plt.figure(figsize=(10,15))\r\n",
    "plt.imshow(screen)"
   ],
   "outputs": [
    {
     "output_type": "display_data",
     "data": {
      "text/plain": [
       "<Figure size 720x1080 with 1 Axes>"
      ],
      "image/svg+xml": "<?xml version=\"1.0\" encoding=\"utf-8\" standalone=\"no\"?>\r\n<!DOCTYPE svg PUBLIC \"-//W3C//DTD SVG 1.1//EN\"\r\n  \"http://www.w3.org/Graphics/SVG/1.1/DTD/svg11.dtd\">\r\n<!-- Created with matplotlib (https://matplotlib.org/) -->\r\n<svg height=\"453.028594pt\" version=\"1.1\" viewBox=\"0 0 598.4875 453.028594\" width=\"598.4875pt\" xmlns=\"http://www.w3.org/2000/svg\" xmlns:xlink=\"http://www.w3.org/1999/xlink\">\r\n <metadata>\r\n  <rdf:RDF xmlns:cc=\"http://creativecommons.org/ns#\" xmlns:dc=\"http://purl.org/dc/elements/1.1/\" xmlns:rdf=\"http://www.w3.org/1999/02/22-rdf-syntax-ns#\">\r\n   <cc:Work>\r\n    <dc:type rdf:resource=\"http://purl.org/dc/dcmitype/StillImage\"/>\r\n    <dc:date>2021-09-03T11:19:22.475956</dc:date>\r\n    <dc:format>image/svg+xml</dc:format>\r\n    <dc:creator>\r\n     <cc:Agent>\r\n      <dc:title>Matplotlib v3.3.2, https://matplotlib.org/</dc:title>\r\n     </cc:Agent>\r\n    </dc:creator>\r\n   </cc:Work>\r\n  </rdf:RDF>\r\n </metadata>\r\n <defs>\r\n  <style type=\"text/css\">*{stroke-linecap:butt;stroke-linejoin:round;}</style>\r\n </defs>\r\n <g id=\"figure_1\">\r\n  <g id=\"patch_1\">\r\n   <path d=\"M 0 453.028594 \r\nL 598.4875 453.028594 \r\nL 598.4875 -0 \r\nL 0 -0 \r\nz\r\n\" style=\"fill:none;\"/>\r\n  </g>\r\n  <g id=\"axes_1\">\r\n   <g id=\"patch_2\">\r\n    <path d=\"M 33.2875 429.150469 \r\nL 591.2875 429.150469 \r\nL 591.2875 10.650469 \r\nL 33.2875 10.650469 \r\nz\r\n\" style=\"fill:#ffffff;\"/>\r\n   </g>\r\n   <g clip-path=\"url(#p9cbe1910ed)\">\r\n    <image height=\"419\" id=\"imagecc7952f465\" transform=\"scale(1 -1)translate(0 -419)\" width=\"558\" x=\"33.2875\" xlink:href=\"data:image/png;base64,\r\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\" y=\"-10.150469\"/>\r\n   </g>\r\n   <g id=\"matplotlib.axis_1\">\r\n    <g id=\"xtick_1\">\r\n     <g id=\"line2d_1\">\r\n      <defs>\r\n       <path d=\"M 0 0 \r\nL 0 3.5 \r\n\" id=\"m4acf73766e\" style=\"stroke:#000000;stroke-width:0.8;\"/>\r\n      </defs>\r\n      <g>\r\n       <use style=\"stroke:#000000;stroke-width:0.8;\" x=\"33.63625\" xlink:href=\"#m4acf73766e\" y=\"429.150469\"/>\r\n      </g>\r\n     </g>\r\n     <g id=\"text_1\">\r\n      <!-- 0 -->\r\n      <g transform=\"translate(30.455 443.748906)scale(0.1 -0.1)\">\r\n       <defs>\r\n        <path d=\"M 31.78125 66.40625 \r\nQ 24.171875 66.40625 20.328125 58.90625 \r\nQ 16.5 51.421875 16.5 36.375 \r\nQ 16.5 21.390625 20.328125 13.890625 \r\nQ 24.171875 6.390625 31.78125 6.390625 \r\nQ 39.453125 6.390625 43.28125 13.890625 \r\nQ 47.125 21.390625 47.125 36.375 \r\nQ 47.125 51.421875 43.28125 58.90625 \r\nQ 39.453125 66.40625 31.78125 66.40625 \r\nz\r\nM 31.78125 74.21875 \r\nQ 44.046875 74.21875 50.515625 64.515625 \r\nQ 56.984375 54.828125 56.984375 36.375 \r\nQ 56.984375 17.96875 50.515625 8.265625 \r\nQ 44.046875 -1.421875 31.78125 -1.421875 \r\nQ 19.53125 -1.421875 13.0625 8.265625 \r\nQ 6.59375 17.96875 6.59375 36.375 \r\nQ 6.59375 54.828125 13.0625 64.515625 \r\nQ 19.53125 74.21875 31.78125 74.21875 \r\nz\r\n\" id=\"DejaVuSans-48\"/>\r\n       </defs>\r\n       <use xlink:href=\"#DejaVuSans-48\"/>\r\n      </g>\r\n     </g>\r\n    </g>\r\n    <g id=\"xtick_2\">\r\n     <g id=\"line2d_2\">\r\n      <g>\r\n       <use style=\"stroke:#000000;stroke-width:0.8;\" x=\"103.38625\" xlink:href=\"#m4acf73766e\" y=\"429.150469\"/>\r\n      </g>\r\n     </g>\r\n     <g id=\"text_2\">\r\n      <!-- 100 -->\r\n      <g transform=\"translate(93.8425 443.748906)scale(0.1 -0.1)\">\r\n       <defs>\r\n        <path d=\"M 12.40625 8.296875 \r\nL 28.515625 8.296875 \r\nL 28.515625 63.921875 \r\nL 10.984375 60.40625 \r\nL 10.984375 69.390625 \r\nL 28.421875 72.90625 \r\nL 38.28125 72.90625 \r\nL 38.28125 8.296875 \r\nL 54.390625 8.296875 \r\nL 54.390625 0 \r\nL 12.40625 0 \r\nz\r\n\" id=\"DejaVuSans-49\"/>\r\n       </defs>\r\n       <use xlink:href=\"#DejaVuSans-49\"/>\r\n       <use x=\"63.623047\" xlink:href=\"#DejaVuSans-48\"/>\r\n       <use x=\"127.246094\" xlink:href=\"#DejaVuSans-48\"/>\r\n      </g>\r\n     </g>\r\n    </g>\r\n    <g id=\"xtick_3\">\r\n     <g id=\"line2d_3\">\r\n      <g>\r\n       <use style=\"stroke:#000000;stroke-width:0.8;\" x=\"173.13625\" xlink:href=\"#m4acf73766e\" y=\"429.150469\"/>\r\n      </g>\r\n     </g>\r\n     <g id=\"text_3\">\r\n      <!-- 200 -->\r\n      <g transform=\"translate(163.5925 443.748906)scale(0.1 -0.1)\">\r\n       <defs>\r\n        <path d=\"M 19.1875 8.296875 \r\nL 53.609375 8.296875 \r\nL 53.609375 0 \r\nL 7.328125 0 \r\nL 7.328125 8.296875 \r\nQ 12.9375 14.109375 22.625 23.890625 \r\nQ 32.328125 33.6875 34.8125 36.53125 \r\nQ 39.546875 41.84375 41.421875 45.53125 \r\nQ 43.3125 49.21875 43.3125 52.78125 \r\nQ 43.3125 58.59375 39.234375 62.25 \r\nQ 35.15625 65.921875 28.609375 65.921875 \r\nQ 23.96875 65.921875 18.8125 64.3125 \r\nQ 13.671875 62.703125 7.8125 59.421875 \r\nL 7.8125 69.390625 \r\nQ 13.765625 71.78125 18.9375 73 \r\nQ 24.125 74.21875 28.421875 74.21875 \r\nQ 39.75 74.21875 46.484375 68.546875 \r\nQ 53.21875 62.890625 53.21875 53.421875 \r\nQ 53.21875 48.921875 51.53125 44.890625 \r\nQ 49.859375 40.875 45.40625 35.40625 \r\nQ 44.1875 33.984375 37.640625 27.21875 \r\nQ 31.109375 20.453125 19.1875 8.296875 \r\nz\r\n\" id=\"DejaVuSans-50\"/>\r\n       </defs>\r\n       <use xlink:href=\"#DejaVuSans-50\"/>\r\n       <use x=\"63.623047\" xlink:href=\"#DejaVuSans-48\"/>\r\n       <use x=\"127.246094\" xlink:href=\"#DejaVuSans-48\"/>\r\n      </g>\r\n     </g>\r\n    </g>\r\n    <g id=\"xtick_4\">\r\n     <g id=\"line2d_4\">\r\n      <g>\r\n       <use style=\"stroke:#000000;stroke-width:0.8;\" x=\"242.88625\" xlink:href=\"#m4acf73766e\" y=\"429.150469\"/>\r\n      </g>\r\n     </g>\r\n     <g id=\"text_4\">\r\n      <!-- 300 -->\r\n      <g transform=\"translate(233.3425 443.748906)scale(0.1 -0.1)\">\r\n       <defs>\r\n        <path d=\"M 40.578125 39.3125 \r\nQ 47.65625 37.796875 51.625 33 \r\nQ 55.609375 28.21875 55.609375 21.1875 \r\nQ 55.609375 10.40625 48.1875 4.484375 \r\nQ 40.765625 -1.421875 27.09375 -1.421875 \r\nQ 22.515625 -1.421875 17.65625 -0.515625 \r\nQ 12.796875 0.390625 7.625 2.203125 \r\nL 7.625 11.71875 \r\nQ 11.71875 9.328125 16.59375 8.109375 \r\nQ 21.484375 6.890625 26.8125 6.890625 \r\nQ 36.078125 6.890625 40.9375 10.546875 \r\nQ 45.796875 14.203125 45.796875 21.1875 \r\nQ 45.796875 27.640625 41.28125 31.265625 \r\nQ 36.765625 34.90625 28.71875 34.90625 \r\nL 20.21875 34.90625 \r\nL 20.21875 43.015625 \r\nL 29.109375 43.015625 \r\nQ 36.375 43.015625 40.234375 45.921875 \r\nQ 44.09375 48.828125 44.09375 54.296875 \r\nQ 44.09375 59.90625 40.109375 62.90625 \r\nQ 36.140625 65.921875 28.71875 65.921875 \r\nQ 24.65625 65.921875 20.015625 65.03125 \r\nQ 15.375 64.15625 9.8125 62.3125 \r\nL 9.8125 71.09375 \r\nQ 15.4375 72.65625 20.34375 73.4375 \r\nQ 25.25 74.21875 29.59375 74.21875 \r\nQ 40.828125 74.21875 47.359375 69.109375 \r\nQ 53.90625 64.015625 53.90625 55.328125 \r\nQ 53.90625 49.265625 50.4375 45.09375 \r\nQ 46.96875 40.921875 40.578125 39.3125 \r\nz\r\n\" id=\"DejaVuSans-51\"/>\r\n       </defs>\r\n       <use xlink:href=\"#DejaVuSans-51\"/>\r\n       <use x=\"63.623047\" xlink:href=\"#DejaVuSans-48\"/>\r\n       <use x=\"127.246094\" xlink:href=\"#DejaVuSans-48\"/>\r\n      </g>\r\n     </g>\r\n    </g>\r\n    <g id=\"xtick_5\">\r\n     <g id=\"line2d_5\">\r\n      <g>\r\n       <use style=\"stroke:#000000;stroke-width:0.8;\" x=\"312.63625\" xlink:href=\"#m4acf73766e\" y=\"429.150469\"/>\r\n      </g>\r\n     </g>\r\n     <g id=\"text_5\">\r\n      <!-- 400 -->\r\n      <g transform=\"translate(303.0925 443.748906)scale(0.1 -0.1)\">\r\n       <defs>\r\n        <path d=\"M 37.796875 64.3125 \r\nL 12.890625 25.390625 \r\nL 37.796875 25.390625 \r\nz\r\nM 35.203125 72.90625 \r\nL 47.609375 72.90625 \r\nL 47.609375 25.390625 \r\nL 58.015625 25.390625 \r\nL 58.015625 17.1875 \r\nL 47.609375 17.1875 \r\nL 47.609375 0 \r\nL 37.796875 0 \r\nL 37.796875 17.1875 \r\nL 4.890625 17.1875 \r\nL 4.890625 26.703125 \r\nz\r\n\" id=\"DejaVuSans-52\"/>\r\n       </defs>\r\n       <use xlink:href=\"#DejaVuSans-52\"/>\r\n       <use x=\"63.623047\" xlink:href=\"#DejaVuSans-48\"/>\r\n       <use x=\"127.246094\" xlink:href=\"#DejaVuSans-48\"/>\r\n      </g>\r\n     </g>\r\n    </g>\r\n    <g id=\"xtick_6\">\r\n     <g id=\"line2d_6\">\r\n      <g>\r\n       <use style=\"stroke:#000000;stroke-width:0.8;\" x=\"382.38625\" xlink:href=\"#m4acf73766e\" y=\"429.150469\"/>\r\n      </g>\r\n     </g>\r\n     <g id=\"text_6\">\r\n      <!-- 500 -->\r\n      <g transform=\"translate(372.8425 443.748906)scale(0.1 -0.1)\">\r\n       <defs>\r\n        <path d=\"M 10.796875 72.90625 \r\nL 49.515625 72.90625 \r\nL 49.515625 64.59375 \r\nL 19.828125 64.59375 \r\nL 19.828125 46.734375 \r\nQ 21.96875 47.46875 24.109375 47.828125 \r\nQ 26.265625 48.1875 28.421875 48.1875 \r\nQ 40.625 48.1875 47.75 41.5 \r\nQ 54.890625 34.8125 54.890625 23.390625 \r\nQ 54.890625 11.625 47.5625 5.09375 \r\nQ 40.234375 -1.421875 26.90625 -1.421875 \r\nQ 22.3125 -1.421875 17.546875 -0.640625 \r\nQ 12.796875 0.140625 7.71875 1.703125 \r\nL 7.71875 11.625 \r\nQ 12.109375 9.234375 16.796875 8.0625 \r\nQ 21.484375 6.890625 26.703125 6.890625 \r\nQ 35.15625 6.890625 40.078125 11.328125 \r\nQ 45.015625 15.765625 45.015625 23.390625 \r\nQ 45.015625 31 40.078125 35.4375 \r\nQ 35.15625 39.890625 26.703125 39.890625 \r\nQ 22.75 39.890625 18.8125 39.015625 \r\nQ 14.890625 38.140625 10.796875 36.28125 \r\nz\r\n\" id=\"DejaVuSans-53\"/>\r\n       </defs>\r\n       <use xlink:href=\"#DejaVuSans-53\"/>\r\n       <use x=\"63.623047\" xlink:href=\"#DejaVuSans-48\"/>\r\n       <use x=\"127.246094\" xlink:href=\"#DejaVuSans-48\"/>\r\n      </g>\r\n     </g>\r\n    </g>\r\n    <g id=\"xtick_7\">\r\n     <g id=\"line2d_7\">\r\n      <g>\r\n       <use style=\"stroke:#000000;stroke-width:0.8;\" x=\"452.13625\" xlink:href=\"#m4acf73766e\" y=\"429.150469\"/>\r\n      </g>\r\n     </g>\r\n     <g id=\"text_7\">\r\n      <!-- 600 -->\r\n      <g transform=\"translate(442.5925 443.748906)scale(0.1 -0.1)\">\r\n       <defs>\r\n        <path d=\"M 33.015625 40.375 \r\nQ 26.375 40.375 22.484375 35.828125 \r\nQ 18.609375 31.296875 18.609375 23.390625 \r\nQ 18.609375 15.53125 22.484375 10.953125 \r\nQ 26.375 6.390625 33.015625 6.390625 \r\nQ 39.65625 6.390625 43.53125 10.953125 \r\nQ 47.40625 15.53125 47.40625 23.390625 \r\nQ 47.40625 31.296875 43.53125 35.828125 \r\nQ 39.65625 40.375 33.015625 40.375 \r\nz\r\nM 52.59375 71.296875 \r\nL 52.59375 62.3125 \r\nQ 48.875 64.0625 45.09375 64.984375 \r\nQ 41.3125 65.921875 37.59375 65.921875 \r\nQ 27.828125 65.921875 22.671875 59.328125 \r\nQ 17.53125 52.734375 16.796875 39.40625 \r\nQ 19.671875 43.65625 24.015625 45.921875 \r\nQ 28.375 48.1875 33.59375 48.1875 \r\nQ 44.578125 48.1875 50.953125 41.515625 \r\nQ 57.328125 34.859375 57.328125 23.390625 \r\nQ 57.328125 12.15625 50.6875 5.359375 \r\nQ 44.046875 -1.421875 33.015625 -1.421875 \r\nQ 20.359375 -1.421875 13.671875 8.265625 \r\nQ 6.984375 17.96875 6.984375 36.375 \r\nQ 6.984375 53.65625 15.1875 63.9375 \r\nQ 23.390625 74.21875 37.203125 74.21875 \r\nQ 40.921875 74.21875 44.703125 73.484375 \r\nQ 48.484375 72.75 52.59375 71.296875 \r\nz\r\n\" id=\"DejaVuSans-54\"/>\r\n       </defs>\r\n       <use xlink:href=\"#DejaVuSans-54\"/>\r\n       <use x=\"63.623047\" xlink:href=\"#DejaVuSans-48\"/>\r\n       <use x=\"127.246094\" xlink:href=\"#DejaVuSans-48\"/>\r\n      </g>\r\n     </g>\r\n    </g>\r\n    <g id=\"xtick_8\">\r\n     <g id=\"line2d_8\">\r\n      <g>\r\n       <use style=\"stroke:#000000;stroke-width:0.8;\" x=\"521.88625\" xlink:href=\"#m4acf73766e\" y=\"429.150469\"/>\r\n      </g>\r\n     </g>\r\n     <g id=\"text_8\">\r\n      <!-- 700 -->\r\n      <g transform=\"translate(512.3425 443.748906)scale(0.1 -0.1)\">\r\n       <defs>\r\n        <path d=\"M 8.203125 72.90625 \r\nL 55.078125 72.90625 \r\nL 55.078125 68.703125 \r\nL 28.609375 0 \r\nL 18.3125 0 \r\nL 43.21875 64.59375 \r\nL 8.203125 64.59375 \r\nz\r\n\" id=\"DejaVuSans-55\"/>\r\n       </defs>\r\n       <use xlink:href=\"#DejaVuSans-55\"/>\r\n       <use x=\"63.623047\" xlink:href=\"#DejaVuSans-48\"/>\r\n       <use x=\"127.246094\" xlink:href=\"#DejaVuSans-48\"/>\r\n      </g>\r\n     </g>\r\n    </g>\r\n   </g>\r\n   <g id=\"matplotlib.axis_2\">\r\n    <g id=\"ytick_1\">\r\n     <g id=\"line2d_9\">\r\n      <defs>\r\n       <path d=\"M 0 0 \r\nL -3.5 0 \r\n\" id=\"mc0b1c18dde\" style=\"stroke:#000000;stroke-width:0.8;\"/>\r\n      </defs>\r\n      <g>\r\n       <use style=\"stroke:#000000;stroke-width:0.8;\" x=\"33.2875\" xlink:href=\"#mc0b1c18dde\" y=\"10.999219\"/>\r\n      </g>\r\n     </g>\r\n     <g id=\"text_9\">\r\n      <!-- 0 -->\r\n      <g transform=\"translate(19.925 14.798438)scale(0.1 -0.1)\">\r\n       <use xlink:href=\"#DejaVuSans-48\"/>\r\n      </g>\r\n     </g>\r\n    </g>\r\n    <g id=\"ytick_2\">\r\n     <g id=\"line2d_10\">\r\n      <g>\r\n       <use style=\"stroke:#000000;stroke-width:0.8;\" x=\"33.2875\" xlink:href=\"#mc0b1c18dde\" y=\"80.749219\"/>\r\n      </g>\r\n     </g>\r\n     <g id=\"text_10\">\r\n      <!-- 100 -->\r\n      <g transform=\"translate(7.2 84.548438)scale(0.1 -0.1)\">\r\n       <use xlink:href=\"#DejaVuSans-49\"/>\r\n       <use x=\"63.623047\" xlink:href=\"#DejaVuSans-48\"/>\r\n       <use x=\"127.246094\" xlink:href=\"#DejaVuSans-48\"/>\r\n      </g>\r\n     </g>\r\n    </g>\r\n    <g id=\"ytick_3\">\r\n     <g id=\"line2d_11\">\r\n      <g>\r\n       <use style=\"stroke:#000000;stroke-width:0.8;\" x=\"33.2875\" xlink:href=\"#mc0b1c18dde\" y=\"150.499219\"/>\r\n      </g>\r\n     </g>\r\n     <g id=\"text_11\">\r\n      <!-- 200 -->\r\n      <g transform=\"translate(7.2 154.298438)scale(0.1 -0.1)\">\r\n       <use xlink:href=\"#DejaVuSans-50\"/>\r\n       <use x=\"63.623047\" xlink:href=\"#DejaVuSans-48\"/>\r\n       <use x=\"127.246094\" xlink:href=\"#DejaVuSans-48\"/>\r\n      </g>\r\n     </g>\r\n    </g>\r\n    <g id=\"ytick_4\">\r\n     <g id=\"line2d_12\">\r\n      <g>\r\n       <use style=\"stroke:#000000;stroke-width:0.8;\" x=\"33.2875\" xlink:href=\"#mc0b1c18dde\" y=\"220.249219\"/>\r\n      </g>\r\n     </g>\r\n     <g id=\"text_12\">\r\n      <!-- 300 -->\r\n      <g transform=\"translate(7.2 224.048438)scale(0.1 -0.1)\">\r\n       <use xlink:href=\"#DejaVuSans-51\"/>\r\n       <use x=\"63.623047\" xlink:href=\"#DejaVuSans-48\"/>\r\n       <use x=\"127.246094\" xlink:href=\"#DejaVuSans-48\"/>\r\n      </g>\r\n     </g>\r\n    </g>\r\n    <g id=\"ytick_5\">\r\n     <g id=\"line2d_13\">\r\n      <g>\r\n       <use style=\"stroke:#000000;stroke-width:0.8;\" x=\"33.2875\" xlink:href=\"#mc0b1c18dde\" y=\"289.999219\"/>\r\n      </g>\r\n     </g>\r\n     <g id=\"text_13\">\r\n      <!-- 400 -->\r\n      <g transform=\"translate(7.2 293.798437)scale(0.1 -0.1)\">\r\n       <use xlink:href=\"#DejaVuSans-52\"/>\r\n       <use x=\"63.623047\" xlink:href=\"#DejaVuSans-48\"/>\r\n       <use x=\"127.246094\" xlink:href=\"#DejaVuSans-48\"/>\r\n      </g>\r\n     </g>\r\n    </g>\r\n    <g id=\"ytick_6\">\r\n     <g id=\"line2d_14\">\r\n      <g>\r\n       <use style=\"stroke:#000000;stroke-width:0.8;\" x=\"33.2875\" xlink:href=\"#mc0b1c18dde\" y=\"359.749219\"/>\r\n      </g>\r\n     </g>\r\n     <g id=\"text_14\">\r\n      <!-- 500 -->\r\n      <g transform=\"translate(7.2 363.548437)scale(0.1 -0.1)\">\r\n       <use xlink:href=\"#DejaVuSans-53\"/>\r\n       <use x=\"63.623047\" xlink:href=\"#DejaVuSans-48\"/>\r\n       <use x=\"127.246094\" xlink:href=\"#DejaVuSans-48\"/>\r\n      </g>\r\n     </g>\r\n    </g>\r\n   </g>\r\n   <g id=\"patch_3\">\r\n    <path d=\"M 33.2875 429.150469 \r\nL 33.2875 10.650469 \r\n\" style=\"fill:none;stroke:#000000;stroke-linecap:square;stroke-linejoin:miter;stroke-width:0.8;\"/>\r\n   </g>\r\n   <g id=\"patch_4\">\r\n    <path d=\"M 591.2875 429.150469 \r\nL 591.2875 10.650469 \r\n\" style=\"fill:none;stroke:#000000;stroke-linecap:square;stroke-linejoin:miter;stroke-width:0.8;\"/>\r\n   </g>\r\n   <g id=\"patch_5\">\r\n    <path d=\"M 33.2875 429.150469 \r\nL 591.2875 429.150469 \r\n\" style=\"fill:none;stroke:#000000;stroke-linecap:square;stroke-linejoin:miter;stroke-width:0.8;\"/>\r\n   </g>\r\n   <g id=\"patch_6\">\r\n    <path d=\"M 33.2875 10.650469 \r\nL 591.2875 10.650469 \r\n\" style=\"fill:none;stroke:#000000;stroke-linecap:square;stroke-linejoin:miter;stroke-width:0.8;\"/>\r\n   </g>\r\n  </g>\r\n </g>\r\n <defs>\r\n  <clipPath id=\"p9cbe1910ed\">\r\n   <rect height=\"418.5\" width=\"558\" x=\"33.2875\" y=\"10.650469\"/>\r\n  </clipPath>\r\n </defs>\r\n</svg>\r\n",
      "image/png": "[encoded data removed]"
     },
     "metadata": {
      "needs_background": "light"
     }
    }
   ],
   "metadata": {}
  },
  {
   "cell_type": "markdown",
   "source": [
    "# Step Function\r\n",
    "\r\n",
    "Now that we have the reset function out of the way, we begin work on implementing the step function, which will contain the code to transition our environment from one state to the next given an action. In many ways, this section is the proverbial meat of our environment, and this is where most of the planning goes.\r\n",
    "\r\n",
    "We first need to enlist things that need to happen in one transition step of the environment. This can be basically broken down into two parts:\r\n",
    "\r\n",
    "1. Applying actions to our agent.\r\n",
    "2. Everything else that happens in the environments, such as behaviour of the non-RL actors (e.g. birds and floating gas stations).\r\n",
    "\r\n",
    "So let's first focus on (1). We provide actions to the game that will control what our chopper does. We basically have 5 actions, which are move right, left, down, up, or do nothing, denoted by 0, 1, 2, 3, and 4, respectively.  \r\n",
    "\r\n",
    "We define a member function called get_action_meanings() that will tell us what integer each action is mapped to for our reference.\r\n",
    "\r\n"
   ],
   "metadata": {}
  },
  {
   "cell_type": "code",
   "execution_count": null,
   "source": [
    "%%add_to ChopperScape\r\n",
    "\r\n",
    "def get_action_meanings(self):\r\n",
    "    return {0: \"Right\", 1: \"Left\", 2: \"Down\", 3: \"Up\", 4: \"Do Nothing\"}\r\n"
   ],
   "outputs": [],
   "metadata": {}
  },
  {
   "cell_type": "markdown",
   "source": [
    "Now that we have taken care of applying the action to the chopper, we focus on the other elements of the environment:\r\n",
    "\r\n",
    " - Birds spawn randomly from the right edge of the screen with a probability of 1% (i.e. a bird is likely to appear on the right edge once every hundred frames). The bird moves 5 coordinate points every frame to the left. If they hit the Chopper the game ends. Otherwise, they disappear from the game once they reach the left edge.\r\n",
    " - Fuel tanks spawn randomly from the bottom edge of the screen with a probability of 1 % (i.e. a fuel tank is likely to appear on the bottom edge once every hundred frames). The bird moves 5 co-ordinates up every frame. If they hit the Chopper, the Chopper is fuelled to its full capacity. Otherwise, they disappear from the game once they reach the top edge.\r\n",
    "\r\n",
    "In order to implement the features outlined above, we need to implement a helper function that helps us determine whether two Point objects (such as a Chopper/Bird, Chopper/Fuel Tank) have collided or not. How do we define a collision? We say that two points have collided when the distance between the coordinates of their centers is less than half of the sum of their dimensions. We call this function has_collided"
   ],
   "metadata": {}
  },
  {
   "cell_type": "code",
   "execution_count": null,
   "source": [
    "%%add_to ChopperScape\r\n",
    "\r\n",
    "def has_collided(self, elem1, elem2):\r\n",
    "    x_col = False\r\n",
    "    y_col = False\r\n",
    "\r\n",
    "    elem1_x, elem1_y = elem1.get_position()\r\n",
    "    elem2_x, elem2_y = elem2.get_position()\r\n",
    "\r\n",
    "    if 2 * abs(elem1_x - elem2_x) <= (elem1.icon_w + elem2.icon_w):\r\n",
    "        x_col = True\r\n",
    "\r\n",
    "    if 2 * abs(elem1_y - elem2_y) <= (elem1.icon_h + elem2.icon_h):\r\n",
    "        y_xol = True\r\n",
    "    \r\n",
    "    if x_col and y_col:\r\n",
    "        return True\r\n",
    "    \r\n",
    "    return False"
   ],
   "outputs": [],
   "metadata": {}
  },
  {
   "cell_type": "markdown",
   "source": [
    "Apart from this, we have to do some book-keeping. The reward for each step is 1, therefore, the episodic return counter is updated by 1 every episode. If there is a collision, the reward is -10 and the episode terminates. The fuel counter is reduced by 1 at every step.\r\n",
    "\r\n",
    "Finally, we implement our step function. I've wrote extensive comments to guide you through it."
   ],
   "metadata": {}
  },
  {
   "cell_type": "code",
   "execution_count": null,
   "source": [
    "%%add_to ChopperScape\r\n",
    "\r\n",
    "def step(self, action):\r\n",
    "    done = False\r\n",
    "\r\n",
    "    assert self.action_space.contains(action), \"Invalid Action\"\r\n",
    "\r\n",
    "    self.fuel_left -= 1\r\n",
    "\r\n",
    "    reward = 1\r\n",
    "\r\n",
    "    if action == 0:\r\n",
    "        self.chopper.move(0,5)\r\n",
    "    elif action == 1:\r\n",
    "        self.chopper.move(0,-5)\r\n",
    "    elif action == 2:\r\n",
    "        self.chopper.move(5,0)\r\n",
    "    elif action == 3:\r\n",
    "        self.chopper.move(-5,0)\r\n",
    "    elif action == 4:\r\n",
    "        self.chopper.move(0,0)\r\n",
    "\r\n",
    "    # spawn a bird with 0.01 prob\r\n",
    "    if random.random() < 0.01:\r\n",
    "\r\n",
    "        spawned_bird = Bird(\"bird_{}\".format(self.bird_count), self.x_max, self.x_min, self.y_max, self.y_min)\r\n",
    "        self.fuel_count += 1\r\n",
    "\r\n",
    "        # Compute the x,y co-ordinates of the position from where the bird has to be spawned\r\n",
    "        # Horizontally, the position is on the right edge and vertically, the height is randomly \r\n",
    "        # sampled from the set of permissible values\r\n",
    "        bird_x = self.x_max\r\n",
    "        bird_y = random.randrange(self.y_min, self.y_max)\r\n",
    "        spawned_bird.set_position(bird_x, bird_y)\r\n",
    "\r\n",
    "        self.elements.append(spawned_bird)\r\n",
    "\r\n",
    "    # spawn a fuel tank\r\n",
    "    if random.random() < 0.01:\r\n",
    "        spawned_fuel = Fuel(\"fuel_{}\".format(self.fuel_count), self.x_max, self.x_min, self.y_max, self.y_min)\r\n",
    "        self.fuel_count += 1\r\n",
    "\r\n",
    "        # Compute the x,y co-ordinates of the position from where the fuel tank has to be spawned\r\n",
    "        # Horizontally, the position is randomly chosen from the list of permissible values and \r\n",
    "        # vertically, the position is on the bottom edge\r\n",
    "        fuel_x = random.randrange(self.x_min, self.x_max)\r\n",
    "        fuel_y = self.y_max\r\n",
    "        spawned_fuel.set_position(fuel_x, fuel_y)\r\n",
    "\r\n",
    "        self.elements.append(spawned_fuel)\r\n",
    "    \r\n",
    "    for elem in self.elements:\r\n",
    "        if isinstance(elem, Bird):\r\n",
    "            # If the bird has reached the left edge, remove it from the Env\r\n",
    "            if elem.get_position()[0] <= self.x_min:\r\n",
    "                self.elements.remove(elem)\r\n",
    "            else:\r\n",
    "                # Move the bird left by 5 pts.\r\n",
    "                elem.move(-5,0)\r\n",
    "            \r\n",
    "            # if bird collides\r\n",
    "            if self.has_collided(self.chopper, elem):\r\n",
    "                # conclude the episode and remove chopper\r\n",
    "                done = True\r\n",
    "                reward -= 10\r\n",
    "                self.elements.remove(self.chopper)\r\n",
    "        \r\n",
    "        if isinstance(elem, Fuel):\r\n",
    "            # if the fuel tank has reached top, remove it\r\n",
    "            if elem.get_position()[1] <= self.y_min:\r\n",
    "                self.elements.remove(elem)\r\n",
    "            else:\r\n",
    "                elem.move(0,-5)\r\n",
    "            \r\n",
    "            # if fuel collides with chopper\r\n",
    "            if self.has_collided(self.chopper, elem):\r\n",
    "                # remove fuel tank\r\n",
    "                self.elements.remove(elem)\r\n",
    "\r\n",
    "                # fill tank\r\n",
    "                self.fuel_tank = self.max_fuel\r\n",
    "    \r\n",
    "    self.ep_return += 1\r\n",
    "\r\n",
    "    self.draw_elements_on_canvas()\r\n",
    "\r\n",
    "    if self.fuel_left == 0:\r\n",
    "        done = True\r\n",
    "    \r\n",
    "    return self.canvas, reward, done, []\r\n"
   ],
   "outputs": [],
   "metadata": {}
  },
  {
   "cell_type": "code",
   "execution_count": null,
   "source": [
    "from IPython import display\r\n",
    "\r\n",
    "env = ChopperScape()\r\n",
    "obs = env.reset()\r\n",
    "\r\n",
    "while True:\r\n",
    "    action = env.action_space.sample()\r\n",
    "    obs, reward, done, info = env.step(action)\r\n",
    "\r\n",
    "    env.render()\r\n",
    "\r\n",
    "    if done == True:\r\n",
    "        break\r\n",
    "\r\n",
    "env.close()"
   ],
   "outputs": [
    {
     "output_type": "stream",
     "name": "stderr",
     "text": [
      "C:\\Users\\Abhinav\\anaconda3\\envs\\pytorch_env\\lib\\site-packages\\gym\\logger.py:30: UserWarning: \u001b[33mWARN: Box bound precision lowered by casting to float32\u001b[0m\n",
      "  warnings.warn(colorize('%s: %s'%('WARN', msg % args), 'yellow'))\n"
     ]
    },
    {
     "output_type": "error",
     "ename": "TypeError",
     "evalue": "super(type, obj): obj must be an instance or subtype of type",
     "traceback": [
      "\u001b[1;31m---------------------------------------------------------------------------\u001b[0m",
      "\u001b[1;31mTypeError\u001b[0m                                 Traceback (most recent call last)",
      "\u001b[1;32m<ipython-input-137-77f9c03f5bb1>\u001b[0m in \u001b[0;36m<module>\u001b[1;34m\u001b[0m\n\u001b[0;32m      6\u001b[0m \u001b[1;32mwhile\u001b[0m \u001b[1;32mTrue\u001b[0m\u001b[1;33m:\u001b[0m\u001b[1;33m\u001b[0m\u001b[1;33m\u001b[0m\u001b[0m\n\u001b[0;32m      7\u001b[0m     \u001b[0maction\u001b[0m \u001b[1;33m=\u001b[0m \u001b[0menv\u001b[0m\u001b[1;33m.\u001b[0m\u001b[0maction_space\u001b[0m\u001b[1;33m.\u001b[0m\u001b[0msample\u001b[0m\u001b[1;33m(\u001b[0m\u001b[1;33m)\u001b[0m\u001b[1;33m\u001b[0m\u001b[1;33m\u001b[0m\u001b[0m\n\u001b[1;32m----> 8\u001b[1;33m     \u001b[0mobs\u001b[0m\u001b[1;33m,\u001b[0m \u001b[0mreward\u001b[0m\u001b[1;33m,\u001b[0m \u001b[0mdone\u001b[0m\u001b[1;33m,\u001b[0m \u001b[0minfo\u001b[0m \u001b[1;33m=\u001b[0m \u001b[0menv\u001b[0m\u001b[1;33m.\u001b[0m\u001b[0mstep\u001b[0m\u001b[1;33m(\u001b[0m\u001b[0maction\u001b[0m\u001b[1;33m)\u001b[0m\u001b[1;33m\u001b[0m\u001b[1;33m\u001b[0m\u001b[0m\n\u001b[0m\u001b[0;32m      9\u001b[0m \u001b[1;33m\u001b[0m\u001b[0m\n\u001b[0;32m     10\u001b[0m     \u001b[0menv\u001b[0m\u001b[1;33m.\u001b[0m\u001b[0mrender\u001b[0m\u001b[1;33m(\u001b[0m\u001b[1;33m)\u001b[0m\u001b[1;33m\u001b[0m\u001b[1;33m\u001b[0m\u001b[0m\n",
      "\u001b[1;32m<string>\u001b[0m in \u001b[0;36mstep\u001b[1;34m(self, action)\u001b[0m\n",
      "\u001b[1;32m<ipython-input-125-bfc770dd5366>\u001b[0m in \u001b[0;36m__init__\u001b[1;34m(self, name, x_max, x_min, y_max, y_min)\u001b[0m\n\u001b[0;32m     17\u001b[0m \u001b[1;32mclass\u001b[0m \u001b[0mFuel\u001b[0m\u001b[1;33m(\u001b[0m\u001b[0mPoint\u001b[0m\u001b[1;33m)\u001b[0m\u001b[1;33m:\u001b[0m\u001b[1;33m\u001b[0m\u001b[1;33m\u001b[0m\u001b[0m\n\u001b[0;32m     18\u001b[0m     \u001b[1;32mdef\u001b[0m \u001b[0m__init__\u001b[0m\u001b[1;33m(\u001b[0m\u001b[0mself\u001b[0m\u001b[1;33m,\u001b[0m \u001b[0mname\u001b[0m\u001b[1;33m,\u001b[0m \u001b[0mx_max\u001b[0m\u001b[1;33m,\u001b[0m \u001b[0mx_min\u001b[0m\u001b[1;33m,\u001b[0m \u001b[0my_max\u001b[0m\u001b[1;33m,\u001b[0m \u001b[0my_min\u001b[0m\u001b[1;33m)\u001b[0m\u001b[1;33m:\u001b[0m\u001b[1;33m\u001b[0m\u001b[1;33m\u001b[0m\u001b[0m\n\u001b[1;32m---> 19\u001b[1;33m         \u001b[0msuper\u001b[0m\u001b[1;33m(\u001b[0m\u001b[0mBird\u001b[0m\u001b[1;33m,\u001b[0m \u001b[0mself\u001b[0m\u001b[1;33m)\u001b[0m\u001b[1;33m.\u001b[0m\u001b[0m__init__\u001b[0m\u001b[1;33m(\u001b[0m\u001b[0mname\u001b[0m\u001b[1;33m,\u001b[0m \u001b[0mx_max\u001b[0m\u001b[1;33m,\u001b[0m \u001b[0mx_min\u001b[0m\u001b[1;33m,\u001b[0m \u001b[0my_max\u001b[0m\u001b[1;33m,\u001b[0m \u001b[0my_min\u001b[0m\u001b[1;33m)\u001b[0m\u001b[1;33m\u001b[0m\u001b[1;33m\u001b[0m\u001b[0m\n\u001b[0m\u001b[0;32m     20\u001b[0m         \u001b[0mself\u001b[0m\u001b[1;33m.\u001b[0m\u001b[0micon\u001b[0m \u001b[1;33m=\u001b[0m \u001b[0mcv2\u001b[0m\u001b[1;33m.\u001b[0m\u001b[0mimread\u001b[0m\u001b[1;33m(\u001b[0m\u001b[1;34m\"fuel.png\"\u001b[0m\u001b[1;33m)\u001b[0m \u001b[1;33m/\u001b[0m \u001b[1;36m255.0\u001b[0m\u001b[1;33m\u001b[0m\u001b[1;33m\u001b[0m\u001b[0m\n\u001b[0;32m     21\u001b[0m         \u001b[0mself\u001b[0m\u001b[1;33m.\u001b[0m\u001b[0micon_w\u001b[0m \u001b[1;33m=\u001b[0m \u001b[1;36m32\u001b[0m\u001b[1;33m\u001b[0m\u001b[1;33m\u001b[0m\u001b[0m\n",
      "\u001b[1;31mTypeError\u001b[0m: super(type, obj): obj must be an instance or subtype of type"
     ]
    }
   ],
   "metadata": {}
  },
  {
   "cell_type": "code",
   "execution_count": null,
   "source": [],
   "outputs": [],
   "metadata": {}
  },
  {
   "cell_type": "code",
   "execution_count": null,
   "source": [],
   "outputs": [],
   "metadata": {}
  }
 ],
 "metadata": {
  "orig_nbformat": 4,
  "language_info": {
   "name": "python",
   "version": "3.8.10",
   "mimetype": "text/x-python",
   "codemirror_mode": {
    "name": "ipython",
    "version": 3
   },
   "pygments_lexer": "ipython3",
   "nbconvert_exporter": "python",
   "file_extension": ".py"
  },
  "kernelspec": {
   "name": "python3",
   "display_name": "Python 3.8.10 64-bit ('pytorch_env': conda)"
  },
  "interpreter": {
   "hash": "c833507e7eb7af7ca95c7423b09e2995fbfb15583771793a8991c1685b565bec"
  }
 },
 "nbformat": 4,
 "nbformat_minor": 2
}