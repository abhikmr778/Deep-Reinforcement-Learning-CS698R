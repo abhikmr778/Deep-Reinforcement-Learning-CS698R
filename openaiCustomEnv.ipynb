{
 "cells": [
  {
   "cell_type": "markdown",
   "source": [
    "# Tutorial followed from https://blog.paperspace.com/creating-custom-environments-openai-gym/"
   ],
   "metadata": {}
  },
  {
   "cell_type": "code",
   "execution_count": 110,
   "source": [
    "import numpy as np\r\n",
    "import cv2\r\n",
    "import matplotlib.pyplot as plt\r\n",
    "import PIL.Image as Image\r\n",
    "import gym\r\n",
    "import random\r\n",
    "import jdc\r\n",
    "\r\n",
    "from gym import Env, spaces\r\n",
    "import time \r\n",
    "font = cv2.FONT_HERSHEY_COMPLEX_SMALL"
   ],
   "outputs": [],
   "metadata": {}
  },
  {
   "cell_type": "markdown",
   "source": [
    "The environment that we are creating is basically a game that is heavily inspired by the Dino Run game, the one which you play in Google Chrome if you are disconnected from the Internet. There is a dinosaur, and you have to jump over cacti and avoid hitting birds. The distance you cover is representative of the reward you end up getting."
   ],
   "metadata": {}
  },
  {
   "cell_type": "markdown",
   "source": [
    "In our game, instead of a dinosaur, our agent is going to be a Chopper pilot.\r\n",
    "\r\n",
    "1. The chopper has to cover as much distance as possible to get the maximum reward. There will be birds  that the chopper has to avoid.\r\n",
    "2. The episode terminates in case of a bird strike. The episode can also terminate if the Chopper runs out of fuel.\r\n",
    "3. Just like birds, there are floating fuel tanks (yes, no points for being close to reality, I know!) which the Chopper can collect to refuel the chopper to its full capacity (which is fixed at 1000 L).\r\n",
    "\r\n",
    "The very first consideration while designing an environment is to decide what sort of observation space and action space we will be using.\r\n",
    "\r\n",
    "1. The observation space can be either continuous or discrete. An example of a discrete action space is that of a grid-world where the observation space is defined by cells, and the agent could be inside one of those cells. An example of a continuous action space is one where the position of the agent is described by real-valued coordinates.\r\n",
    "\r\n",
    "2. The action space can be either continuous or discrete as well. An example of a discrete space is one where each action corresponds to the particular behavior of the agent, but that behavior cannot be quantified. An example of this is Mario Bros, where each action would lead to moving left, right, jumping, etc. Your actions can't quantify the behavior being produced, i.e. you can jump but not jump high, higher, or lower. However, in a game like Angry Birds, you decide how much to stretch the slingshot (you quantify it)."
   ],
   "metadata": {}
  },
  {
   "cell_type": "code",
   "execution_count": 111,
   "source": [
    "class ChopperScape(Env):\r\n",
    "    def __init__(self):\r\n",
    "        super(ChopperScape, self).__init__()\r\n",
    "        \r\n",
    "\r\n",
    "        # 2D observation space\r\n",
    "        self.observation_shape = (600,800,3)\r\n",
    "        # Box is used cuz continuous\r\n",
    "        self.observation_space = spaces.Box(low = np.zeros(self.observation_shape),\r\n",
    "                                            high = np.ones(self.observation_shape),\r\n",
    "                                            dtype = np.float32)\r\n",
    "        \r\n",
    "        # define an action space ranging from 0 to 4\r\n",
    "        self.action_space = spaces.Discrete(6,)\r\n",
    "\r\n",
    "        # canvas to render the environment images upon\r\n",
    "        self.canvas = np.ones(self.observation_shape) * 1\r\n",
    "\r\n",
    "        # define elements present inside the environment\r\n",
    "        self.elements = []\r\n",
    "\r\n",
    "        # max fuel\r\n",
    "        self.max_fuel = 1000\r\n",
    "\r\n",
    "        # permissible area of helicopter to be\r\n",
    "        self.y_min = int (self.observation_shape[0] * 0.1)\r\n",
    "        self.x_min = 0\r\n",
    "        self.y_max = int (self.observation_shape[0] * 0.9)\r\n",
    "        self.x_max = self.observation_shape[1]\r\n"
   ],
   "outputs": [],
   "metadata": {}
  },
  {
   "cell_type": "markdown",
   "source": [
    "# Elements of the Environment\r\n",
    "\r\n",
    "Once we have determined the action space and the observation space, we need to finalize what would be the elements of our environment. In our game, we have three distinct elements: the Chopper, Flying Birds, and and Floating Fuel Stations. We will be implementing all of these as separate classes that inherit from a common base class called Point.\r\n",
    "\r\n",
    "# Point Base Class\r\n",
    "The Point class is used to define any arbitrary point on our observation image. We define this class with the following attributes:\r\n",
    "\r\n",
    " - (x,y): Position of the point on the image.\r\n",
    " - (x_min, x_max, y_min, y_max): Permissible coordinates for the point. If we try to set the position of the point outside these limits, the position values are clamped to these limits.\r\n",
    " - name: Name of the point.\r\n",
    "\r\n",
    "We define the following member functions for this class.\r\n",
    "\r\n",
    " - get_position: Get the coordinates of the point.\r\n",
    " - set_position: Set the coordinates of the point to a certain value.\r\n",
    " - move: Move the points by certain value."
   ],
   "metadata": {}
  },
  {
   "cell_type": "code",
   "execution_count": 112,
   "source": [
    "class Point(object):\r\n",
    "    def __init__(self, name, x_max, x_min, y_max, y_min):\r\n",
    "        self.x = 0\r\n",
    "        self.y = 0\r\n",
    "        self.x_min = x_min\r\n",
    "        self.x_max = x_max\r\n",
    "        self.y_min = y_min\r\n",
    "        self.y_max = y_max\r\n",
    "        self.name = name\r\n",
    "    \r\n",
    "    def set_position(self, x, y):\r\n",
    "        self.x = self.clamp(x, self.x_min, self.x_max - self.icon_w)\r\n",
    "        self.y = self.clamp(y, self.y_min, self.y_max - self.icon_h)\r\n",
    "\r\n",
    "    def get_position(self):\r\n",
    "        return (self.x, self.y)\r\n",
    "    \r\n",
    "    def move(self, del_x, del_y):\r\n",
    "        self.x += del_x\r\n",
    "        self.y += del_y\r\n",
    "\r\n",
    "        self.x = self.clamp(self.x, self.x_min, self.x_max - self.icon_w)\r\n",
    "        self.y = self.clamp(self.y, self.y_min, self.y_max - self.icon_h)\r\n",
    "\r\n",
    "    def clamp(self, n, minn, maxn):\r\n",
    "        return max(min(n,maxn), minn)"
   ],
   "outputs": [],
   "metadata": {}
  },
  {
   "cell_type": "markdown",
   "source": [
    "Now we define the classes Chopper, Bird and Fuel. These classes are derived from the Point class, and introduce a set of new attributes:\r\n",
    "\r\n",
    " - icon: Icon of the point that will display on the  observation image when the game is rendered.\r\n",
    " - (icon_w, icon_h): Dimensions of the icon."
   ],
   "metadata": {}
  },
  {
   "cell_type": "code",
   "execution_count": 113,
   "source": [
    "class Chopper(Point):\r\n",
    "    def __init__(self, name, x_max, x_min, y_max, y_min):\r\n",
    "        super(Chopper, self).__init__(name, x_max, x_min, y_max, y_min)\r\n",
    "        self.icon = cv2.imread(\"chopper.png\") / 255.0\r\n",
    "        self.icon_w = 64\r\n",
    "        self.icon_h = 64\r\n",
    "        self.icon = cv2.resize(self.icon, (self.icon_h, self.icon_w))\r\n",
    "\r\n",
    "class Bird(Point):\r\n",
    "    def __init__(self, name, x_max, x_min, y_max, y_min):\r\n",
    "        super(Bird, self).__init__(name, x_max, x_min, y_max, y_min)\r\n",
    "        self.icon = cv2.imread(\"bird.png\") / 255.0\r\n",
    "        self.icon_w = 32\r\n",
    "        self.icon_h = 32\r\n",
    "        self.icon = cv2.resize(self.icon, (self.icon_h, self.icon_w))\r\n",
    "        \r\n",
    "class Fuel(Point):\r\n",
    "    def __init__(self, name, x_max, x_min, y_max, y_min):\r\n",
    "        super(Fuel, self).__init__(name, x_max, x_min, y_max, y_min)\r\n",
    "        self.icon = cv2.imread(\"fuel.png\") / 255.0\r\n",
    "        self.icon_w = 32\r\n",
    "        self.icon_h = 32\r\n",
    "        self.icon = cv2.resize(self.icon, (self.icon_h, self.icon_w))\r\n",
    "        "
   ],
   "outputs": [],
   "metadata": {}
  },
  {
   "cell_type": "markdown",
   "source": [
    "# Back to the ChopperScape Class\r\n",
    "\r\n",
    "Recall from Part 1 that any gym Env class has two important functions:\r\n",
    "\r\n",
    "1. reset: Resets the environment to its initial state and returns the initial observation.\r\n",
    "2. step : Executes a step in the environment by applying an action. Returns the new observation, reward, completion status, and other info.\r\n",
    "\r\n",
    "In this section, we will be implementing the reset and step functions of our environment along with many other helper functions. We begin with reset function.\r\n",
    "\r\n",
    "# Reset Function\r\n",
    "\r\n",
    "When we reset our environment, we need to reset all the state-based variables in our environment. These include things like fuel consumed, episodic return, and the elements present inside the environment.\r\n",
    "\r\n",
    "In our case, when we reset our environment, we have nothing but the Chopper in the initial state. We initialize our chopper randomly in an area in the top-left of our image. This area is 5-10 percent of the image width and 15-20 percent of the image height.\r\n",
    "\r\n",
    "We also define a helper function called draw_elements_on_canvas that basically places the icons of each of the elements present in the game at their respective positions in the observation image. If the position is beyond the permissible range, then the icons are placed on the range boundaries. We also print important information such as the remaining fuel.\r\n",
    "\r\n",
    "We finally return the canvas on which the elements have been placed as the observation."
   ],
   "metadata": {}
  },
  {
   "cell_type": "code",
   "execution_count": 114,
   "source": [
    "%%add_to ChopperScape\r\n",
    "\r\n",
    "def draw_elements_on_canvas(self):\r\n",
    "    # init the canvas\r\n",
    "    self.canvas = np.ones(self.observation_shape) * 1\r\n",
    "\r\n",
    "    # draw the helicopter on canvas\r\n",
    "    for elem in self.elements:\r\n",
    "        elem_shape = elem.icon.shape\r\n",
    "        x,y = elem.x, elem.y\r\n",
    "        self.canvas[y : y + elem_shape[1], x : x + elem_shape[0]] = elem.icon\r\n",
    "\r\n",
    "    text = 'Fuel Left: {} | Rewards: {}'.format(self.fuel_left, self.ep_return)\r\n",
    "\r\n",
    "    # put info on canvas\r\n",
    "    self.canvas = cv2.putText(self.canvas, text, (10,20), font,\r\n",
    "                            0.8, (0,0,0), 1, cv2.LINE_AA)\r\n",
    "\r\n",
    "def reset(self):\r\n",
    "    # reset fuel\r\n",
    "    self.fuel_left = self.max_fuel\r\n",
    "\r\n",
    "    # reset reward\r\n",
    "    self.ep_return = 0\r\n",
    "\r\n",
    "    # number of birds\r\n",
    "    self.bird_count = 0\r\n",
    "    self.fuel_count = 0\r\n",
    "\r\n",
    "    # init chopper\r\n",
    "    x = random.randrange(int(self.observation_shape[0]*0.05), int(self.observation_shape[0]*0.10))\r\n",
    "    y = random.randrange(int(self.observation_shape[1]*0.15), int(self.observation_shape[1]*0.20))\r\n",
    "\r\n",
    "    # initialize the chopper\r\n",
    "    self.chopper = Chopper(\"chopper\", self.x_max, self.x_min, self.y_max, self.y_min)\r\n",
    "    self.chopper.set_position(x,y)\r\n",
    "\r\n",
    "    # initialize the elements\r\n",
    "    self.elements = [self.chopper]\r\n",
    "\r\n",
    "    # reset the canvas\r\n",
    "    self.canvas = np.ones(self.observation_shape) * 1\r\n",
    "\r\n",
    "    # draw the elements on canvas\r\n",
    "    self.draw_elements_on_canvas()\r\n",
    "\r\n",
    "    # return the observation\r\n",
    "    return self.canvas\r\n",
    "\r\n",
    "\r\n",
    "\r\n"
   ],
   "outputs": [],
   "metadata": {}
  },
  {
   "cell_type": "markdown",
   "source": [
    "## Initial Observation"
   ],
   "metadata": {}
  },
  {
   "cell_type": "code",
   "execution_count": 115,
   "source": [
    "env = ChopperScape()\r\n",
    "obs = env.reset()\r\n",
    "plt.figure(figsize=(10,15))\r\n",
    "plt.imshow(obs)"
   ],
   "outputs": [
    {
     "output_type": "execute_result",
     "data": {
      "text/plain": [
       "<matplotlib.image.AxesImage at 0x29c5c3f62e0>"
      ]
     },
     "metadata": {},
     "execution_count": 115
    },
    {
     "output_type": "display_data",
     "data": {
      "image/png": "[encoded data removed]",
      "image/svg+xml": "<?xml version=\"1.0\" encoding=\"utf-8\" standalone=\"no\"?>\r\n<!DOCTYPE svg PUBLIC \"-//W3C//DTD SVG 1.1//EN\"\r\n  \"http://www.w3.org/Graphics/SVG/1.1/DTD/svg11.dtd\">\r\n<!-- Created with matplotlib (https://matplotlib.org/) -->\r\n<svg height=\"453.028594pt\" version=\"1.1\" viewBox=\"0 0 598.4875 453.028594\" width=\"598.4875pt\" xmlns=\"http://www.w3.org/2000/svg\" xmlns:xlink=\"http://www.w3.org/1999/xlink\">\r\n <metadata>\r\n  <rdf:RDF xmlns:cc=\"http://creativecommons.org/ns#\" xmlns:dc=\"http://purl.org/dc/elements/1.1/\" xmlns:rdf=\"http://www.w3.org/1999/02/22-rdf-syntax-ns#\">\r\n   <cc:Work>\r\n    <dc:type rdf:resource=\"http://purl.org/dc/dcmitype/StillImage\"/>\r\n    <dc:date>2021-09-03T14:16:57.940994</dc:date>\r\n    <dc:format>image/svg+xml</dc:format>\r\n    <dc:creator>\r\n     <cc:Agent>\r\n      <dc:title>Matplotlib v3.3.2, https://matplotlib.org/</dc:title>\r\n     </cc:Agent>\r\n    </dc:creator>\r\n   </cc:Work>\r\n  </rdf:RDF>\r\n </metadata>\r\n <defs>\r\n  <style type=\"text/css\">*{stroke-linecap:butt;stroke-linejoin:round;}</style>\r\n </defs>\r\n <g id=\"figure_1\">\r\n  <g id=\"patch_1\">\r\n   <path d=\"M 0 453.028594 \r\nL 598.4875 453.028594 \r\nL 598.4875 -0 \r\nL 0 -0 \r\nz\r\n\" style=\"fill:none;\"/>\r\n  </g>\r\n  <g id=\"axes_1\">\r\n   <g id=\"patch_2\">\r\n    <path d=\"M 33.2875 429.150469 \r\nL 591.2875 429.150469 \r\nL 591.2875 10.650469 \r\nL 33.2875 10.650469 \r\nz\r\n\" style=\"fill:#ffffff;\"/>\r\n   </g>\r\n   <g clip-path=\"url(#p501728e607)\">\r\n    <image height=\"419\" id=\"image66615d3b77\" transform=\"scale(1 -1)translate(0 -419)\" width=\"558\" x=\"33.2875\" xlink:href=\"data:image/png;base64,\r\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\" y=\"-10.150469\"/>\r\n   </g>\r\n   <g id=\"matplotlib.axis_1\">\r\n    <g id=\"xtick_1\">\r\n     <g id=\"line2d_1\">\r\n      <defs>\r\n       <path d=\"M 0 0 \r\nL 0 3.5 \r\n\" id=\"ma1aa9d1fd7\" style=\"stroke:#000000;stroke-width:0.8;\"/>\r\n      </defs>\r\n      <g>\r\n       <use style=\"stroke:#000000;stroke-width:0.8;\" x=\"33.63625\" xlink:href=\"#ma1aa9d1fd7\" y=\"429.150469\"/>\r\n      </g>\r\n     </g>\r\n     <g id=\"text_1\">\r\n      <!-- 0 -->\r\n      <g transform=\"translate(30.455 443.748906)scale(0.1 -0.1)\">\r\n       <defs>\r\n        <path d=\"M 31.78125 66.40625 \r\nQ 24.171875 66.40625 20.328125 58.90625 \r\nQ 16.5 51.421875 16.5 36.375 \r\nQ 16.5 21.390625 20.328125 13.890625 \r\nQ 24.171875 6.390625 31.78125 6.390625 \r\nQ 39.453125 6.390625 43.28125 13.890625 \r\nQ 47.125 21.390625 47.125 36.375 \r\nQ 47.125 51.421875 43.28125 58.90625 \r\nQ 39.453125 66.40625 31.78125 66.40625 \r\nz\r\nM 31.78125 74.21875 \r\nQ 44.046875 74.21875 50.515625 64.515625 \r\nQ 56.984375 54.828125 56.984375 36.375 \r\nQ 56.984375 17.96875 50.515625 8.265625 \r\nQ 44.046875 -1.421875 31.78125 -1.421875 \r\nQ 19.53125 -1.421875 13.0625 8.265625 \r\nQ 6.59375 17.96875 6.59375 36.375 \r\nQ 6.59375 54.828125 13.0625 64.515625 \r\nQ 19.53125 74.21875 31.78125 74.21875 \r\nz\r\n\" id=\"DejaVuSans-48\"/>\r\n       </defs>\r\n       <use xlink:href=\"#DejaVuSans-48\"/>\r\n      </g>\r\n     </g>\r\n    </g>\r\n    <g id=\"xtick_2\">\r\n     <g id=\"line2d_2\">\r\n      <g>\r\n       <use style=\"stroke:#000000;stroke-width:0.8;\" x=\"103.38625\" xlink:href=\"#ma1aa9d1fd7\" y=\"429.150469\"/>\r\n      </g>\r\n     </g>\r\n     <g id=\"text_2\">\r\n      <!-- 100 -->\r\n      <g transform=\"translate(93.8425 443.748906)scale(0.1 -0.1)\">\r\n       <defs>\r\n        <path d=\"M 12.40625 8.296875 \r\nL 28.515625 8.296875 \r\nL 28.515625 63.921875 \r\nL 10.984375 60.40625 \r\nL 10.984375 69.390625 \r\nL 28.421875 72.90625 \r\nL 38.28125 72.90625 \r\nL 38.28125 8.296875 \r\nL 54.390625 8.296875 \r\nL 54.390625 0 \r\nL 12.40625 0 \r\nz\r\n\" id=\"DejaVuSans-49\"/>\r\n       </defs>\r\n       <use xlink:href=\"#DejaVuSans-49\"/>\r\n       <use x=\"63.623047\" xlink:href=\"#DejaVuSans-48\"/>\r\n       <use x=\"127.246094\" xlink:href=\"#DejaVuSans-48\"/>\r\n      </g>\r\n     </g>\r\n    </g>\r\n    <g id=\"xtick_3\">\r\n     <g id=\"line2d_3\">\r\n      <g>\r\n       <use style=\"stroke:#000000;stroke-width:0.8;\" x=\"173.13625\" xlink:href=\"#ma1aa9d1fd7\" y=\"429.150469\"/>\r\n      </g>\r\n     </g>\r\n     <g id=\"text_3\">\r\n      <!-- 200 -->\r\n      <g transform=\"translate(163.5925 443.748906)scale(0.1 -0.1)\">\r\n       <defs>\r\n        <path d=\"M 19.1875 8.296875 \r\nL 53.609375 8.296875 \r\nL 53.609375 0 \r\nL 7.328125 0 \r\nL 7.328125 8.296875 \r\nQ 12.9375 14.109375 22.625 23.890625 \r\nQ 32.328125 33.6875 34.8125 36.53125 \r\nQ 39.546875 41.84375 41.421875 45.53125 \r\nQ 43.3125 49.21875 43.3125 52.78125 \r\nQ 43.3125 58.59375 39.234375 62.25 \r\nQ 35.15625 65.921875 28.609375 65.921875 \r\nQ 23.96875 65.921875 18.8125 64.3125 \r\nQ 13.671875 62.703125 7.8125 59.421875 \r\nL 7.8125 69.390625 \r\nQ 13.765625 71.78125 18.9375 73 \r\nQ 24.125 74.21875 28.421875 74.21875 \r\nQ 39.75 74.21875 46.484375 68.546875 \r\nQ 53.21875 62.890625 53.21875 53.421875 \r\nQ 53.21875 48.921875 51.53125 44.890625 \r\nQ 49.859375 40.875 45.40625 35.40625 \r\nQ 44.1875 33.984375 37.640625 27.21875 \r\nQ 31.109375 20.453125 19.1875 8.296875 \r\nz\r\n\" id=\"DejaVuSans-50\"/>\r\n       </defs>\r\n       <use xlink:href=\"#DejaVuSans-50\"/>\r\n       <use x=\"63.623047\" xlink:href=\"#DejaVuSans-48\"/>\r\n       <use x=\"127.246094\" xlink:href=\"#DejaVuSans-48\"/>\r\n      </g>\r\n     </g>\r\n    </g>\r\n    <g id=\"xtick_4\">\r\n     <g id=\"line2d_4\">\r\n      <g>\r\n       <use style=\"stroke:#000000;stroke-width:0.8;\" x=\"242.88625\" xlink:href=\"#ma1aa9d1fd7\" y=\"429.150469\"/>\r\n      </g>\r\n     </g>\r\n     <g id=\"text_4\">\r\n      <!-- 300 -->\r\n      <g transform=\"translate(233.3425 443.748906)scale(0.1 -0.1)\">\r\n       <defs>\r\n        <path d=\"M 40.578125 39.3125 \r\nQ 47.65625 37.796875 51.625 33 \r\nQ 55.609375 28.21875 55.609375 21.1875 \r\nQ 55.609375 10.40625 48.1875 4.484375 \r\nQ 40.765625 -1.421875 27.09375 -1.421875 \r\nQ 22.515625 -1.421875 17.65625 -0.515625 \r\nQ 12.796875 0.390625 7.625 2.203125 \r\nL 7.625 11.71875 \r\nQ 11.71875 9.328125 16.59375 8.109375 \r\nQ 21.484375 6.890625 26.8125 6.890625 \r\nQ 36.078125 6.890625 40.9375 10.546875 \r\nQ 45.796875 14.203125 45.796875 21.1875 \r\nQ 45.796875 27.640625 41.28125 31.265625 \r\nQ 36.765625 34.90625 28.71875 34.90625 \r\nL 20.21875 34.90625 \r\nL 20.21875 43.015625 \r\nL 29.109375 43.015625 \r\nQ 36.375 43.015625 40.234375 45.921875 \r\nQ 44.09375 48.828125 44.09375 54.296875 \r\nQ 44.09375 59.90625 40.109375 62.90625 \r\nQ 36.140625 65.921875 28.71875 65.921875 \r\nQ 24.65625 65.921875 20.015625 65.03125 \r\nQ 15.375 64.15625 9.8125 62.3125 \r\nL 9.8125 71.09375 \r\nQ 15.4375 72.65625 20.34375 73.4375 \r\nQ 25.25 74.21875 29.59375 74.21875 \r\nQ 40.828125 74.21875 47.359375 69.109375 \r\nQ 53.90625 64.015625 53.90625 55.328125 \r\nQ 53.90625 49.265625 50.4375 45.09375 \r\nQ 46.96875 40.921875 40.578125 39.3125 \r\nz\r\n\" id=\"DejaVuSans-51\"/>\r\n       </defs>\r\n       <use xlink:href=\"#DejaVuSans-51\"/>\r\n       <use x=\"63.623047\" xlink:href=\"#DejaVuSans-48\"/>\r\n       <use x=\"127.246094\" xlink:href=\"#DejaVuSans-48\"/>\r\n      </g>\r\n     </g>\r\n    </g>\r\n    <g id=\"xtick_5\">\r\n     <g id=\"line2d_5\">\r\n      <g>\r\n       <use style=\"stroke:#000000;stroke-width:0.8;\" x=\"312.63625\" xlink:href=\"#ma1aa9d1fd7\" y=\"429.150469\"/>\r\n      </g>\r\n     </g>\r\n     <g id=\"text_5\">\r\n      <!-- 400 -->\r\n      <g transform=\"translate(303.0925 443.748906)scale(0.1 -0.1)\">\r\n       <defs>\r\n        <path d=\"M 37.796875 64.3125 \r\nL 12.890625 25.390625 \r\nL 37.796875 25.390625 \r\nz\r\nM 35.203125 72.90625 \r\nL 47.609375 72.90625 \r\nL 47.609375 25.390625 \r\nL 58.015625 25.390625 \r\nL 58.015625 17.1875 \r\nL 47.609375 17.1875 \r\nL 47.609375 0 \r\nL 37.796875 0 \r\nL 37.796875 17.1875 \r\nL 4.890625 17.1875 \r\nL 4.890625 26.703125 \r\nz\r\n\" id=\"DejaVuSans-52\"/>\r\n       </defs>\r\n       <use xlink:href=\"#DejaVuSans-52\"/>\r\n       <use x=\"63.623047\" xlink:href=\"#DejaVuSans-48\"/>\r\n       <use x=\"127.246094\" xlink:href=\"#DejaVuSans-48\"/>\r\n      </g>\r\n     </g>\r\n    </g>\r\n    <g id=\"xtick_6\">\r\n     <g id=\"line2d_6\">\r\n      <g>\r\n       <use style=\"stroke:#000000;stroke-width:0.8;\" x=\"382.38625\" xlink:href=\"#ma1aa9d1fd7\" y=\"429.150469\"/>\r\n      </g>\r\n     </g>\r\n     <g id=\"text_6\">\r\n      <!-- 500 -->\r\n      <g transform=\"translate(372.8425 443.748906)scale(0.1 -0.1)\">\r\n       <defs>\r\n        <path d=\"M 10.796875 72.90625 \r\nL 49.515625 72.90625 \r\nL 49.515625 64.59375 \r\nL 19.828125 64.59375 \r\nL 19.828125 46.734375 \r\nQ 21.96875 47.46875 24.109375 47.828125 \r\nQ 26.265625 48.1875 28.421875 48.1875 \r\nQ 40.625 48.1875 47.75 41.5 \r\nQ 54.890625 34.8125 54.890625 23.390625 \r\nQ 54.890625 11.625 47.5625 5.09375 \r\nQ 40.234375 -1.421875 26.90625 -1.421875 \r\nQ 22.3125 -1.421875 17.546875 -0.640625 \r\nQ 12.796875 0.140625 7.71875 1.703125 \r\nL 7.71875 11.625 \r\nQ 12.109375 9.234375 16.796875 8.0625 \r\nQ 21.484375 6.890625 26.703125 6.890625 \r\nQ 35.15625 6.890625 40.078125 11.328125 \r\nQ 45.015625 15.765625 45.015625 23.390625 \r\nQ 45.015625 31 40.078125 35.4375 \r\nQ 35.15625 39.890625 26.703125 39.890625 \r\nQ 22.75 39.890625 18.8125 39.015625 \r\nQ 14.890625 38.140625 10.796875 36.28125 \r\nz\r\n\" id=\"DejaVuSans-53\"/>\r\n       </defs>\r\n       <use xlink:href=\"#DejaVuSans-53\"/>\r\n       <use x=\"63.623047\" xlink:href=\"#DejaVuSans-48\"/>\r\n       <use x=\"127.246094\" xlink:href=\"#DejaVuSans-48\"/>\r\n      </g>\r\n     </g>\r\n    </g>\r\n    <g id=\"xtick_7\">\r\n     <g id=\"line2d_7\">\r\n      <g>\r\n       <use style=\"stroke:#000000;stroke-width:0.8;\" x=\"452.13625\" xlink:href=\"#ma1aa9d1fd7\" y=\"429.150469\"/>\r\n      </g>\r\n     </g>\r\n     <g id=\"text_7\">\r\n      <!-- 600 -->\r\n      <g transform=\"translate(442.5925 443.748906)scale(0.1 -0.1)\">\r\n       <defs>\r\n        <path d=\"M 33.015625 40.375 \r\nQ 26.375 40.375 22.484375 35.828125 \r\nQ 18.609375 31.296875 18.609375 23.390625 \r\nQ 18.609375 15.53125 22.484375 10.953125 \r\nQ 26.375 6.390625 33.015625 6.390625 \r\nQ 39.65625 6.390625 43.53125 10.953125 \r\nQ 47.40625 15.53125 47.40625 23.390625 \r\nQ 47.40625 31.296875 43.53125 35.828125 \r\nQ 39.65625 40.375 33.015625 40.375 \r\nz\r\nM 52.59375 71.296875 \r\nL 52.59375 62.3125 \r\nQ 48.875 64.0625 45.09375 64.984375 \r\nQ 41.3125 65.921875 37.59375 65.921875 \r\nQ 27.828125 65.921875 22.671875 59.328125 \r\nQ 17.53125 52.734375 16.796875 39.40625 \r\nQ 19.671875 43.65625 24.015625 45.921875 \r\nQ 28.375 48.1875 33.59375 48.1875 \r\nQ 44.578125 48.1875 50.953125 41.515625 \r\nQ 57.328125 34.859375 57.328125 23.390625 \r\nQ 57.328125 12.15625 50.6875 5.359375 \r\nQ 44.046875 -1.421875 33.015625 -1.421875 \r\nQ 20.359375 -1.421875 13.671875 8.265625 \r\nQ 6.984375 17.96875 6.984375 36.375 \r\nQ 6.984375 53.65625 15.1875 63.9375 \r\nQ 23.390625 74.21875 37.203125 74.21875 \r\nQ 40.921875 74.21875 44.703125 73.484375 \r\nQ 48.484375 72.75 52.59375 71.296875 \r\nz\r\n\" id=\"DejaVuSans-54\"/>\r\n       </defs>\r\n       <use xlink:href=\"#DejaVuSans-54\"/>\r\n       <use x=\"63.623047\" xlink:href=\"#DejaVuSans-48\"/>\r\n       <use x=\"127.246094\" xlink:href=\"#DejaVuSans-48\"/>\r\n      </g>\r\n     </g>\r\n    </g>\r\n    <g id=\"xtick_8\">\r\n     <g id=\"line2d_8\">\r\n      <g>\r\n       <use style=\"stroke:#000000;stroke-width:0.8;\" x=\"521.88625\" xlink:href=\"#ma1aa9d1fd7\" y=\"429.150469\"/>\r\n      </g>\r\n     </g>\r\n     <g id=\"text_8\">\r\n      <!-- 700 -->\r\n      <g transform=\"translate(512.3425 443.748906)scale(0.1 -0.1)\">\r\n       <defs>\r\n        <path d=\"M 8.203125 72.90625 \r\nL 55.078125 72.90625 \r\nL 55.078125 68.703125 \r\nL 28.609375 0 \r\nL 18.3125 0 \r\nL 43.21875 64.59375 \r\nL 8.203125 64.59375 \r\nz\r\n\" id=\"DejaVuSans-55\"/>\r\n       </defs>\r\n       <use xlink:href=\"#DejaVuSans-55\"/>\r\n       <use x=\"63.623047\" xlink:href=\"#DejaVuSans-48\"/>\r\n       <use x=\"127.246094\" xlink:href=\"#DejaVuSans-48\"/>\r\n      </g>\r\n     </g>\r\n    </g>\r\n   </g>\r\n   <g id=\"matplotlib.axis_2\">\r\n    <g id=\"ytick_1\">\r\n     <g id=\"line2d_9\">\r\n      <defs>\r\n       <path d=\"M 0 0 \r\nL -3.5 0 \r\n\" id=\"m6d0d00a6ea\" style=\"stroke:#000000;stroke-width:0.8;\"/>\r\n      </defs>\r\n      <g>\r\n       <use style=\"stroke:#000000;stroke-width:0.8;\" x=\"33.2875\" xlink:href=\"#m6d0d00a6ea\" y=\"10.999219\"/>\r\n      </g>\r\n     </g>\r\n     <g id=\"text_9\">\r\n      <!-- 0 -->\r\n      <g transform=\"translate(19.925 14.798438)scale(0.1 -0.1)\">\r\n       <use xlink:href=\"#DejaVuSans-48\"/>\r\n      </g>\r\n     </g>\r\n    </g>\r\n    <g id=\"ytick_2\">\r\n     <g id=\"line2d_10\">\r\n      <g>\r\n       <use style=\"stroke:#000000;stroke-width:0.8;\" x=\"33.2875\" xlink:href=\"#m6d0d00a6ea\" y=\"80.749219\"/>\r\n      </g>\r\n     </g>\r\n     <g id=\"text_10\">\r\n      <!-- 100 -->\r\n      <g transform=\"translate(7.2 84.548438)scale(0.1 -0.1)\">\r\n       <use xlink:href=\"#DejaVuSans-49\"/>\r\n       <use x=\"63.623047\" xlink:href=\"#DejaVuSans-48\"/>\r\n       <use x=\"127.246094\" xlink:href=\"#DejaVuSans-48\"/>\r\n      </g>\r\n     </g>\r\n    </g>\r\n    <g id=\"ytick_3\">\r\n     <g id=\"line2d_11\">\r\n      <g>\r\n       <use style=\"stroke:#000000;stroke-width:0.8;\" x=\"33.2875\" xlink:href=\"#m6d0d00a6ea\" y=\"150.499219\"/>\r\n      </g>\r\n     </g>\r\n     <g id=\"text_11\">\r\n      <!-- 200 -->\r\n      <g transform=\"translate(7.2 154.298438)scale(0.1 -0.1)\">\r\n       <use xlink:href=\"#DejaVuSans-50\"/>\r\n       <use x=\"63.623047\" xlink:href=\"#DejaVuSans-48\"/>\r\n       <use x=\"127.246094\" xlink:href=\"#DejaVuSans-48\"/>\r\n      </g>\r\n     </g>\r\n    </g>\r\n    <g id=\"ytick_4\">\r\n     <g id=\"line2d_12\">\r\n      <g>\r\n       <use style=\"stroke:#000000;stroke-width:0.8;\" x=\"33.2875\" xlink:href=\"#m6d0d00a6ea\" y=\"220.249219\"/>\r\n      </g>\r\n     </g>\r\n     <g id=\"text_12\">\r\n      <!-- 300 -->\r\n      <g transform=\"translate(7.2 224.048438)scale(0.1 -0.1)\">\r\n       <use xlink:href=\"#DejaVuSans-51\"/>\r\n       <use x=\"63.623047\" xlink:href=\"#DejaVuSans-48\"/>\r\n       <use x=\"127.246094\" xlink:href=\"#DejaVuSans-48\"/>\r\n      </g>\r\n     </g>\r\n    </g>\r\n    <g id=\"ytick_5\">\r\n     <g id=\"line2d_13\">\r\n      <g>\r\n       <use style=\"stroke:#000000;stroke-width:0.8;\" x=\"33.2875\" xlink:href=\"#m6d0d00a6ea\" y=\"289.999219\"/>\r\n      </g>\r\n     </g>\r\n     <g id=\"text_13\">\r\n      <!-- 400 -->\r\n      <g transform=\"translate(7.2 293.798437)scale(0.1 -0.1)\">\r\n       <use xlink:href=\"#DejaVuSans-52\"/>\r\n       <use x=\"63.623047\" xlink:href=\"#DejaVuSans-48\"/>\r\n       <use x=\"127.246094\" xlink:href=\"#DejaVuSans-48\"/>\r\n      </g>\r\n     </g>\r\n    </g>\r\n    <g id=\"ytick_6\">\r\n     <g id=\"line2d_14\">\r\n      <g>\r\n       <use style=\"stroke:#000000;stroke-width:0.8;\" x=\"33.2875\" xlink:href=\"#m6d0d00a6ea\" y=\"359.749219\"/>\r\n      </g>\r\n     </g>\r\n     <g id=\"text_14\">\r\n      <!-- 500 -->\r\n      <g transform=\"translate(7.2 363.548437)scale(0.1 -0.1)\">\r\n       <use xlink:href=\"#DejaVuSans-53\"/>\r\n       <use x=\"63.623047\" xlink:href=\"#DejaVuSans-48\"/>\r\n       <use x=\"127.246094\" xlink:href=\"#DejaVuSans-48\"/>\r\n      </g>\r\n     </g>\r\n    </g>\r\n   </g>\r\n   <g id=\"patch_3\">\r\n    <path d=\"M 33.2875 429.150469 \r\nL 33.2875 10.650469 \r\n\" style=\"fill:none;stroke:#000000;stroke-linecap:square;stroke-linejoin:miter;stroke-width:0.8;\"/>\r\n   </g>\r\n   <g id=\"patch_4\">\r\n    <path d=\"M 591.2875 429.150469 \r\nL 591.2875 10.650469 \r\n\" style=\"fill:none;stroke:#000000;stroke-linecap:square;stroke-linejoin:miter;stroke-width:0.8;\"/>\r\n   </g>\r\n   <g id=\"patch_5\">\r\n    <path d=\"M 33.2875 429.150469 \r\nL 591.2875 429.150469 \r\n\" style=\"fill:none;stroke:#000000;stroke-linecap:square;stroke-linejoin:miter;stroke-width:0.8;\"/>\r\n   </g>\r\n   <g id=\"patch_6\">\r\n    <path d=\"M 33.2875 10.650469 \r\nL 591.2875 10.650469 \r\n\" style=\"fill:none;stroke:#000000;stroke-linecap:square;stroke-linejoin:miter;stroke-width:0.8;\"/>\r\n   </g>\r\n  </g>\r\n </g>\r\n <defs>\r\n  <clipPath id=\"p501728e607\">\r\n   <rect height=\"418.5\" width=\"558\" x=\"33.2875\" y=\"10.650469\"/>\r\n  </clipPath>\r\n </defs>\r\n</svg>\r\n",
      "text/plain": [
       "<Figure size 720x1080 with 1 Axes>"
      ]
     },
     "metadata": {
      "needs_background": "light"
     }
    }
   ],
   "metadata": {}
  },
  {
   "cell_type": "markdown",
   "source": [
    "Since our observation is the same as the gameplay screen of the game, our render function shall return our observation too. We build functionality for two modes, one human which would render the game in a pop-up window, while rgb_array returns it as a pixel array."
   ],
   "metadata": {}
  },
  {
   "cell_type": "code",
   "execution_count": 116,
   "source": [
    "%%add_to ChopperScape\r\n",
    "\r\n",
    "def render(self, mode=\"human\"):\r\n",
    "    assert mode in [\"human\", \"rgb_array\"], \"Invalid mode, must be either \\\"human\\\" or \\\"rgb_array\\\"\"\r\n",
    "    if mode == \"human\":\r\n",
    "        cv2.imshow(\"Game\", self.canvas)\r\n",
    "        cv2.waitKey(10)\r\n",
    "    \r\n",
    "    elif mode == \"rgb_array\":\r\n",
    "        return self.canvas\r\n",
    "\r\n",
    "def close(self):\r\n",
    "    cv2.destroyAllWindows()\r\n",
    "\r\n",
    "env = ChopperScape()\r\n",
    "obs = env.reset()\r\n",
    "screen = env.render(mode=\"rgb_array\")\r\n",
    "plt.figure(figsize=(10,15))\r\n",
    "plt.imshow(screen)"
   ],
   "outputs": [
    {
     "output_type": "display_data",
     "data": {
      "image/png": "[encoded data removed]",
      "image/svg+xml": "<?xml version=\"1.0\" encoding=\"utf-8\" standalone=\"no\"?>\r\n<!DOCTYPE svg PUBLIC \"-//W3C//DTD SVG 1.1//EN\"\r\n  \"http://www.w3.org/Graphics/SVG/1.1/DTD/svg11.dtd\">\r\n<!-- Created with matplotlib (https://matplotlib.org/) -->\r\n<svg height=\"453.028594pt\" version=\"1.1\" viewBox=\"0 0 598.4875 453.028594\" width=\"598.4875pt\" xmlns=\"http://www.w3.org/2000/svg\" xmlns:xlink=\"http://www.w3.org/1999/xlink\">\r\n <metadata>\r\n  <rdf:RDF xmlns:cc=\"http://creativecommons.org/ns#\" xmlns:dc=\"http://purl.org/dc/elements/1.1/\" xmlns:rdf=\"http://www.w3.org/1999/02/22-rdf-syntax-ns#\">\r\n   <cc:Work>\r\n    <dc:type rdf:resource=\"http://purl.org/dc/dcmitype/StillImage\"/>\r\n    <dc:date>2021-09-03T14:16:58.659178</dc:date>\r\n    <dc:format>image/svg+xml</dc:format>\r\n    <dc:creator>\r\n     <cc:Agent>\r\n      <dc:title>Matplotlib v3.3.2, https://matplotlib.org/</dc:title>\r\n     </cc:Agent>\r\n    </dc:creator>\r\n   </cc:Work>\r\n  </rdf:RDF>\r\n </metadata>\r\n <defs>\r\n  <style type=\"text/css\">*{stroke-linecap:butt;stroke-linejoin:round;}</style>\r\n </defs>\r\n <g id=\"figure_1\">\r\n  <g id=\"patch_1\">\r\n   <path d=\"M 0 453.028594 \r\nL 598.4875 453.028594 \r\nL 598.4875 -0 \r\nL 0 -0 \r\nz\r\n\" style=\"fill:none;\"/>\r\n  </g>\r\n  <g id=\"axes_1\">\r\n   <g id=\"patch_2\">\r\n    <path d=\"M 33.2875 429.150469 \r\nL 591.2875 429.150469 \r\nL 591.2875 10.650469 \r\nL 33.2875 10.650469 \r\nz\r\n\" style=\"fill:#ffffff;\"/>\r\n   </g>\r\n   <g clip-path=\"url(#p6092c01688)\">\r\n    <image height=\"419\" id=\"imagedf1325057e\" transform=\"scale(1 -1)translate(0 -419)\" width=\"558\" x=\"33.2875\" xlink:href=\"data:image/png;base64,\r\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\" y=\"-10.150469\"/>\r\n   </g>\r\n   <g id=\"matplotlib.axis_1\">\r\n    <g id=\"xtick_1\">\r\n     <g id=\"line2d_1\">\r\n      <defs>\r\n       <path d=\"M 0 0 \r\nL 0 3.5 \r\n\" id=\"ma28337dfd3\" style=\"stroke:#000000;stroke-width:0.8;\"/>\r\n      </defs>\r\n      <g>\r\n       <use style=\"stroke:#000000;stroke-width:0.8;\" x=\"33.63625\" xlink:href=\"#ma28337dfd3\" y=\"429.150469\"/>\r\n      </g>\r\n     </g>\r\n     <g id=\"text_1\">\r\n      <!-- 0 -->\r\n      <g transform=\"translate(30.455 443.748906)scale(0.1 -0.1)\">\r\n       <defs>\r\n        <path d=\"M 31.78125 66.40625 \r\nQ 24.171875 66.40625 20.328125 58.90625 \r\nQ 16.5 51.421875 16.5 36.375 \r\nQ 16.5 21.390625 20.328125 13.890625 \r\nQ 24.171875 6.390625 31.78125 6.390625 \r\nQ 39.453125 6.390625 43.28125 13.890625 \r\nQ 47.125 21.390625 47.125 36.375 \r\nQ 47.125 51.421875 43.28125 58.90625 \r\nQ 39.453125 66.40625 31.78125 66.40625 \r\nz\r\nM 31.78125 74.21875 \r\nQ 44.046875 74.21875 50.515625 64.515625 \r\nQ 56.984375 54.828125 56.984375 36.375 \r\nQ 56.984375 17.96875 50.515625 8.265625 \r\nQ 44.046875 -1.421875 31.78125 -1.421875 \r\nQ 19.53125 -1.421875 13.0625 8.265625 \r\nQ 6.59375 17.96875 6.59375 36.375 \r\nQ 6.59375 54.828125 13.0625 64.515625 \r\nQ 19.53125 74.21875 31.78125 74.21875 \r\nz\r\n\" id=\"DejaVuSans-48\"/>\r\n       </defs>\r\n       <use xlink:href=\"#DejaVuSans-48\"/>\r\n      </g>\r\n     </g>\r\n    </g>\r\n    <g id=\"xtick_2\">\r\n     <g id=\"line2d_2\">\r\n      <g>\r\n       <use style=\"stroke:#000000;stroke-width:0.8;\" x=\"103.38625\" xlink:href=\"#ma28337dfd3\" y=\"429.150469\"/>\r\n      </g>\r\n     </g>\r\n     <g id=\"text_2\">\r\n      <!-- 100 -->\r\n      <g transform=\"translate(93.8425 443.748906)scale(0.1 -0.1)\">\r\n       <defs>\r\n        <path d=\"M 12.40625 8.296875 \r\nL 28.515625 8.296875 \r\nL 28.515625 63.921875 \r\nL 10.984375 60.40625 \r\nL 10.984375 69.390625 \r\nL 28.421875 72.90625 \r\nL 38.28125 72.90625 \r\nL 38.28125 8.296875 \r\nL 54.390625 8.296875 \r\nL 54.390625 0 \r\nL 12.40625 0 \r\nz\r\n\" id=\"DejaVuSans-49\"/>\r\n       </defs>\r\n       <use xlink:href=\"#DejaVuSans-49\"/>\r\n       <use x=\"63.623047\" xlink:href=\"#DejaVuSans-48\"/>\r\n       <use x=\"127.246094\" xlink:href=\"#DejaVuSans-48\"/>\r\n      </g>\r\n     </g>\r\n    </g>\r\n    <g id=\"xtick_3\">\r\n     <g id=\"line2d_3\">\r\n      <g>\r\n       <use style=\"stroke:#000000;stroke-width:0.8;\" x=\"173.13625\" xlink:href=\"#ma28337dfd3\" y=\"429.150469\"/>\r\n      </g>\r\n     </g>\r\n     <g id=\"text_3\">\r\n      <!-- 200 -->\r\n      <g transform=\"translate(163.5925 443.748906)scale(0.1 -0.1)\">\r\n       <defs>\r\n        <path d=\"M 19.1875 8.296875 \r\nL 53.609375 8.296875 \r\nL 53.609375 0 \r\nL 7.328125 0 \r\nL 7.328125 8.296875 \r\nQ 12.9375 14.109375 22.625 23.890625 \r\nQ 32.328125 33.6875 34.8125 36.53125 \r\nQ 39.546875 41.84375 41.421875 45.53125 \r\nQ 43.3125 49.21875 43.3125 52.78125 \r\nQ 43.3125 58.59375 39.234375 62.25 \r\nQ 35.15625 65.921875 28.609375 65.921875 \r\nQ 23.96875 65.921875 18.8125 64.3125 \r\nQ 13.671875 62.703125 7.8125 59.421875 \r\nL 7.8125 69.390625 \r\nQ 13.765625 71.78125 18.9375 73 \r\nQ 24.125 74.21875 28.421875 74.21875 \r\nQ 39.75 74.21875 46.484375 68.546875 \r\nQ 53.21875 62.890625 53.21875 53.421875 \r\nQ 53.21875 48.921875 51.53125 44.890625 \r\nQ 49.859375 40.875 45.40625 35.40625 \r\nQ 44.1875 33.984375 37.640625 27.21875 \r\nQ 31.109375 20.453125 19.1875 8.296875 \r\nz\r\n\" id=\"DejaVuSans-50\"/>\r\n       </defs>\r\n       <use xlink:href=\"#DejaVuSans-50\"/>\r\n       <use x=\"63.623047\" xlink:href=\"#DejaVuSans-48\"/>\r\n       <use x=\"127.246094\" xlink:href=\"#DejaVuSans-48\"/>\r\n      </g>\r\n     </g>\r\n    </g>\r\n    <g id=\"xtick_4\">\r\n     <g id=\"line2d_4\">\r\n      <g>\r\n       <use style=\"stroke:#000000;stroke-width:0.8;\" x=\"242.88625\" xlink:href=\"#ma28337dfd3\" y=\"429.150469\"/>\r\n      </g>\r\n     </g>\r\n     <g id=\"text_4\">\r\n      <!-- 300 -->\r\n      <g transform=\"translate(233.3425 443.748906)scale(0.1 -0.1)\">\r\n       <defs>\r\n        <path d=\"M 40.578125 39.3125 \r\nQ 47.65625 37.796875 51.625 33 \r\nQ 55.609375 28.21875 55.609375 21.1875 \r\nQ 55.609375 10.40625 48.1875 4.484375 \r\nQ 40.765625 -1.421875 27.09375 -1.421875 \r\nQ 22.515625 -1.421875 17.65625 -0.515625 \r\nQ 12.796875 0.390625 7.625 2.203125 \r\nL 7.625 11.71875 \r\nQ 11.71875 9.328125 16.59375 8.109375 \r\nQ 21.484375 6.890625 26.8125 6.890625 \r\nQ 36.078125 6.890625 40.9375 10.546875 \r\nQ 45.796875 14.203125 45.796875 21.1875 \r\nQ 45.796875 27.640625 41.28125 31.265625 \r\nQ 36.765625 34.90625 28.71875 34.90625 \r\nL 20.21875 34.90625 \r\nL 20.21875 43.015625 \r\nL 29.109375 43.015625 \r\nQ 36.375 43.015625 40.234375 45.921875 \r\nQ 44.09375 48.828125 44.09375 54.296875 \r\nQ 44.09375 59.90625 40.109375 62.90625 \r\nQ 36.140625 65.921875 28.71875 65.921875 \r\nQ 24.65625 65.921875 20.015625 65.03125 \r\nQ 15.375 64.15625 9.8125 62.3125 \r\nL 9.8125 71.09375 \r\nQ 15.4375 72.65625 20.34375 73.4375 \r\nQ 25.25 74.21875 29.59375 74.21875 \r\nQ 40.828125 74.21875 47.359375 69.109375 \r\nQ 53.90625 64.015625 53.90625 55.328125 \r\nQ 53.90625 49.265625 50.4375 45.09375 \r\nQ 46.96875 40.921875 40.578125 39.3125 \r\nz\r\n\" id=\"DejaVuSans-51\"/>\r\n       </defs>\r\n       <use xlink:href=\"#DejaVuSans-51\"/>\r\n       <use x=\"63.623047\" xlink:href=\"#DejaVuSans-48\"/>\r\n       <use x=\"127.246094\" xlink:href=\"#DejaVuSans-48\"/>\r\n      </g>\r\n     </g>\r\n    </g>\r\n    <g id=\"xtick_5\">\r\n     <g id=\"line2d_5\">\r\n      <g>\r\n       <use style=\"stroke:#000000;stroke-width:0.8;\" x=\"312.63625\" xlink:href=\"#ma28337dfd3\" y=\"429.150469\"/>\r\n      </g>\r\n     </g>\r\n     <g id=\"text_5\">\r\n      <!-- 400 -->\r\n      <g transform=\"translate(303.0925 443.748906)scale(0.1 -0.1)\">\r\n       <defs>\r\n        <path d=\"M 37.796875 64.3125 \r\nL 12.890625 25.390625 \r\nL 37.796875 25.390625 \r\nz\r\nM 35.203125 72.90625 \r\nL 47.609375 72.90625 \r\nL 47.609375 25.390625 \r\nL 58.015625 25.390625 \r\nL 58.015625 17.1875 \r\nL 47.609375 17.1875 \r\nL 47.609375 0 \r\nL 37.796875 0 \r\nL 37.796875 17.1875 \r\nL 4.890625 17.1875 \r\nL 4.890625 26.703125 \r\nz\r\n\" id=\"DejaVuSans-52\"/>\r\n       </defs>\r\n       <use xlink:href=\"#DejaVuSans-52\"/>\r\n       <use x=\"63.623047\" xlink:href=\"#DejaVuSans-48\"/>\r\n       <use x=\"127.246094\" xlink:href=\"#DejaVuSans-48\"/>\r\n      </g>\r\n     </g>\r\n    </g>\r\n    <g id=\"xtick_6\">\r\n     <g id=\"line2d_6\">\r\n      <g>\r\n       <use style=\"stroke:#000000;stroke-width:0.8;\" x=\"382.38625\" xlink:href=\"#ma28337dfd3\" y=\"429.150469\"/>\r\n      </g>\r\n     </g>\r\n     <g id=\"text_6\">\r\n      <!-- 500 -->\r\n      <g transform=\"translate(372.8425 443.748906)scale(0.1 -0.1)\">\r\n       <defs>\r\n        <path d=\"M 10.796875 72.90625 \r\nL 49.515625 72.90625 \r\nL 49.515625 64.59375 \r\nL 19.828125 64.59375 \r\nL 19.828125 46.734375 \r\nQ 21.96875 47.46875 24.109375 47.828125 \r\nQ 26.265625 48.1875 28.421875 48.1875 \r\nQ 40.625 48.1875 47.75 41.5 \r\nQ 54.890625 34.8125 54.890625 23.390625 \r\nQ 54.890625 11.625 47.5625 5.09375 \r\nQ 40.234375 -1.421875 26.90625 -1.421875 \r\nQ 22.3125 -1.421875 17.546875 -0.640625 \r\nQ 12.796875 0.140625 7.71875 1.703125 \r\nL 7.71875 11.625 \r\nQ 12.109375 9.234375 16.796875 8.0625 \r\nQ 21.484375 6.890625 26.703125 6.890625 \r\nQ 35.15625 6.890625 40.078125 11.328125 \r\nQ 45.015625 15.765625 45.015625 23.390625 \r\nQ 45.015625 31 40.078125 35.4375 \r\nQ 35.15625 39.890625 26.703125 39.890625 \r\nQ 22.75 39.890625 18.8125 39.015625 \r\nQ 14.890625 38.140625 10.796875 36.28125 \r\nz\r\n\" id=\"DejaVuSans-53\"/>\r\n       </defs>\r\n       <use xlink:href=\"#DejaVuSans-53\"/>\r\n       <use x=\"63.623047\" xlink:href=\"#DejaVuSans-48\"/>\r\n       <use x=\"127.246094\" xlink:href=\"#DejaVuSans-48\"/>\r\n      </g>\r\n     </g>\r\n    </g>\r\n    <g id=\"xtick_7\">\r\n     <g id=\"line2d_7\">\r\n      <g>\r\n       <use style=\"stroke:#000000;stroke-width:0.8;\" x=\"452.13625\" xlink:href=\"#ma28337dfd3\" y=\"429.150469\"/>\r\n      </g>\r\n     </g>\r\n     <g id=\"text_7\">\r\n      <!-- 600 -->\r\n      <g transform=\"translate(442.5925 443.748906)scale(0.1 -0.1)\">\r\n       <defs>\r\n        <path d=\"M 33.015625 40.375 \r\nQ 26.375 40.375 22.484375 35.828125 \r\nQ 18.609375 31.296875 18.609375 23.390625 \r\nQ 18.609375 15.53125 22.484375 10.953125 \r\nQ 26.375 6.390625 33.015625 6.390625 \r\nQ 39.65625 6.390625 43.53125 10.953125 \r\nQ 47.40625 15.53125 47.40625 23.390625 \r\nQ 47.40625 31.296875 43.53125 35.828125 \r\nQ 39.65625 40.375 33.015625 40.375 \r\nz\r\nM 52.59375 71.296875 \r\nL 52.59375 62.3125 \r\nQ 48.875 64.0625 45.09375 64.984375 \r\nQ 41.3125 65.921875 37.59375 65.921875 \r\nQ 27.828125 65.921875 22.671875 59.328125 \r\nQ 17.53125 52.734375 16.796875 39.40625 \r\nQ 19.671875 43.65625 24.015625 45.921875 \r\nQ 28.375 48.1875 33.59375 48.1875 \r\nQ 44.578125 48.1875 50.953125 41.515625 \r\nQ 57.328125 34.859375 57.328125 23.390625 \r\nQ 57.328125 12.15625 50.6875 5.359375 \r\nQ 44.046875 -1.421875 33.015625 -1.421875 \r\nQ 20.359375 -1.421875 13.671875 8.265625 \r\nQ 6.984375 17.96875 6.984375 36.375 \r\nQ 6.984375 53.65625 15.1875 63.9375 \r\nQ 23.390625 74.21875 37.203125 74.21875 \r\nQ 40.921875 74.21875 44.703125 73.484375 \r\nQ 48.484375 72.75 52.59375 71.296875 \r\nz\r\n\" id=\"DejaVuSans-54\"/>\r\n       </defs>\r\n       <use xlink:href=\"#DejaVuSans-54\"/>\r\n       <use x=\"63.623047\" xlink:href=\"#DejaVuSans-48\"/>\r\n       <use x=\"127.246094\" xlink:href=\"#DejaVuSans-48\"/>\r\n      </g>\r\n     </g>\r\n    </g>\r\n    <g id=\"xtick_8\">\r\n     <g id=\"line2d_8\">\r\n      <g>\r\n       <use style=\"stroke:#000000;stroke-width:0.8;\" x=\"521.88625\" xlink:href=\"#ma28337dfd3\" y=\"429.150469\"/>\r\n      </g>\r\n     </g>\r\n     <g id=\"text_8\">\r\n      <!-- 700 -->\r\n      <g transform=\"translate(512.3425 443.748906)scale(0.1 -0.1)\">\r\n       <defs>\r\n        <path d=\"M 8.203125 72.90625 \r\nL 55.078125 72.90625 \r\nL 55.078125 68.703125 \r\nL 28.609375 0 \r\nL 18.3125 0 \r\nL 43.21875 64.59375 \r\nL 8.203125 64.59375 \r\nz\r\n\" id=\"DejaVuSans-55\"/>\r\n       </defs>\r\n       <use xlink:href=\"#DejaVuSans-55\"/>\r\n       <use x=\"63.623047\" xlink:href=\"#DejaVuSans-48\"/>\r\n       <use x=\"127.246094\" xlink:href=\"#DejaVuSans-48\"/>\r\n      </g>\r\n     </g>\r\n    </g>\r\n   </g>\r\n   <g id=\"matplotlib.axis_2\">\r\n    <g id=\"ytick_1\">\r\n     <g id=\"line2d_9\">\r\n      <defs>\r\n       <path d=\"M 0 0 \r\nL -3.5 0 \r\n\" id=\"mdb92d2ee16\" style=\"stroke:#000000;stroke-width:0.8;\"/>\r\n      </defs>\r\n      <g>\r\n       <use style=\"stroke:#000000;stroke-width:0.8;\" x=\"33.2875\" xlink:href=\"#mdb92d2ee16\" y=\"10.999219\"/>\r\n      </g>\r\n     </g>\r\n     <g id=\"text_9\">\r\n      <!-- 0 -->\r\n      <g transform=\"translate(19.925 14.798438)scale(0.1 -0.1)\">\r\n       <use xlink:href=\"#DejaVuSans-48\"/>\r\n      </g>\r\n     </g>\r\n    </g>\r\n    <g id=\"ytick_2\">\r\n     <g id=\"line2d_10\">\r\n      <g>\r\n       <use style=\"stroke:#000000;stroke-width:0.8;\" x=\"33.2875\" xlink:href=\"#mdb92d2ee16\" y=\"80.749219\"/>\r\n      </g>\r\n     </g>\r\n     <g id=\"text_10\">\r\n      <!-- 100 -->\r\n      <g transform=\"translate(7.2 84.548438)scale(0.1 -0.1)\">\r\n       <use xlink:href=\"#DejaVuSans-49\"/>\r\n       <use x=\"63.623047\" xlink:href=\"#DejaVuSans-48\"/>\r\n       <use x=\"127.246094\" xlink:href=\"#DejaVuSans-48\"/>\r\n      </g>\r\n     </g>\r\n    </g>\r\n    <g id=\"ytick_3\">\r\n     <g id=\"line2d_11\">\r\n      <g>\r\n       <use style=\"stroke:#000000;stroke-width:0.8;\" x=\"33.2875\" xlink:href=\"#mdb92d2ee16\" y=\"150.499219\"/>\r\n      </g>\r\n     </g>\r\n     <g id=\"text_11\">\r\n      <!-- 200 -->\r\n      <g transform=\"translate(7.2 154.298438)scale(0.1 -0.1)\">\r\n       <use xlink:href=\"#DejaVuSans-50\"/>\r\n       <use x=\"63.623047\" xlink:href=\"#DejaVuSans-48\"/>\r\n       <use x=\"127.246094\" xlink:href=\"#DejaVuSans-48\"/>\r\n      </g>\r\n     </g>\r\n    </g>\r\n    <g id=\"ytick_4\">\r\n     <g id=\"line2d_12\">\r\n      <g>\r\n       <use style=\"stroke:#000000;stroke-width:0.8;\" x=\"33.2875\" xlink:href=\"#mdb92d2ee16\" y=\"220.249219\"/>\r\n      </g>\r\n     </g>\r\n     <g id=\"text_12\">\r\n      <!-- 300 -->\r\n      <g transform=\"translate(7.2 224.048438)scale(0.1 -0.1)\">\r\n       <use xlink:href=\"#DejaVuSans-51\"/>\r\n       <use x=\"63.623047\" xlink:href=\"#DejaVuSans-48\"/>\r\n       <use x=\"127.246094\" xlink:href=\"#DejaVuSans-48\"/>\r\n      </g>\r\n     </g>\r\n    </g>\r\n    <g id=\"ytick_5\">\r\n     <g id=\"line2d_13\">\r\n      <g>\r\n       <use style=\"stroke:#000000;stroke-width:0.8;\" x=\"33.2875\" xlink:href=\"#mdb92d2ee16\" y=\"289.999219\"/>\r\n      </g>\r\n     </g>\r\n     <g id=\"text_13\">\r\n      <!-- 400 -->\r\n      <g transform=\"translate(7.2 293.798437)scale(0.1 -0.1)\">\r\n       <use xlink:href=\"#DejaVuSans-52\"/>\r\n       <use x=\"63.623047\" xlink:href=\"#DejaVuSans-48\"/>\r\n       <use x=\"127.246094\" xlink:href=\"#DejaVuSans-48\"/>\r\n      </g>\r\n     </g>\r\n    </g>\r\n    <g id=\"ytick_6\">\r\n     <g id=\"line2d_14\">\r\n      <g>\r\n       <use style=\"stroke:#000000;stroke-width:0.8;\" x=\"33.2875\" xlink:href=\"#mdb92d2ee16\" y=\"359.749219\"/>\r\n      </g>\r\n     </g>\r\n     <g id=\"text_14\">\r\n      <!-- 500 -->\r\n      <g transform=\"translate(7.2 363.548437)scale(0.1 -0.1)\">\r\n       <use xlink:href=\"#DejaVuSans-53\"/>\r\n       <use x=\"63.623047\" xlink:href=\"#DejaVuSans-48\"/>\r\n       <use x=\"127.246094\" xlink:href=\"#DejaVuSans-48\"/>\r\n      </g>\r\n     </g>\r\n    </g>\r\n   </g>\r\n   <g id=\"patch_3\">\r\n    <path d=\"M 33.2875 429.150469 \r\nL 33.2875 10.650469 \r\n\" style=\"fill:none;stroke:#000000;stroke-linecap:square;stroke-linejoin:miter;stroke-width:0.8;\"/>\r\n   </g>\r\n   <g id=\"patch_4\">\r\n    <path d=\"M 591.2875 429.150469 \r\nL 591.2875 10.650469 \r\n\" style=\"fill:none;stroke:#000000;stroke-linecap:square;stroke-linejoin:miter;stroke-width:0.8;\"/>\r\n   </g>\r\n   <g id=\"patch_5\">\r\n    <path d=\"M 33.2875 429.150469 \r\nL 591.2875 429.150469 \r\n\" style=\"fill:none;stroke:#000000;stroke-linecap:square;stroke-linejoin:miter;stroke-width:0.8;\"/>\r\n   </g>\r\n   <g id=\"patch_6\">\r\n    <path d=\"M 33.2875 10.650469 \r\nL 591.2875 10.650469 \r\n\" style=\"fill:none;stroke:#000000;stroke-linecap:square;stroke-linejoin:miter;stroke-width:0.8;\"/>\r\n   </g>\r\n  </g>\r\n </g>\r\n <defs>\r\n  <clipPath id=\"p6092c01688\">\r\n   <rect height=\"418.5\" width=\"558\" x=\"33.2875\" y=\"10.650469\"/>\r\n  </clipPath>\r\n </defs>\r\n</svg>\r\n",
      "text/plain": [
       "<Figure size 720x1080 with 1 Axes>"
      ]
     },
     "metadata": {
      "needs_background": "light"
     }
    }
   ],
   "metadata": {}
  },
  {
   "cell_type": "markdown",
   "source": [
    "# Step Function\r\n",
    "\r\n",
    "Now that we have the reset function out of the way, we begin work on implementing the step function, which will contain the code to transition our environment from one state to the next given an action. In many ways, this section is the proverbial meat of our environment, and this is where most of the planning goes.\r\n",
    "\r\n",
    "We first need to enlist things that need to happen in one transition step of the environment. This can be basically broken down into two parts:\r\n",
    "\r\n",
    "1. Applying actions to our agent.\r\n",
    "2. Everything else that happens in the environments, such as behaviour of the non-RL actors (e.g. birds and floating gas stations).\r\n",
    "\r\n",
    "So let's first focus on (1). We provide actions to the game that will control what our chopper does. We basically have 5 actions, which are move right, left, down, up, or do nothing, denoted by 0, 1, 2, 3, and 4, respectively.  \r\n",
    "\r\n",
    "We define a member function called get_action_meanings() that will tell us what integer each action is mapped to for our reference.\r\n",
    "\r\n"
   ],
   "metadata": {}
  },
  {
   "cell_type": "code",
   "execution_count": 117,
   "source": [
    "%%add_to ChopperScape\r\n",
    "\r\n",
    "def get_action_meanings(self):\r\n",
    "    return {0: \"Right\", 1: \"Left\", 2: \"Down\", 3: \"Up\", 4: \"Do Nothing\"}\r\n"
   ],
   "outputs": [],
   "metadata": {}
  },
  {
   "cell_type": "markdown",
   "source": [
    "Now that we have taken care of applying the action to the chopper, we focus on the other elements of the environment:\r\n",
    "\r\n",
    " - Birds spawn randomly from the right edge of the screen with a probability of 1% (i.e. a bird is likely to appear on the right edge once every hundred frames). The bird moves 5 coordinate points every frame to the left. If they hit the Chopper the game ends. Otherwise, they disappear from the game once they reach the left edge.\r\n",
    " - Fuel tanks spawn randomly from the bottom edge of the screen with a probability of 1 % (i.e. a fuel tank is likely to appear on the bottom edge once every hundred frames). The bird moves 5 co-ordinates up every frame. If they hit the Chopper, the Chopper is fuelled to its full capacity. Otherwise, they disappear from the game once they reach the top edge.\r\n",
    "\r\n",
    "In order to implement the features outlined above, we need to implement a helper function that helps us determine whether two Point objects (such as a Chopper/Bird, Chopper/Fuel Tank) have collided or not. How do we define a collision? We say that two points have collided when the distance between the coordinates of their centers is less than half of the sum of their dimensions. We call this function has_collided"
   ],
   "metadata": {}
  },
  {
   "cell_type": "code",
   "execution_count": 118,
   "source": [
    "%%add_to ChopperScape\r\n",
    "\r\n",
    "def has_collided(self, elem1, elem2):\r\n",
    "    x_col = False\r\n",
    "    y_col = False\r\n",
    "\r\n",
    "    elem1_x, elem1_y = elem1.get_position()\r\n",
    "    elem2_x, elem2_y = elem2.get_position()\r\n",
    "\r\n",
    "    if 2 * abs(elem1_x - elem2_x) <= (elem1.icon_w + elem2.icon_w):\r\n",
    "        x_col = True\r\n",
    "\r\n",
    "    if 2 * abs(elem1_y - elem2_y) <= (elem1.icon_h + elem2.icon_h):\r\n",
    "        y_col = True\r\n",
    "    \r\n",
    "    if x_col and y_col:\r\n",
    "        return True\r\n",
    "    \r\n",
    "    return False"
   ],
   "outputs": [],
   "metadata": {}
  },
  {
   "cell_type": "markdown",
   "source": [
    "Apart from this, we have to do some book-keeping. The reward for each step is 1, therefore, the episodic return counter is updated by 1 every episode. If there is a collision, the reward is -10 and the episode terminates. The fuel counter is reduced by 1 at every step.\r\n",
    "\r\n",
    "Finally, we implement our step function. I've wrote extensive comments to guide you through it."
   ],
   "metadata": {}
  },
  {
   "cell_type": "code",
   "execution_count": 119,
   "source": [
    "%%add_to ChopperScape\r\n",
    "\r\n",
    "def step(self, action):\r\n",
    "    # Flag that marks the termination of an episode\r\n",
    "    done = False\r\n",
    "    \r\n",
    "    # Assert that it is a valid action \r\n",
    "    assert self.action_space.contains(action), \"Invalid Action\"\r\n",
    "\r\n",
    "    # Decrease the fuel counter \r\n",
    "    self.fuel_left -= 1 \r\n",
    "    \r\n",
    "    # Reward for executing a step.\r\n",
    "    reward = 1      \r\n",
    "\r\n",
    "    # apply the action to the chopper\r\n",
    "    if action == 0:\r\n",
    "        self.chopper.move(0,5)\r\n",
    "    elif action == 1:\r\n",
    "        self.chopper.move(0,-5)\r\n",
    "    elif action == 2:\r\n",
    "        self.chopper.move(5,0)\r\n",
    "    elif action == 3:\r\n",
    "        self.chopper.move(-5,0)\r\n",
    "    elif action == 4:\r\n",
    "        self.chopper.move(0,0)\r\n",
    "\r\n",
    "    # Spawn a bird at the right edge with prob 0.01\r\n",
    "    if random.random() < 0.01:\r\n",
    "        \r\n",
    "        # Spawn a bird\r\n",
    "        spawned_bird = Bird(\"bird_{}\".format(self.bird_count), self.x_max, self.x_min, self.y_max, self.y_min)\r\n",
    "        self.bird_count += 1\r\n",
    "\r\n",
    "        # Compute the x,y co-ordinates of the position from where the bird has to be spawned\r\n",
    "        # Horizontally, the position is on the right edge and vertically, the height is randomly \r\n",
    "        # sampled from the set of permissible values\r\n",
    "        bird_x = self.x_max \r\n",
    "        bird_y = random.randrange(self.y_min, self.y_max)\r\n",
    "        spawned_bird.set_position(self.x_max, bird_y)\r\n",
    "        \r\n",
    "        # Append the spawned bird to the elements currently present in Env. \r\n",
    "        self.elements.append(spawned_bird)    \r\n",
    "\r\n",
    "    # Spawn a fuel at the bottom edge with prob 0.01\r\n",
    "    if random.random() < 0.01:\r\n",
    "        # Spawn a fuel tank\r\n",
    "        spawned_fuel = Fuel(\"fuel_{}\".format(self.bird_count), self.x_max, self.x_min, self.y_max, self.y_min)\r\n",
    "        self.fuel_count += 1\r\n",
    "        \r\n",
    "        # Compute the x,y co-ordinates of the position from where the fuel tank has to be spawned\r\n",
    "        # Horizontally, the position is randomly chosen from the list of permissible values and \r\n",
    "        # vertically, the position is on the bottom edge\r\n",
    "        fuel_x = random.randrange(self.x_min, self.x_max)\r\n",
    "        fuel_y = self.y_max\r\n",
    "        spawned_fuel.set_position(fuel_x, fuel_y)\r\n",
    "        \r\n",
    "        # Append the spawned fuel tank to the elemetns currently present in the Env.\r\n",
    "        self.elements.append(spawned_fuel)   \r\n",
    "\r\n",
    "    # For elements in the Ev\r\n",
    "    for elem in self.elements:\r\n",
    "        if isinstance(elem, Bird):\r\n",
    "            # If the bird has reached the left edge, remove it from the Env\r\n",
    "            if elem.get_position()[0] <= self.x_min:\r\n",
    "                self.elements.remove(elem)\r\n",
    "            else:\r\n",
    "                # Move the bird left by 5 pts.\r\n",
    "                elem.move(-5,0)\r\n",
    "            \r\n",
    "            # If the bird has collided.\r\n",
    "            if self.has_collided(self.chopper, elem):\r\n",
    "                # Conclude the episode and remove the chopper from the Env.\r\n",
    "                done = True\r\n",
    "                reward = -10\r\n",
    "                self.elements.remove(self.chopper)\r\n",
    "\r\n",
    "        if isinstance(elem, Fuel):\r\n",
    "            # If the fuel tank has reached the top, remove it from the Env\r\n",
    "            if elem.get_position()[1] <= self.y_min:\r\n",
    "                self.elements.remove(elem)\r\n",
    "            else:\r\n",
    "                # Move the Tank up by 5 pts.\r\n",
    "                elem.move(0, -5)\r\n",
    "                \r\n",
    "            # If the fuel tank has collided with the chopper.\r\n",
    "            if self.has_collided(self.chopper, elem):\r\n",
    "                # Remove the fuel tank from the env.\r\n",
    "                self.elements.remove(elem)\r\n",
    "                \r\n",
    "                # Fill the fuel tank of the chopper to full.\r\n",
    "                self.fuel_left = self.max_fuel\r\n",
    "    \r\n",
    "    # Increment the episodic return\r\n",
    "    self.ep_return += 1\r\n",
    "\r\n",
    "    # Draw elements on the canvas\r\n",
    "    self.draw_elements_on_canvas()\r\n",
    "\r\n",
    "    # If out of fuel, end the episode.\r\n",
    "    if self.fuel_left == 0:\r\n",
    "        done = True\r\n",
    "\r\n",
    "    return self.canvas, reward, done, {}"
   ],
   "outputs": [],
   "metadata": {}
  },
  {
   "cell_type": "code",
   "execution_count": 120,
   "source": [
    "from IPython import display\r\n",
    "\r\n",
    "env = ChopperScape()\r\n",
    "obs = env.reset()\r\n",
    "\r\n",
    "while True:\r\n",
    "    action = env.action_space.sample()\r\n",
    "    obs, reward, done, info = env.step(action)\r\n",
    "\r\n",
    "    env.render()\r\n",
    "\r\n",
    "    if done == True:\r\n",
    "        break\r\n",
    "\r\n",
    "env.close()"
   ],
   "outputs": [],
   "metadata": {}
  },
  {
   "cell_type": "code",
   "execution_count": 121,
   "source": [
    "from stable_baselines.common.env_checker import check_env"
   ],
   "outputs": [],
   "metadata": {}
  },
  {
   "cell_type": "code",
   "execution_count": 122,
   "source": [
    "env = ChopperScape()\r\n",
    "check_env(env, warn=True)"
   ],
   "outputs": [],
   "metadata": {}
  },
  {
   "cell_type": "code",
   "execution_count": null,
   "source": [],
   "outputs": [],
   "metadata": {}
  },
  {
   "cell_type": "code",
   "execution_count": null,
   "source": [],
   "outputs": [],
   "metadata": {}
  }
 ],
 "metadata": {
  "orig_nbformat": 4,
  "language_info": {
   "name": "python",
   "version": "3.8.10",
   "mimetype": "text/x-python",
   "codemirror_mode": {
    "name": "ipython",
    "version": 3
   },
   "pygments_lexer": "ipython3",
   "nbconvert_exporter": "python",
   "file_extension": ".py"
  },
  "kernelspec": {
   "name": "python3",
   "display_name": "Python 3.8.10 64-bit ('pytorch_env': conda)"
  },
  "interpreter": {
   "hash": "c833507e7eb7af7ca95c7423b09e2995fbfb15583771793a8991c1685b565bec"
  }
 },
 "nbformat": 4,
 "nbformat_minor": 2
}